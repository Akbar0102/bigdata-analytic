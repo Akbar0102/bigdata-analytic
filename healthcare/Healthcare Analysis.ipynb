{
 "cells": [
  {
   "cell_type": "markdown",
   "metadata": {},
   "source": [
    "# Analisis Pasien Rawat Inap RS\n",
    "### Deskripsi Dataset\n",
    "Dataset yang digunakan adalah dataset Hospital Inpatient Discharges (SPARCS De-Identified): 2016 yang didapatkan dari open data kesehatan New York State. Berikut ini adalah beberapa analisis yang dilakukan untuk mendapatkan insight dari dataset tersebut."
   ]
  },
  {
   "cell_type": "markdown",
   "metadata": {},
   "source": [
    "Sistem Kooperatif Penelitian dan Perencanaan Seluruh Negara Bagian (SPARCS) Rawat Inap diidentifikasi File berisi detail tingkat debit pada karakteristik pasien, diagnosis, perawatan, layanan, dan biaya. File data ini berisi detail level catatan dasar untuk debit. File data yang tidak diidentifikasi tidak berisi data yang dilindungi informasi kesehatan (PHI) di bawah HIPAA. Informasi kesehatan tidak dapat diidentifikasi secara individual; semua elemen data yang dianggap dapat diidentifikasi telah dihapus. Misalnya, pengidentifikasi langsung mengenai tanggal menghapus bagian hari dan bulan dari tanggal tersebut."
   ]
  },
  {
   "cell_type": "code",
   "execution_count": 1,
   "metadata": {},
   "outputs": [
    {
     "data": {
      "text/html": [
       "<script type=\"text/javascript\">window.PlotlyConfig = {MathJaxConfig: 'local'};</script><script type=\"text/javascript\">if (window.MathJax) {MathJax.Hub.Config({SVG: {font: \"STIX-Web\"}});}</script><script>requirejs.config({paths: { 'plotly': ['https://cdn.plot.ly/plotly-latest.min']},});if(!window._Plotly) {require(['plotly'],function(plotly) {window._Plotly=plotly;});}</script>"
      ],
      "text/vnd.plotly.v1+html": [
       "<script type=\"text/javascript\">window.PlotlyConfig = {MathJaxConfig: 'local'};</script><script type=\"text/javascript\">if (window.MathJax) {MathJax.Hub.Config({SVG: {font: \"STIX-Web\"}});}</script><script>requirejs.config({paths: { 'plotly': ['https://cdn.plot.ly/plotly-latest.min']},});if(!window._Plotly) {require(['plotly'],function(plotly) {window._Plotly=plotly;});}</script>"
      ]
     },
     "metadata": {},
     "output_type": "display_data"
    }
   ],
   "source": [
    "#import library\n",
    "from pyspark import SparkContext\n",
    "from pyspark.sql import SparkSession\n",
    "from pyspark.sql import SQLContext\n",
    "import pyspark.sql.functions as f\n",
    "from pyspark.sql.types import DateType\n",
    "from datetime import datetime\n",
    "\n",
    "import pandas as pd\n",
    "import matplotlib.pyplot as plt\n",
    "import numpy as np\n",
    "import seaborn as sns\n",
    "import json\n",
    "%matplotlib inline\n",
    "\n",
    "import plotly\n",
    "import plotly.plotly as py\n",
    "#plotly.tools.set_credentials_file(username='akbar0102', api_key='HhbZVjpsfob4yDF1aGpd')\n",
    "import plotly.graph_objs as go\n",
    "from plotly.offline import download_plotlyjs, init_notebook_mode, plot, iplot\n",
    "init_notebook_mode(connected=True)"
   ]
  },
  {
   "cell_type": "code",
   "execution_count": 2,
   "metadata": {},
   "outputs": [],
   "source": [
    "#buat objek spark\n",
    "spark = SparkSession.builder.appName('nyc_health').getOrCreate()\n",
    "sqlContext = SQLContext(spark)"
   ]
  },
  {
   "cell_type": "code",
   "execution_count": 3,
   "metadata": {},
   "outputs": [],
   "source": [
    "#read data csv\n",
    "rawat = spark.read.csv('raw_data/NYSDOH_Hospital_Inpatient_Discharges_SPARCS_De-Identified_2016.csv', inferSchema=True, header=True)"
   ]
  },
  {
   "cell_type": "code",
   "execution_count": 4,
   "metadata": {},
   "outputs": [
    {
     "name": "stdout",
     "output_type": "stream",
     "text": [
      "Data Rawat Inap 2343429 38\n"
     ]
    }
   ],
   "source": [
    "#lihat jumlah kolom dan rekord\n",
    "print('Data Rawat Inap',rawat.count(), len(rawat.columns))"
   ]
  },
  {
   "cell_type": "code",
   "execution_count": 5,
   "metadata": {},
   "outputs": [
    {
     "name": "stdout",
     "output_type": "stream",
     "text": [
      "root\n",
      " |-- Hospital Service Area: string (nullable = true)\n",
      " |-- Hospital County: string (nullable = true)\n",
      " |-- Operating Certificate Number: integer (nullable = true)\n",
      " |-- Permanent Facility Id: integer (nullable = true)\n",
      " |-- Facility Name: string (nullable = true)\n",
      " |-- Age Group: string (nullable = true)\n",
      " |-- Zip Code - 3 digits: string (nullable = true)\n",
      " |-- Gender: string (nullable = true)\n",
      " |-- Race: string (nullable = true)\n",
      " |-- Ethnicity: string (nullable = true)\n",
      " |-- Length of Stay: string (nullable = true)\n",
      " |-- Type of Admission: string (nullable = true)\n",
      " |-- Patient Disposition: string (nullable = true)\n",
      " |-- Discharge Year: integer (nullable = true)\n",
      " |-- CCS Diagnosis Code: integer (nullable = true)\n",
      " |-- CCS Diagnosis Description: string (nullable = true)\n",
      " |-- CCS Procedure Code: integer (nullable = true)\n",
      " |-- CCS Procedure Description: string (nullable = true)\n",
      " |-- APR DRG Code: integer (nullable = true)\n",
      " |-- APR DRG Description: string (nullable = true)\n",
      " |-- APR MDC Code: integer (nullable = true)\n",
      " |-- APR MDC Description: string (nullable = true)\n",
      " |-- APR Severity of Illness Code: integer (nullable = true)\n",
      " |-- APR Severity of Illness Description: string (nullable = true)\n",
      " |-- APR Risk of Mortality: string (nullable = true)\n",
      " |-- APR Medical Surgical Description: string (nullable = true)\n",
      " |-- Payment Typology 1: string (nullable = true)\n",
      " |-- Payment Typology 2: string (nullable = true)\n",
      " |-- Payment Typology 3: string (nullable = true)\n",
      " |-- Attending Provider License Number: integer (nullable = true)\n",
      " |-- Operating Provider License Number: integer (nullable = true)\n",
      " |-- Other Provider License Number: integer (nullable = true)\n",
      " |-- Birth Weight: integer (nullable = true)\n",
      " |-- Abortion Edit Indicator: string (nullable = true)\n",
      " |-- Emergency Department Indicator: string (nullable = true)\n",
      " |-- Total Charges: string (nullable = true)\n",
      " |-- Total Costs: string (nullable = true)\n",
      " |-- Ratio of Total Costs to Total Charges: double (nullable = true)\n",
      "\n"
     ]
    }
   ],
   "source": [
    "rawat.printSchema()"
   ]
  },
  {
   "cell_type": "markdown",
   "metadata": {},
   "source": [
    "### <font color=blue>*Analisis demografi pasien rawat inap* </font>"
   ]
  },
  {
   "cell_type": "markdown",
   "metadata": {},
   "source": [
    "#### *Bagaimana demografi karakteristik usia pasien rawat inap?* <br>\n",
    "Pasien paling banyak yang menjalani rawat inap adalah pasien dengan rentang usia 50-69 tahun kemudian dengan perbedaan sedikit ada pada rentang usia 70-lebih tua, sementara remaja yang berusia 18-29 tahun yang paling sedikit menjalani rawat inap."
   ]
  },
  {
   "cell_type": "code",
   "execution_count": 82,
   "metadata": {},
   "outputs": [],
   "source": [
    "# rentang usia pasien bagi laki-laki dan perempuan\n",
    "df = rawat.groupBy('Age Group').count().sort('Age Group')\n",
    "#df = df.toPandas()"
   ]
  },
  {
   "cell_type": "code",
   "execution_count": 7,
   "metadata": {
    "scrolled": true
   },
   "outputs": [
    {
     "data": {
      "application/vnd.plotly.v1+json": {
       "config": {
        "linkText": "Export to plot.ly",
        "plotlyServerURL": "https://plot.ly",
        "showLink": false
       },
       "data": [
        {
         "type": "bar",
         "uid": "cb567802-ea96-43ea-92bf-61e90c4c038d",
         "x": [
          "0 to 17",
          "18 to 29",
          "30 to 49",
          "50 to 69",
          "70 or Older"
         ],
         "y": [
          347635,
          243645,
          454931,
          654530,
          642688
         ]
        }
       ],
       "layout": {
        "title": {
         "text": "Rentang Usia Pasien 2016"
        }
       }
      },
      "text/html": [
       "<div id=\"2a8b4505-226c-4396-8e2b-a3711397a470\" style=\"height: 525px; width: 100%;\" class=\"plotly-graph-div\"></div><script type=\"text/javascript\">require([\"plotly\"], function(Plotly) { window.PLOTLYENV=window.PLOTLYENV || {};window.PLOTLYENV.BASE_URL=\"https://plot.ly\";Plotly.newPlot(\"2a8b4505-226c-4396-8e2b-a3711397a470\", [{\"x\": [\"0 to 17\", \"18 to 29\", \"30 to 49\", \"50 to 69\", \"70 or Older\"], \"type\": \"bar\", \"y\": [347635, 243645, 454931, 654530, 642688], \"uid\": \"cb567802-ea96-43ea-92bf-61e90c4c038d\"}], {\"title\": {\"text\": \"Rentang Usia Pasien 2016\"}}, {\"showLink\": false, \"linkText\": \"Export to plot.ly\", \"plotlyServerURL\": \"https://plot.ly\"})});</script><script type=\"text/javascript\">window.addEventListener(\"resize\", function(){window._Plotly.Plots.resize(document.getElementById(\"2a8b4505-226c-4396-8e2b-a3711397a470\"));});</script>"
      ],
      "text/vnd.plotly.v1+html": [
       "<div id=\"2a8b4505-226c-4396-8e2b-a3711397a470\" style=\"height: 525px; width: 100%;\" class=\"plotly-graph-div\"></div><script type=\"text/javascript\">require([\"plotly\"], function(Plotly) { window.PLOTLYENV=window.PLOTLYENV || {};window.PLOTLYENV.BASE_URL=\"https://plot.ly\";Plotly.newPlot(\"2a8b4505-226c-4396-8e2b-a3711397a470\", [{\"x\": [\"0 to 17\", \"18 to 29\", \"30 to 49\", \"50 to 69\", \"70 or Older\"], \"type\": \"bar\", \"y\": [347635, 243645, 454931, 654530, 642688], \"uid\": \"cb567802-ea96-43ea-92bf-61e90c4c038d\"}], {\"title\": {\"text\": \"Rentang Usia Pasien 2016\"}}, {\"showLink\": false, \"linkText\": \"Export to plot.ly\", \"plotlyServerURL\": \"https://plot.ly\"})});</script><script type=\"text/javascript\">window.addEventListener(\"resize\", function(){window._Plotly.Plots.resize(document.getElementById(\"2a8b4505-226c-4396-8e2b-a3711397a470\"));});</script>"
      ]
     },
     "metadata": {},
     "output_type": "display_data"
    }
   ],
   "source": [
    "trace0 = go.Bar(\n",
    "    x=df['Age Group'],\n",
    "    y=df['count']\n",
    ")\n",
    "\n",
    "data = [trace0]\n",
    "layout = go.Layout(\n",
    "    title='Rentang Usia Pasien 2016',\n",
    ")\n",
    "\n",
    "fig = go.Figure(data=data, layout=layout)\n",
    "iplot(fig, filename='age-group-patient')"
   ]
  },
  {
   "cell_type": "code",
   "execution_count": 84,
   "metadata": {},
   "outputs": [],
   "source": [
    "# export dataframe ke json\n",
    "results = df.toJSON().map(lambda j: json.loads(j)).collect()\n",
    "# write file json ke lokal\n",
    "with open('pasien_usia_2016.json', 'w') as f:\n",
    "     json.dump(results, f)"
   ]
  },
  {
   "cell_type": "markdown",
   "metadata": {},
   "source": [
    "#### *Bagaimana demografi karakteristik jenis kelamin pasien rawat inap?*\n",
    "Sebagian besar pasien rawat inap adalah wanita sebesar 55%, dibanding pria hanya sekitar 44,5%. Jumlah pasien wanita terbanyak karena salah satu kasus yang sering dilayani di rumah sakit adalah proses persalinan."
   ]
  },
  {
   "cell_type": "code",
   "execution_count": 85,
   "metadata": {},
   "outputs": [],
   "source": [
    "# pasien berdasarkan jenis kelamin\n",
    "gender = rawat.groupBy('Gender').count()\n",
    "#gender = gender.toPandas()"
   ]
  },
  {
   "cell_type": "code",
   "execution_count": 8,
   "metadata": {
    "scrolled": true
   },
   "outputs": [
    {
     "data": {
      "application/vnd.plotly.v1+json": {
       "config": {
        "linkText": "Export to plot.ly",
        "plotlyServerURL": "https://plot.ly",
        "showLink": false
       },
       "data": [
        {
         "labels": [
          "F",
          "M",
          "U"
         ],
         "type": "pie",
         "uid": "d5d325a2-a611-4248-b419-16efb5c8e941",
         "values": [
          1301671,
          1041701,
          57
         ]
        }
       ],
       "layout": {
        "title": {
         "text": "Jenis Kelamin Pasien 2016"
        }
       }
      },
      "text/html": [
       "<div id=\"1c1517bb-326c-4926-8890-6419e8bb6063\" style=\"height: 525px; width: 100%;\" class=\"plotly-graph-div\"></div><script type=\"text/javascript\">require([\"plotly\"], function(Plotly) { window.PLOTLYENV=window.PLOTLYENV || {};window.PLOTLYENV.BASE_URL=\"https://plot.ly\";Plotly.newPlot(\"1c1517bb-326c-4926-8890-6419e8bb6063\", [{\"uid\": \"d5d325a2-a611-4248-b419-16efb5c8e941\", \"labels\": [\"F\", \"M\", \"U\"], \"type\": \"pie\", \"values\": [1301671, 1041701, 57]}], {\"title\": {\"text\": \"Jenis Kelamin Pasien 2016\"}}, {\"linkText\": \"Export to plot.ly\", \"plotlyServerURL\": \"https://plot.ly\", \"showLink\": false})});</script><script type=\"text/javascript\">window.addEventListener(\"resize\", function(){window._Plotly.Plots.resize(document.getElementById(\"1c1517bb-326c-4926-8890-6419e8bb6063\"));});</script>"
      ],
      "text/vnd.plotly.v1+html": [
       "<div id=\"1c1517bb-326c-4926-8890-6419e8bb6063\" style=\"height: 525px; width: 100%;\" class=\"plotly-graph-div\"></div><script type=\"text/javascript\">require([\"plotly\"], function(Plotly) { window.PLOTLYENV=window.PLOTLYENV || {};window.PLOTLYENV.BASE_URL=\"https://plot.ly\";Plotly.newPlot(\"1c1517bb-326c-4926-8890-6419e8bb6063\", [{\"uid\": \"d5d325a2-a611-4248-b419-16efb5c8e941\", \"labels\": [\"F\", \"M\", \"U\"], \"type\": \"pie\", \"values\": [1301671, 1041701, 57]}], {\"title\": {\"text\": \"Jenis Kelamin Pasien 2016\"}}, {\"linkText\": \"Export to plot.ly\", \"plotlyServerURL\": \"https://plot.ly\", \"showLink\": false})});</script><script type=\"text/javascript\">window.addEventListener(\"resize\", function(){window._Plotly.Plots.resize(document.getElementById(\"1c1517bb-326c-4926-8890-6419e8bb6063\"));});</script>"
      ]
     },
     "metadata": {},
     "output_type": "display_data"
    }
   ],
   "source": [
    "trace0 = go.Pie(\n",
    "    labels=gender['Gender'],\n",
    "    values=gender['count']\n",
    ")\n",
    "\n",
    "data = [trace0]\n",
    "layout = go.Layout(\n",
    "    title='Jenis Kelamin Pasien 2016',\n",
    ")\n",
    "\n",
    "fig = go.Figure(data=data, layout=layout)\n",
    "iplot(fig, filename='age-group-patient')"
   ]
  },
  {
   "cell_type": "code",
   "execution_count": 86,
   "metadata": {},
   "outputs": [],
   "source": [
    "# export dataframe ke json\n",
    "results = gender.toJSON().map(lambda j: json.loads(j)).collect()\n",
    "# write file json ke lokal\n",
    "with open('pasien_gender.json', 'w') as f:\n",
    "     json.dump(results, f)"
   ]
  },
  {
   "cell_type": "markdown",
   "metadata": {},
   "source": [
    "#### *Bagaimana demografi karakteristik ras pasien rawat inap?*"
   ]
  },
  {
   "cell_type": "code",
   "execution_count": 9,
   "metadata": {},
   "outputs": [],
   "source": [
    "# ras pasien\n",
    "ras = rawat.groupBy('Race').count()\n",
    "ras = ras.toPandas()"
   ]
  },
  {
   "cell_type": "code",
   "execution_count": 10,
   "metadata": {
    "scrolled": true
   },
   "outputs": [
    {
     "data": {
      "application/vnd.plotly.v1+json": {
       "config": {
        "linkText": "Export to plot.ly",
        "plotlyServerURL": "https://plot.ly",
        "showLink": false
       },
       "data": [
        {
         "labels": [
          "Other Race",
          "Multi-racial",
          "White",
          "Black/African American"
         ],
         "type": "pie",
         "uid": "e9f5bcd9-3a8e-433f-93fe-fea924fc0cab",
         "values": [
          563342,
          29283,
          1320275,
          430529
         ]
        }
       ],
       "layout": {
        "title": {
         "text": "Ras Pasien 2016"
        }
       }
      },
      "text/html": [
       "<div id=\"9f3fac45-4eb6-4ea2-8575-9a609ce26417\" style=\"height: 525px; width: 100%;\" class=\"plotly-graph-div\"></div><script type=\"text/javascript\">require([\"plotly\"], function(Plotly) { window.PLOTLYENV=window.PLOTLYENV || {};window.PLOTLYENV.BASE_URL=\"https://plot.ly\";Plotly.newPlot(\"9f3fac45-4eb6-4ea2-8575-9a609ce26417\", [{\"uid\": \"e9f5bcd9-3a8e-433f-93fe-fea924fc0cab\", \"labels\": [\"Other Race\", \"Multi-racial\", \"White\", \"Black/African American\"], \"type\": \"pie\", \"values\": [563342, 29283, 1320275, 430529]}], {\"title\": {\"text\": \"Ras Pasien 2016\"}}, {\"linkText\": \"Export to plot.ly\", \"plotlyServerURL\": \"https://plot.ly\", \"showLink\": false})});</script><script type=\"text/javascript\">window.addEventListener(\"resize\", function(){window._Plotly.Plots.resize(document.getElementById(\"9f3fac45-4eb6-4ea2-8575-9a609ce26417\"));});</script>"
      ],
      "text/vnd.plotly.v1+html": [
       "<div id=\"9f3fac45-4eb6-4ea2-8575-9a609ce26417\" style=\"height: 525px; width: 100%;\" class=\"plotly-graph-div\"></div><script type=\"text/javascript\">require([\"plotly\"], function(Plotly) { window.PLOTLYENV=window.PLOTLYENV || {};window.PLOTLYENV.BASE_URL=\"https://plot.ly\";Plotly.newPlot(\"9f3fac45-4eb6-4ea2-8575-9a609ce26417\", [{\"uid\": \"e9f5bcd9-3a8e-433f-93fe-fea924fc0cab\", \"labels\": [\"Other Race\", \"Multi-racial\", \"White\", \"Black/African American\"], \"type\": \"pie\", \"values\": [563342, 29283, 1320275, 430529]}], {\"title\": {\"text\": \"Ras Pasien 2016\"}}, {\"linkText\": \"Export to plot.ly\", \"plotlyServerURL\": \"https://plot.ly\", \"showLink\": false})});</script><script type=\"text/javascript\">window.addEventListener(\"resize\", function(){window._Plotly.Plots.resize(document.getElementById(\"9f3fac45-4eb6-4ea2-8575-9a609ce26417\"));});</script>"
      ]
     },
     "metadata": {},
     "output_type": "display_data"
    }
   ],
   "source": [
    "trace0 = go.Pie(\n",
    "    labels=ras['Race'],\n",
    "    values=ras['count']\n",
    ")\n",
    "\n",
    "data = [trace0]\n",
    "layout = go.Layout(\n",
    "    title='Ras Pasien 2016',\n",
    ")\n",
    "\n",
    "fig = go.Figure(data=data, layout=layout)\n",
    "iplot(fig, filename='race-group-patient')"
   ]
  },
  {
   "cell_type": "code",
   "execution_count": 11,
   "metadata": {},
   "outputs": [],
   "source": [
    "# jenis kelamin untuk setiap ras\n",
    "frace = rawat.filter(rawat['Gender']=='F').groupBy('Race').count()\n",
    "mrace = rawat.filter(rawat['Gender']=='M').groupBy('Race').count()\n",
    "frace = frace.toPandas()\n",
    "mrace = mrace.toPandas()"
   ]
  },
  {
   "cell_type": "code",
   "execution_count": 12,
   "metadata": {
    "scrolled": true
   },
   "outputs": [
    {
     "data": {
      "application/vnd.plotly.v1+json": {
       "config": {
        "linkText": "Export to plot.ly",
        "plotlyServerURL": "https://plot.ly",
        "showLink": false
       },
       "data": [
        {
         "domain": {
          "x": [
           0,
           0.48
          ]
         },
         "hole": 0.4,
         "hoverinfo": "label+percent+name",
         "labels": [
          "Other Race",
          "Multi-racial",
          "White",
          "Black/African American"
         ],
         "name": "Male",
         "type": "pie",
         "uid": "7209bd4b-70db-4e10-9899-1b8352e7d84b",
         "values": [
          247131,
          12858,
          593919,
          187793
         ]
        },
        {
         "domain": {
          "x": [
           0.52,
           1
          ]
         },
         "hole": 0.4,
         "hoverinfo": "label+percent+name",
         "labels": [
          "Other Race",
          "Multi-racial",
          "White",
          "Black/African American"
         ],
         "name": "Female",
         "textposition": "inside",
         "type": "pie",
         "uid": "26df0dac-f8d7-4033-9e7f-08a6c1266bc2",
         "values": [
          316192,
          16425,
          726330,
          242724
         ]
        }
       ],
       "layout": {
        "annotations": [
         {
          "font": {
           "size": 20
          },
          "showarrow": false,
          "text": "Male",
          "x": 0.2,
          "y": 0.5
         },
         {
          "font": {
           "size": 20
          },
          "showarrow": false,
          "text": "Female",
          "x": 0.8,
          "y": 0.5
         }
        ],
        "title": {
         "text": "Ras Pasien Jenis Kelamin 2016"
        }
       }
      },
      "text/html": [
       "<div id=\"d3c3fd6b-0e2d-48ad-83bf-79a7a196ff71\" style=\"height: 525px; width: 100%;\" class=\"plotly-graph-div\"></div><script type=\"text/javascript\">require([\"plotly\"], function(Plotly) { window.PLOTLYENV=window.PLOTLYENV || {};window.PLOTLYENV.BASE_URL=\"https://plot.ly\";Plotly.newPlot(\"d3c3fd6b-0e2d-48ad-83bf-79a7a196ff71\", [{\"uid\": \"38346bef-fe58-463d-b0d0-6d7df079c6c1\", \"labels\": [\"Other Race\", \"Multi-racial\", \"White\", \"Black/African American\"], \"type\": \"pie\", \"hoverinfo\": \"label+percent+name\", \"hole\": 0.4, \"name\": \"Male\", \"domain\": {\"x\": [0, 0.48]}, \"values\": [247131, 12858, 593919, 187793]}, {\"uid\": \"68927080-b9af-47f3-ac27-357171528617\", \"labels\": [\"Other Race\", \"Multi-racial\", \"White\", \"Black/African American\"], \"textposition\": \"inside\", \"hoverinfo\": \"label+percent+name\", \"hole\": 0.4, \"name\": \"Female\", \"type\": \"pie\", \"domain\": {\"x\": [0.52, 1]}, \"values\": [316192, 16425, 726330, 242724]}], {\"title\": {\"text\": \"Ras Pasien Jenis Kelamin 2016\"}, \"annotations\": [{\"x\": 0.2, \"text\": \"Male\", \"y\": 0.5, \"font\": {\"size\": 20}, \"showarrow\": false}, {\"x\": 0.8, \"text\": \"Female\", \"y\": 0.5, \"font\": {\"size\": 20}, \"showarrow\": false}]}, {\"linkText\": \"Export to plot.ly\", \"plotlyServerURL\": \"https://plot.ly\", \"showLink\": false})});</script><script type=\"text/javascript\">window.addEventListener(\"resize\", function(){window._Plotly.Plots.resize(document.getElementById(\"d3c3fd6b-0e2d-48ad-83bf-79a7a196ff71\"));});</script>"
      ],
      "text/vnd.plotly.v1+html": [
       "<div id=\"d3c3fd6b-0e2d-48ad-83bf-79a7a196ff71\" style=\"height: 525px; width: 100%;\" class=\"plotly-graph-div\"></div><script type=\"text/javascript\">require([\"plotly\"], function(Plotly) { window.PLOTLYENV=window.PLOTLYENV || {};window.PLOTLYENV.BASE_URL=\"https://plot.ly\";Plotly.newPlot(\"d3c3fd6b-0e2d-48ad-83bf-79a7a196ff71\", [{\"uid\": \"38346bef-fe58-463d-b0d0-6d7df079c6c1\", \"labels\": [\"Other Race\", \"Multi-racial\", \"White\", \"Black/African American\"], \"type\": \"pie\", \"hoverinfo\": \"label+percent+name\", \"hole\": 0.4, \"name\": \"Male\", \"domain\": {\"x\": [0, 0.48]}, \"values\": [247131, 12858, 593919, 187793]}, {\"uid\": \"68927080-b9af-47f3-ac27-357171528617\", \"labels\": [\"Other Race\", \"Multi-racial\", \"White\", \"Black/African American\"], \"textposition\": \"inside\", \"hoverinfo\": \"label+percent+name\", \"hole\": 0.4, \"name\": \"Female\", \"type\": \"pie\", \"domain\": {\"x\": [0.52, 1]}, \"values\": [316192, 16425, 726330, 242724]}], {\"title\": {\"text\": \"Ras Pasien Jenis Kelamin 2016\"}, \"annotations\": [{\"x\": 0.2, \"text\": \"Male\", \"y\": 0.5, \"font\": {\"size\": 20}, \"showarrow\": false}, {\"x\": 0.8, \"text\": \"Female\", \"y\": 0.5, \"font\": {\"size\": 20}, \"showarrow\": false}]}, {\"linkText\": \"Export to plot.ly\", \"plotlyServerURL\": \"https://plot.ly\", \"showLink\": false})});</script><script type=\"text/javascript\">window.addEventListener(\"resize\", function(){window._Plotly.Plots.resize(document.getElementById(\"d3c3fd6b-0e2d-48ad-83bf-79a7a196ff71\"));});</script>"
      ]
     },
     "metadata": {},
     "output_type": "display_data"
    }
   ],
   "source": [
    "fig = {\n",
    "  \"data\": [\n",
    "    {\n",
    "      \"values\": mrace['count'],\n",
    "      \"labels\": mrace['Race'],\n",
    "      \"domain\": {\"x\": [0, .48]},\n",
    "      \"name\": \"Male\",\n",
    "      \"hoverinfo\":\"label+percent+name\",\n",
    "      \"hole\": .4,\n",
    "      \"type\": \"pie\"\n",
    "    },\n",
    "    {\n",
    "      \"values\": frace['count'],\n",
    "      \"labels\": frace['Race'],\n",
    "      \"textposition\":\"inside\",\n",
    "      \"domain\": {\"x\": [.52, 1]},\n",
    "      \"name\": \"Female\",\n",
    "      \"hoverinfo\":\"label+percent+name\",\n",
    "      \"hole\": .4,\n",
    "      \"type\": \"pie\"\n",
    "    }],\n",
    "  \"layout\": {\n",
    "        \"title\":\"Ras Pasien Jenis Kelamin 2016\",\n",
    "        \"annotations\": [\n",
    "            {\n",
    "                \"font\": {\n",
    "                    \"size\": 20\n",
    "                },\n",
    "                \"showarrow\": False,\n",
    "                \"text\": \"Male\",\n",
    "                \"x\": 0.20,\n",
    "                \"y\": 0.5\n",
    "            },\n",
    "            {\n",
    "                \"font\": {\n",
    "                    \"size\": 20\n",
    "                },\n",
    "                \"showarrow\": False,\n",
    "                \"text\": \"Female\",\n",
    "                \"x\": 0.8,\n",
    "                \"y\": 0.5\n",
    "            }\n",
    "        ]\n",
    "    }\n",
    "}\n",
    "iplot(fig, filename='donut-patient-race')"
   ]
  },
  {
   "cell_type": "code",
   "execution_count": 20,
   "metadata": {},
   "outputs": [],
   "source": [
    "# rentang usia berdasarkan jenis kelamin\n",
    "male = rawat.filter(rawat['Gender']=='M').groupBy('Age Group','Gender').count()\n",
    "female = rawat.filter(rawat['Gender']=='F').groupBy('Age Group', 'Gender').count()\n",
    "#male = male.toPandas()\n",
    "#female = female.toPandas()"
   ]
  },
  {
   "cell_type": "code",
   "execution_count": 22,
   "metadata": {},
   "outputs": [],
   "source": [
    "df_concat = male.union(female)"
   ]
  },
  {
   "cell_type": "code",
   "execution_count": 24,
   "metadata": {},
   "outputs": [
    {
     "name": "stdout",
     "output_type": "stream",
     "text": [
      "+-----------+------+------+\n",
      "|  Age Group|Gender| count|\n",
      "+-----------+------+------+\n",
      "|    0 to 17|     M|180107|\n",
      "|   18 to 29|     M| 67581|\n",
      "|70 or Older|     M|278745|\n",
      "|   50 to 69|     M|348822|\n",
      "|   30 to 49|     M|166446|\n",
      "|   30 to 49|     F|288479|\n",
      "|    0 to 17|     F|167496|\n",
      "|70 or Older|     F|363936|\n",
      "|   18 to 29|     F|176062|\n",
      "|   50 to 69|     F|305698|\n",
      "+-----------+------+------+\n",
      "\n"
     ]
    }
   ],
   "source": [
    "df_concat.show()"
   ]
  },
  {
   "cell_type": "code",
   "execution_count": 14,
   "metadata": {
    "scrolled": true
   },
   "outputs": [
    {
     "data": {
      "application/vnd.plotly.v1+json": {
       "config": {
        "linkText": "Export to plot.ly",
        "plotlyServerURL": "https://plot.ly",
        "showLink": false
       },
       "data": [
        {
         "name": "Male",
         "type": "bar",
         "uid": "54bb0b57-76bf-4099-b2c1-07a5f252cadd",
         "x": [
          "0 to 17",
          "18 to 29",
          "50 to 69",
          "70 or Older",
          "30 to 49"
         ],
         "y": [
          180107,
          67581,
          348822,
          278745,
          166446
         ]
        },
        {
         "name": "Female",
         "type": "bar",
         "uid": "69e2e6f5-95ec-4cc0-8970-38046d5dc8e0",
         "x": [
          "0 to 17",
          "18 to 29",
          "50 to 69",
          "70 or Older",
          "30 to 49"
         ],
         "y": [
          167496,
          176062,
          305698,
          363936,
          288479
         ]
        }
       ],
       "layout": {
        "barmode": "stack",
        "title": {
         "text": "Jenis Kelamin Rentang Usia Pasien"
        }
       }
      },
      "text/html": [
       "<div id=\"5c96008e-da35-4d8c-9e56-c0348c1fff15\" style=\"height: 525px; width: 100%;\" class=\"plotly-graph-div\"></div><script type=\"text/javascript\">require([\"plotly\"], function(Plotly) { window.PLOTLYENV=window.PLOTLYENV || {};window.PLOTLYENV.BASE_URL=\"https://plot.ly\";Plotly.newPlot(\"5c96008e-da35-4d8c-9e56-c0348c1fff15\", [{\"uid\": \"54bb0b57-76bf-4099-b2c1-07a5f252cadd\", \"x\": [\"0 to 17\", \"18 to 29\", \"50 to 69\", \"70 or Older\", \"30 to 49\"], \"type\": \"bar\", \"y\": [180107, 67581, 348822, 278745, 166446], \"name\": \"Male\"}, {\"uid\": \"69e2e6f5-95ec-4cc0-8970-38046d5dc8e0\", \"x\": [\"0 to 17\", \"18 to 29\", \"50 to 69\", \"70 or Older\", \"30 to 49\"], \"type\": \"bar\", \"y\": [167496, 176062, 305698, 363936, 288479], \"name\": \"Female\"}], {\"title\": {\"text\": \"Jenis Kelamin Rentang Usia Pasien\"}, \"barmode\": \"stack\"}, {\"linkText\": \"Export to plot.ly\", \"plotlyServerURL\": \"https://plot.ly\", \"showLink\": false})});</script><script type=\"text/javascript\">window.addEventListener(\"resize\", function(){window._Plotly.Plots.resize(document.getElementById(\"5c96008e-da35-4d8c-9e56-c0348c1fff15\"));});</script>"
      ],
      "text/vnd.plotly.v1+html": [
       "<div id=\"5c96008e-da35-4d8c-9e56-c0348c1fff15\" style=\"height: 525px; width: 100%;\" class=\"plotly-graph-div\"></div><script type=\"text/javascript\">require([\"plotly\"], function(Plotly) { window.PLOTLYENV=window.PLOTLYENV || {};window.PLOTLYENV.BASE_URL=\"https://plot.ly\";Plotly.newPlot(\"5c96008e-da35-4d8c-9e56-c0348c1fff15\", [{\"uid\": \"54bb0b57-76bf-4099-b2c1-07a5f252cadd\", \"x\": [\"0 to 17\", \"18 to 29\", \"50 to 69\", \"70 or Older\", \"30 to 49\"], \"type\": \"bar\", \"y\": [180107, 67581, 348822, 278745, 166446], \"name\": \"Male\"}, {\"uid\": \"69e2e6f5-95ec-4cc0-8970-38046d5dc8e0\", \"x\": [\"0 to 17\", \"18 to 29\", \"50 to 69\", \"70 or Older\", \"30 to 49\"], \"type\": \"bar\", \"y\": [167496, 176062, 305698, 363936, 288479], \"name\": \"Female\"}], {\"title\": {\"text\": \"Jenis Kelamin Rentang Usia Pasien\"}, \"barmode\": \"stack\"}, {\"linkText\": \"Export to plot.ly\", \"plotlyServerURL\": \"https://plot.ly\", \"showLink\": false})});</script><script type=\"text/javascript\">window.addEventListener(\"resize\", function(){window._Plotly.Plots.resize(document.getElementById(\"5c96008e-da35-4d8c-9e56-c0348c1fff15\"));});</script>"
      ]
     },
     "metadata": {},
     "output_type": "display_data"
    }
   ],
   "source": [
    "trace1 = go.Bar(\n",
    "    x=male['Age Group'],\n",
    "    y=male['count'],\n",
    "    name='Male'\n",
    ")\n",
    "trace2 = go.Bar(\n",
    "    x=female['Age Group'],\n",
    "    y=female['count'],\n",
    "    name='Female'\n",
    ")\n",
    "\n",
    "data = [trace1, trace2]\n",
    "layout = go.Layout(\n",
    "    barmode='stack',\n",
    "    title='Jenis Kelamin Rentang Usia Pasien'\n",
    ")\n",
    "\n",
    "fig = go.Figure(data=data, layout=layout)\n",
    "iplot(fig, filename='sex-age-patient')"
   ]
  },
  {
   "cell_type": "code",
   "execution_count": 23,
   "metadata": {},
   "outputs": [],
   "source": [
    "# export dataframe ke json\n",
    "results = df_concat.toJSON().map(lambda j: json.loads(j)).collect()\n",
    "# write file json ke lokal\n",
    "with open('pasien-jenis-kelamin-usia.json', 'w') as f:\n",
    "     json.dump(results, f)"
   ]
  },
  {
   "cell_type": "markdown",
   "metadata": {},
   "source": [
    "### <font color=blue>*Analisis alasan penyebab pasien dirawat inap dan perawatannya* </font>"
   ]
  },
  {
   "cell_type": "markdown",
   "metadata": {},
   "source": [
    "#### *Pasien dengan tipe penerimaan apa yang paling banyak diterima oleh rumah sakit?*\n",
    "Pasien rawat inap paling banyak masuk ke rumah sakit dengan kondisi darurat, yang membutuhkan penanganan segera."
   ]
  },
  {
   "cell_type": "code",
   "execution_count": 88,
   "metadata": {},
   "outputs": [],
   "source": [
    "# jenis penerimaan pasien rawat inap\n",
    "admission = rawat.groupBy('Type of Admission').count().sort('count',ascending=False)"
   ]
  },
  {
   "cell_type": "code",
   "execution_count": 89,
   "metadata": {},
   "outputs": [],
   "source": [
    "# export dataframe ke json\n",
    "results = admission.toJSON().map(lambda j: json.loads(j)).collect()\n",
    "# write file json ke lokal\n",
    "with open('pasien_admission.json', 'w') as f:\n",
    "     json.dump(results, f)"
   ]
  },
  {
   "cell_type": "markdown",
   "metadata": {},
   "source": [
    "#### *Apa saja kondisi klinis yang mengakibatkan rawat inap darurat?*\n",
    "Pasien yang paling banyak membutuhkan rawat inap darurat adalah penyakit keracunan darah, selanjutnya gagal jantung. Beberapa penyakit tersebut merupakan penyakit yang harus segera ditangani untuk menyelamatkan pasien."
   ]
  },
  {
   "cell_type": "code",
   "execution_count": 6,
   "metadata": {},
   "outputs": [],
   "source": [
    "# cara pasien dirawat di fasilitas perawatan kesehatan, menggunakan fasilitas dengan kategori emergency\n",
    "# berdasarkan penyakitnya \n",
    "# pasien dengan penyakit/diagnostik apa yang perlu fasilitas emergency atau harus segera dilakukan penanganan?\n",
    "emergensi = rawat.filter(rawat['Type of Admission']=='Emergency').groupBy('APR DRG Description').count().sort('count',ascending=False).limit(20)"
   ]
  },
  {
   "cell_type": "code",
   "execution_count": 9,
   "metadata": {},
   "outputs": [],
   "source": [
    "emergensi = emergensi.toPandas()"
   ]
  },
  {
   "cell_type": "code",
   "execution_count": 10,
   "metadata": {},
   "outputs": [],
   "source": [
    "emergensi.to_json(path_or_buf='pasien_admission_emergensi.json',orient='table')"
   ]
  },
  {
   "cell_type": "code",
   "execution_count": 91,
   "metadata": {},
   "outputs": [],
   "source": [
    "# export dataframe ke json\n",
    "results = emergensi.toJSON().map(lambda j: json.loads(j)).collect()\n",
    "# write file json ke lokal\n",
    "with open('pasien_admission_emergency.json', 'w') as f:\n",
    "     json.dump(results, f)"
   ]
  },
  {
   "cell_type": "markdown",
   "metadata": {},
   "source": [
    "#### *Alasan apa yang paling sering menyebabkan pasien dirawat di rumah sakit?*"
   ]
  },
  {
   "cell_type": "code",
   "execution_count": 13,
   "metadata": {},
   "outputs": [],
   "source": [
    "ccs_diagnostik = rawat.groupBy('CCS Diagnosis Description').count().sort('count',ascending=False).limit(10)"
   ]
  },
  {
   "cell_type": "code",
   "execution_count": 14,
   "metadata": {},
   "outputs": [],
   "source": [
    "# export dataframe ke json\n",
    "results = ccs_diagnostik.toJSON().map(lambda j: json.loads(j)).collect()\n",
    "# write file json ke lokal\n",
    "with open('pasien_diagnostik.json', 'w') as f:\n",
    "     json.dump(results, f)"
   ]
  },
  {
   "cell_type": "markdown",
   "metadata": {},
   "source": [
    "#### *Prosedur utama apa yang paling sering dilakukan?*"
   ]
  },
  {
   "cell_type": "code",
   "execution_count": 20,
   "metadata": {},
   "outputs": [
    {
     "name": "stdout",
     "output_type": "stream",
     "text": [
      "+-------------------------+------+\n",
      "|CCS Procedure Description| count|\n",
      "+-------------------------+------+\n",
      "|                  NO PROC|696951|\n",
      "|     OTHER THERAPEUTIC...|154778|\n",
      "|     OT PRCS TO ASSIST...|110287|\n",
      "|         CESAREAN SECTION| 72617|\n",
      "|     RESP INTUB/MECH V...| 71616|\n",
      "|     PROPHYLACTIC VAC/...| 67692|\n",
      "|     ALCO/DRUG REHAB/D...| 59688|\n",
      "|     PSYCHO/PSYCHI EVA...| 50991|\n",
      "|             CIRCUMCISION| 46574|\n",
      "|        BLOOD TRANSFUSION| 40130|\n",
      "|     OPHTHALM-/OT-OLOG...| 40124|\n",
      "|        ARTHROPLASTY KNEE| 39347|\n",
      "|     HIP REPLACEMENT,T...| 32645|\n",
      "|     DX CARDIAC CATHET...| 31025|\n",
      "|      DX ULTRASOUND HEART| 26713|\n",
      "|     OT VASC CATH; NOT...| 26590|\n",
      "|             HEMODIALYSIS| 25652|\n",
      "|     PERC TRANSLUM COR...| 23599|\n",
      "|            SPINAL FUSION| 23414|\n",
      "|     UP GASTRO ENDOSC/...| 19383|\n",
      "+-------------------------+------+\n",
      "only showing top 20 rows\n",
      "\n"
     ]
    }
   ],
   "source": [
    "rawat.groupBy('CCS Procedure Description').count().sort('count',ascending=False).show()"
   ]
  },
  {
   "cell_type": "code",
   "execution_count": null,
   "metadata": {},
   "outputs": [],
   "source": []
  },
  {
   "cell_type": "markdown",
   "metadata": {},
   "source": [
    "#### *Saat pasien pulang, perawatan apa yang paling banyak dilakukan selanjutnya?*\n",
    "Setelah menjalani proses rawat inap, perawatan lanjutan bagi pasien paling banyak adalah perawatan lanjutan di rumah secara mandiri. Baik itu menggunakan perawat atau tidak."
   ]
  },
  {
   "cell_type": "code",
   "execution_count": 16,
   "metadata": {},
   "outputs": [],
   "source": [
    "# tujuan atau status pasien setelah keluar dari rs untuk melanjutkan perawatannya\n",
    "# penyakit tertentu misalnya(jantung) paling banyak perawatan apa yang dilakukan setelah pasien pulang?\n",
    "disposisi=rawat.groupBy('Patient Disposition').count().sort('count',ascending=False).limit(10)"
   ]
  },
  {
   "cell_type": "code",
   "execution_count": 17,
   "metadata": {},
   "outputs": [],
   "source": [
    "# export dataframe ke json\n",
    "results = disposisi.toJSON().map(lambda j: json.loads(j)).collect()\n",
    "# write file json ke lokal\n",
    "with open('pasien_disposisi.json', 'w') as f:\n",
    "     json.dump(results, f)"
   ]
  },
  {
   "cell_type": "markdown",
   "metadata": {},
   "source": [
    "#### *Metode pembayaran apa yang paling sering digunakan oleh pasien?*"
   ]
  },
  {
   "cell_type": "code",
   "execution_count": 14,
   "metadata": {},
   "outputs": [
    {
     "name": "stdout",
     "output_type": "stream",
     "text": [
      "+--------------------+------+\n",
      "|  Payment Typology 1| count|\n",
      "+--------------------+------+\n",
      "|            Medicare|884212|\n",
      "|            Medicaid|723774|\n",
      "|Private Health In...|333581|\n",
      "|Blue Cross/Blue S...|271620|\n",
      "|            Self-Pay| 54795|\n",
      "| Miscellaneous/Other| 27758|\n",
      "|Managed Care, Uns...| 20288|\n",
      "|Federal/State/Loc...| 16576|\n",
      "|             Unknown|  6896|\n",
      "|Department of Cor...|  3929|\n",
      "+--------------------+------+\n",
      "\n"
     ]
    }
   ],
   "source": [
    "# metode pembayaran apa yang sering atau paling banyak digunakan oleh pasien?\n",
    "# sebagai informasi penting untuk penyedia jasa pembayaran, misalnya penyakit jantung lebih sering menggunakan pembayaran tertentu.\n",
    "# sehingga bisa untuk mengambil keputusan\n",
    "rawat.groupBy('Payment Typology 1').count().sort('count',ascending=False).show()"
   ]
  },
  {
   "cell_type": "code",
   "execution_count": null,
   "metadata": {},
   "outputs": [],
   "source": []
  },
  {
   "cell_type": "markdown",
   "metadata": {},
   "source": [
    "### <font color=blue>*Analisis penyakit tertentu* </font>"
   ]
  },
  {
   "cell_type": "markdown",
   "metadata": {},
   "source": [
    "#### *Persebaran penyakit asma pada rentang usia berapa terbanyak?*\n"
   ]
  },
  {
   "cell_type": "code",
   "execution_count": 13,
   "metadata": {},
   "outputs": [
    {
     "name": "stdout",
     "output_type": "stream",
     "text": [
      "+-------------------+------------+-----------+-----+\n",
      "|APR DRG Description|APR DRG Code|  Age Group|count|\n",
      "+-------------------+------------+-----------+-----+\n",
      "|             Asthma|         141|    0 to 17| 9814|\n",
      "|             Asthma|         141|   50 to 69| 4414|\n",
      "|             Asthma|         141|   30 to 49| 3452|\n",
      "|             Asthma|         141|70 or Older| 1957|\n",
      "|             Asthma|         141|   18 to 29| 1685|\n",
      "+-------------------+------------+-----------+-----+\n",
      "\n"
     ]
    }
   ],
   "source": [
    "# Semua Kategori Diagnostik Utama Pasien yang Disempurnakan, diagnostik penyakit tertentu\n",
    "# Asma\n",
    "# penyakit apa yang paling banyak diagnostiknya menuruta rentang usia pasien?\n",
    "rawat.filter(rawat['CCS Diagnosis Code'] == 128).select('APR DRG Description', 'APR DRG Code', 'Age Group')\\\n",
    "    .groupBy('APR DRG Description', 'APR DRG Code','Age Group').count().sort('count',ascending=False).limit(5).show()"
   ]
  },
  {
   "cell_type": "code",
   "execution_count": null,
   "metadata": {},
   "outputs": [],
   "source": []
  },
  {
   "cell_type": "markdown",
   "metadata": {},
   "source": [
    "#### *Kondisi kesehatan Sistem Peredaran Darah*\n",
    "Diagnostik kesehatan peredaran darah paling banyak adalah gagal jantung, kemudian beberapa penyakit yang berkaitan dengan jantung."
   ]
  },
  {
   "cell_type": "code",
   "execution_count": 16,
   "metadata": {},
   "outputs": [
    {
     "name": "stdout",
     "output_type": "stream",
     "text": [
      "+-------------------+-----------+-----+\n",
      "|APR DRG Description|  Age Group|count|\n",
      "+-------------------+-----------+-----+\n",
      "|      Heart failure|70 or Older|37426|\n",
      "|      Heart failure|   50 to 69|16237|\n",
      "|      Heart failure|   30 to 49| 2784|\n",
      "|      Heart failure|   18 to 29|  194|\n",
      "|      Heart failure|    0 to 17|   67|\n",
      "+-------------------+-----------+-----+\n",
      "\n"
     ]
    }
   ],
   "source": [
    "rawat.filter((rawat['APR MDC Code'] == 5) & (rawat['APR DRG Code'] == 194)).select('APR DRG Description','Age Group')\\\n",
    "    .groupBy('APR DRG Description','Age Group').count().sort('count',ascending=False).show()"
   ]
  },
  {
   "cell_type": "code",
   "execution_count": null,
   "metadata": {},
   "outputs": [],
   "source": []
  },
  {
   "cell_type": "markdown",
   "metadata": {},
   "source": [
    "### <font color=blue>*Analisis kewilayahan (daerah) rumah sakit* </font>"
   ]
  },
  {
   "cell_type": "markdown",
   "metadata": {},
   "source": [
    "#### *Ranking daerah berdasarkan pasien yang keluar dari rumah sakit?*"
   ]
  },
  {
   "cell_type": "code",
   "execution_count": 25,
   "metadata": {},
   "outputs": [
    {
     "name": "stdout",
     "output_type": "stream",
     "text": [
      "+---------------+------+\n",
      "|Hospital County| count|\n",
      "+---------------+------+\n",
      "|      Manhattan|394810|\n",
      "|          Kings|239213|\n",
      "|         Queens|200711|\n",
      "|          Bronx|183279|\n",
      "|         Nassau|182237|\n",
      "|        Suffolk|160835|\n",
      "|           Erie|123687|\n",
      "|    Westchester|118970|\n",
      "|         Monroe|110162|\n",
      "|       Onondaga| 79794|\n",
      "+---------------+------+\n",
      "only showing top 10 rows\n",
      "\n"
     ]
    }
   ],
   "source": [
    "rawat.groupBy('Hospital County').count().sort('count',ascending=False).show(10)"
   ]
  },
  {
   "cell_type": "code",
   "execution_count": null,
   "metadata": {},
   "outputs": [],
   "source": []
  },
  {
   "cell_type": "code",
   "execution_count": 26,
   "metadata": {},
   "outputs": [
    {
     "name": "stdout",
     "output_type": "stream",
     "text": [
      "+---------------------+---------------+------+\n",
      "|Hospital Service Area|Hospital County| count|\n",
      "+---------------------+---------------+------+\n",
      "|        New York City|      Manhattan|394810|\n",
      "|        New York City|          Kings|239213|\n",
      "|        New York City|         Queens|200711|\n",
      "|        New York City|          Bronx|183279|\n",
      "|          Long Island|         Nassau|182237|\n",
      "+---------------------+---------------+------+\n",
      "only showing top 5 rows\n",
      "\n"
     ]
    }
   ],
   "source": [
    "rawat.groupBy('Hospital Service Area','Hospital County').count().sort('count',ascending=False).show(5)"
   ]
  },
  {
   "cell_type": "code",
   "execution_count": null,
   "metadata": {},
   "outputs": [],
   "source": []
  },
  {
   "cell_type": "markdown",
   "metadata": {},
   "source": [
    "#### *Rawat inap berdasarkan ukuran rumah sakit (jumlah kasur dan service yang tersedia)?*"
   ]
  },
  {
   "cell_type": "code",
   "execution_count": 13,
   "metadata": {},
   "outputs": [
    {
     "name": "stdout",
     "output_type": "stream",
     "text": [
      "+--------------------+---------------------+-----+\n",
      "|       Facility Name|Permanent Facility Id|count|\n",
      "+--------------------+---------------------+-----+\n",
      "|Mount Sinai Hospital|                 1456|56201|\n",
      "|North Shore Unive...|                  541|48909|\n",
      "|New York Presbyte...|                 1464|47686|\n",
      "|Montefiore Medica...|                 1169|42669|\n",
      "|Long Island Jewis...|                 1630|42390|\n",
      "|Strong Memorial H...|                  413|41671|\n",
      "|Maimonides Medica...|                 1305|41525|\n",
      "|New York Presbyte...|                 1458|40577|\n",
      "|Albany Medical Ce...|                    1|38988|\n",
      "|NewYork-Presbyter...|                 1306|38506|\n",
      "|Winthrop-Universi...|                  511|35830|\n",
      "| University Hospital|                  245|33937|\n",
      "|NYU Hospitals Center|                 1463|32902|\n",
      "|Rochester General...|                  411|31829|\n",
      "|New York Hospital...|                 1637|31436|\n",
      "| Lenox Hill Hospital|                 1450|31209|\n",
      "|Staten Island Uni...|                 1740|30974|\n",
      "|Mount Sinai Beth ...|                 1439|30011|\n",
      "|Montefiore Med Ce...|                 3058|29882|\n",
      "|  St Peters Hospital|                    5|27743|\n",
      "+--------------------+---------------------+-----+\n",
      "only showing top 20 rows\n",
      "\n"
     ]
    }
   ],
   "source": [
    "rawat.groupBy('Facility Name', 'Permanent Facility Id').count().sort('count',ascending=False).show()"
   ]
  },
  {
   "cell_type": "code",
   "execution_count": 79,
   "metadata": {},
   "outputs": [
    {
     "name": "stdout",
     "output_type": "stream",
     "text": [
      "+--------------------+------+\n",
      "|            Facility|   Bed|\n",
      "+--------------------+------+\n",
      "|Mount Sinai Hospital|1134.0|\n",
      "|Long Island Jewis...|1025.0|\n",
      "|New York Presbyte...|1022.0|\n",
      "|Bellevue Hospital...| 912.0|\n",
      "|New York Presbyte...| 862.0|\n",
      "|Strong Memorial H...| 846.0|\n",
      "|NYU Langone Hospi...| 844.0|\n",
      "|Hebrew Home for t...| 843.0|\n",
      "|Montefiore Medica...| 816.0|\n",
      "|Coler Rehabilitat...| 815.0|\n",
      "|The Plaza Rehab a...| 744.0|\n",
      "|North Shore Unive...| 738.0|\n",
      "|Kings Harbor Mult...| 720.0|\n",
      "|Albany Medical Ce...| 716.0|\n",
      "|Maimonides Medica...| 711.0|\n",
      "|Isabella Geriatri...| 705.0|\n",
      "|Mount Sinai Beth ...| 701.0|\n",
      "|Westchester Medic...| 652.0|\n",
      "|Kings County Hosp...| 639.0|\n",
      "| Lenox Hill Hospital| 632.0|\n",
      "+--------------------+------+\n",
      "only showing top 20 rows\n",
      "\n"
     ]
    }
   ],
   "source": [
    "fasilitas.select(f.col(\"Facility Name\").alias(\"Facility\"), f.col(\"sum(Measure Value)\").alias(\"Bed\")).show()"
   ]
  },
  {
   "cell_type": "code",
   "execution_count": null,
   "metadata": {},
   "outputs": [],
   "source": [
    "# hospital bed\n",
    "# large > 100\n",
    "# small <= 100"
   ]
  },
  {
   "cell_type": "code",
   "execution_count": null,
   "metadata": {},
   "outputs": [],
   "source": []
  },
  {
   "cell_type": "code",
   "execution_count": null,
   "metadata": {},
   "outputs": [],
   "source": []
  },
  {
   "cell_type": "markdown",
   "metadata": {},
   "source": [
    "#### *Pasien rawat inap berdasarkan lokasi rumah sakit?*"
   ]
  },
  {
   "cell_type": "code",
   "execution_count": 12,
   "metadata": {},
   "outputs": [
    {
     "name": "stdout",
     "output_type": "stream",
     "text": [
      "+---------------+-------------------------+-----+\n",
      "|Hospital County|CCS Diagnosis Description|count|\n",
      "+---------------+-------------------------+-----+\n",
      "|      Manhattan|           Osteoarthritis|17219|\n",
      "|      Manhattan|     Septicemia (excep...|11894|\n",
      "|         Queens|     Septicemia (excep...|11088|\n",
      "|          Kings|     Septicemia (excep...|10684|\n",
      "|         Nassau|     Septicemia (excep...| 9517|\n",
      "|      Manhattan|     Complication of d...| 9299|\n",
      "|        Suffolk|     Septicemia (excep...| 8848|\n",
      "|      Manhattan|     Spondylosis; inte...| 8261|\n",
      "|      Manhattan|     Schizophrenia and...| 8052|\n",
      "|      Manhattan|     Other complicatio...| 7775|\n",
      "|          Kings|     Schizophrenia and...| 7597|\n",
      "|      Manhattan|     Alcohol-related d...| 7591|\n",
      "|      Manhattan|     Coronary atherosc...| 7519|\n",
      "|      Manhattan|     Complications of ...| 7403|\n",
      "|      Manhattan|           Mood disorders| 7264|\n",
      "|      Manhattan|      Prolonged pregnancy| 6903|\n",
      "|         Monroe|     Septicemia (excep...| 6709|\n",
      "|      Manhattan|     Polyhydramnios an...| 6430|\n",
      "|          Bronx|     Septicemia (excep...| 6371|\n",
      "|    Westchester|           Mood disorders| 6218|\n",
      "+---------------+-------------------------+-----+\n",
      "\n"
     ]
    }
   ],
   "source": [
    "# penyakit apa yang paling banyak di diagnostik menurut county?\n",
    "# bisa menjadi masukan kepada pemerintah setempat, untuk meningkatkan fasilitas atau melakukan pencegahan tertentu\n",
    "# dalam mengambil keputusan terkait penyakit atau diagnostik yang paling banyak\n",
    "rawat.filter(rawat['CCS Diagnosis Description']!='Liveborn').groupBy('Hospital County','CCS Diagnosis Description').count().sort('count',ascending=False).limit(20).show()"
   ]
  },
  {
   "cell_type": "code",
   "execution_count": 10,
   "metadata": {},
   "outputs": [],
   "source": [
    "# rata-rata lama menginap pasien yang terdiagnosis penyakit tertentu\n",
    "los = rawat.groupBy('Length of Stay','APR DRG Description').count().sort('Length of Stay',ascending=False)"
   ]
  },
  {
   "cell_type": "code",
   "execution_count": 11,
   "metadata": {},
   "outputs": [
    {
     "name": "stdout",
     "output_type": "stream",
     "text": [
      "+--------------+--------------------+-----+\n",
      "|Length of Stay| APR DRG Description|count|\n",
      "+--------------+--------------------+-----+\n",
      "|            99|Skin graft, excep...|    1|\n",
      "|            99|Infectious & para...|    3|\n",
      "|            99|Neonate birthwt 5...|    5|\n",
      "|            99|Female reproducti...|    1|\n",
      "|            99|Septicemia & diss...|    1|\n",
      "+--------------+--------------------+-----+\n",
      "only showing top 5 rows\n",
      "\n"
     ]
    }
   ],
   "source": [
    "los.show(5)"
   ]
  },
  {
   "cell_type": "code",
   "execution_count": 23,
   "metadata": {},
   "outputs": [
    {
     "name": "stdout",
     "output_type": "stream",
     "text": [
      "+-------------+--------+\n",
      "|Total Charges|replaced|\n",
      "+-------------+--------+\n",
      "|     3,913.23| 3913.23|\n",
      "|     3,597.10| 3597.10|\n",
      "|     9,149.22| 9149.22|\n",
      "|     5,880.61| 5880.61|\n",
      "|     7,019.76| 7019.76|\n",
      "|     2,258.92| 2258.92|\n",
      "|     3,211.73| 3211.73|\n",
      "|     4,010.26| 4010.26|\n",
      "|     4,049.92| 4049.92|\n",
      "|     4,875.97| 4875.97|\n",
      "|     6,066.93| 6066.93|\n",
      "|     2,168.93| 2168.93|\n",
      "|     3,549.64| 3549.64|\n",
      "|     3,665.16| 3665.16|\n",
      "|     4,734.03| 4734.03|\n",
      "|     5,525.80| 5525.80|\n",
      "|     1,702.20| 1702.20|\n",
      "|     2,424.34| 2424.34|\n",
      "|     2,030.05| 2030.05|\n",
      "|     2,412.45| 2412.45|\n",
      "+-------------+--------+\n",
      "only showing top 20 rows\n",
      "\n"
     ]
    }
   ],
   "source": [
    "# menghapus simbol dollar\n",
    "rawat.select(\"Total Charges\", f.regexp_replace(f.col(\"Total Charges\"), \"[\\$#,]\", \"\").alias(\"replaced\")).show()"
   ]
  },
  {
   "cell_type": "code",
   "execution_count": null,
   "metadata": {},
   "outputs": [],
   "source": []
  },
  {
   "cell_type": "code",
   "execution_count": null,
   "metadata": {},
   "outputs": [],
   "source": []
  },
  {
   "cell_type": "code",
   "execution_count": null,
   "metadata": {},
   "outputs": [],
   "source": []
  },
  {
   "cell_type": "code",
   "execution_count": null,
   "metadata": {},
   "outputs": [],
   "source": []
  },
  {
   "cell_type": "markdown",
   "metadata": {},
   "source": [
    "### Analisis Informasi Umum Fasilitas Kesehatan\n",
    "Dataset ini berisi lokasi Pasal 28, Pasal 36 dan Pasal 40 fasilitas dan program layanan kesehatan dari Sistem Informasi Fasilitas Kesehatan (HFIS). Fasilitas Pasal 28 adalah rumah sakit, panti jompo, dan pusat perawatan diagnostik. Pasal 36 fasilitas adalah agen perawatan kesehatan rumah bersertifikat dan program perawatan kesehatan rumah jangka panjang. Fasilitas Pasal 40 adalah hospis. Dataset saat ini hanya berisi lokasi rumah sakit dan klinik ekstensi rumah sakit. Data untuk jenis fasilitas yang tersisa akan ditambahkan di masa mendatang."
   ]
  },
  {
   "cell_type": "code",
   "execution_count": null,
   "metadata": {},
   "outputs": [],
   "source": [
    "# Health Facility General Information\n",
    "# Health Facility Certification Information"
   ]
  },
  {
   "cell_type": "code",
   "execution_count": 6,
   "metadata": {},
   "outputs": [],
   "source": [
    "health_general = spark.read.csv('raw_data/Health_Facility_General_Information.csv', inferSchema=True, header=True)\n",
    "health_cert = spark.read.csv('raw_data/Health_Facility_Certification_Information.csv', inferSchema=True, header=True)"
   ]
  },
  {
   "cell_type": "code",
   "execution_count": 14,
   "metadata": {},
   "outputs": [
    {
     "name": "stdout",
     "output_type": "stream",
     "text": [
      "root\n",
      " |-- Facility ID: integer (nullable = true)\n",
      " |-- Facility Name: string (nullable = true)\n",
      " |-- Short Description: string (nullable = true)\n",
      " |-- Description: string (nullable = true)\n",
      " |-- Facility Open Date: string (nullable = true)\n",
      " |-- Facility Address 1: string (nullable = true)\n",
      " |-- Facility Address 2: string (nullable = true)\n",
      " |-- Facility City: string (nullable = true)\n",
      " |-- Facility State: string (nullable = true)\n",
      " |-- Facility Zip Code: string (nullable = true)\n",
      " |-- Facility Phone Number: long (nullable = true)\n",
      " |-- Facility Fax Number: long (nullable = true)\n",
      " |-- Facility Website: string (nullable = true)\n",
      " |-- Facility County Code: integer (nullable = true)\n",
      " |-- Facility County: string (nullable = true)\n",
      " |-- Regional Office ID: integer (nullable = true)\n",
      " |-- Regional Office: string (nullable = true)\n",
      " |-- Main Site Name: string (nullable = true)\n",
      " |-- Main Site Facility ID: integer (nullable = true)\n",
      " |-- Operating Certificate Number: string (nullable = true)\n",
      " |-- Operator Name: string (nullable = true)\n",
      " |-- Operator Address 1: string (nullable = true)\n",
      " |-- Operator Address 2: string (nullable = true)\n",
      " |-- Operator City: string (nullable = true)\n",
      " |-- Operator State: string (nullable = true)\n",
      " |-- Operator Zip Code: string (nullable = true)\n",
      " |-- Cooperator Name: string (nullable = true)\n",
      " |-- Cooperator Address: string (nullable = true)\n",
      " |-- Cooperator Address 2: string (nullable = true)\n",
      " |-- Cooperator City: string (nullable = true)\n",
      " |-- Cooperator State: string (nullable = true)\n",
      " |-- Cooperator Zip Code: integer (nullable = true)\n",
      " |-- Ownership Type: string (nullable = true)\n",
      " |-- Facility Latitude: double (nullable = true)\n",
      " |-- Facility Longitude: double (nullable = true)\n",
      " |-- Facility Location: string (nullable = true)\n",
      "\n"
     ]
    }
   ],
   "source": [
    "health_general.printSchema()"
   ]
  },
  {
   "cell_type": "code",
   "execution_count": 16,
   "metadata": {},
   "outputs": [
    {
     "name": "stdout",
     "output_type": "stream",
     "text": [
      "root\n",
      " |-- Facility ID: integer (nullable = true)\n",
      " |-- Facility Name: string (nullable = true)\n",
      " |-- Description: string (nullable = true)\n",
      " |-- Short Description: string (nullable = true)\n",
      " |-- Attribute Type: string (nullable = true)\n",
      " |-- Attribute Value: string (nullable = true)\n",
      " |-- Measure Value: string (nullable = true)\n",
      " |-- Sub Type: string (nullable = true)\n",
      " |-- County: string (nullable = true)\n",
      " |-- Regional Office: string (nullable = true)\n",
      " |-- Effective Date: string (nullable = true)\n",
      "\n"
     ]
    }
   ],
   "source": [
    "health_cert.printSchema()"
   ]
  },
  {
   "cell_type": "code",
   "execution_count": 7,
   "metadata": {},
   "outputs": [],
   "source": [
    "changedTypedf = health_cert.withColumn(\"Measure Value\", f.col(\"Measure Value\").cast(\"double\"))"
   ]
  },
  {
   "cell_type": "code",
   "execution_count": 8,
   "metadata": {},
   "outputs": [],
   "source": [
    "# jumlah kasur yang dimiliki semua fasilitas kesehatan seluruh NY\n",
    "fasilitas = changedTypedf.filter(changedTypedf['Attribute Type']=='Bed').groupBy('Facility Name', 'Facility ID').sum('Measure Value')\\\n",
    "    .sort('sum(Measure Value)', ascending=False)\n",
    "fasilitas.registerTempTable('fasilitas')"
   ]
  },
  {
   "cell_type": "code",
   "execution_count": 9,
   "metadata": {},
   "outputs": [],
   "source": [
    "tes = rawat.select('Facility Name', 'Permanent Facility Id').distinct()"
   ]
  },
  {
   "cell_type": "code",
   "execution_count": 10,
   "metadata": {},
   "outputs": [
    {
     "name": "stdout",
     "output_type": "stream",
     "text": [
      "+--------------------+---------------------+\n",
      "|       Facility Name|Permanent Facility Id|\n",
      "+--------------------+---------------------+\n",
      "|Albany Medical Ce...|                    1|\n",
      "+--------------------+---------------------+\n",
      "\n"
     ]
    }
   ],
   "source": [
    "tes.filter(tes['Permanent Facility Id'] == 1).show()"
   ]
  },
  {
   "cell_type": "code",
   "execution_count": 11,
   "metadata": {},
   "outputs": [
    {
     "name": "stdout",
     "output_type": "stream",
     "text": [
      "+--------------------+------+\n",
      "|            Facility|   Bed|\n",
      "+--------------------+------+\n",
      "|Mount Sinai Hospital|1134.0|\n",
      "|Long Island Jewis...|1025.0|\n",
      "|New York Presbyte...|1022.0|\n",
      "|Bellevue Hospital...| 912.0|\n",
      "|New York Presbyte...| 862.0|\n",
      "|Strong Memorial H...| 846.0|\n",
      "|NYU Langone Hospi...| 844.0|\n",
      "|Hebrew Home for t...| 843.0|\n",
      "|Montefiore Medica...| 816.0|\n",
      "|Coler Rehabilitat...| 815.0|\n",
      "|The Plaza Rehab a...| 744.0|\n",
      "|North Shore Unive...| 738.0|\n",
      "|Kings Harbor Mult...| 720.0|\n",
      "|Albany Medical Ce...| 716.0|\n",
      "|Maimonides Medica...| 711.0|\n",
      "|Isabella Geriatri...| 705.0|\n",
      "|Mount Sinai Beth ...| 701.0|\n",
      "|Westchester Medic...| 652.0|\n",
      "|Kings County Hosp...| 639.0|\n",
      "| Lenox Hill Hospital| 632.0|\n",
      "+--------------------+------+\n",
      "only showing top 20 rows\n",
      "\n"
     ]
    }
   ],
   "source": [
    "fasilitas.select(f.col(\"Facility Name\").alias(\"Facility\"), f.col(\"sum(Measure Value)\").alias(\"Bed\")).show()"
   ]
  },
  {
   "cell_type": "code",
   "execution_count": 34,
   "metadata": {},
   "outputs": [
    {
     "name": "stdout",
     "output_type": "stream",
     "text": [
      "+--------------------+------------------+\n",
      "|       Facility Name|sum(Measure Value)|\n",
      "+--------------------+------------------+\n",
      "|Adirondack Medica...|              95.0|\n",
      "|Albany Medical Ce...|              18.0|\n",
      "|Albany Medical Ce...|             716.0|\n",
      "|Albany Memorial H...|             165.0|\n",
      "|Alice Hyde Medica...|              76.0|\n",
      "|Arnot Ogden Medic...|             266.0|\n",
      "|Auburn Community ...|              99.0|\n",
      "|Aurelia Osborn Fo...|              53.0|\n",
      "|Bellevue Hospital...|             912.0|\n",
      "|Bertrand Chaffee ...|              24.0|\n",
      "|Blythedale Childr...|              86.0|\n",
      "|Bon Secours Commu...|             122.0|\n",
      "|BronxCare Hospita...|             585.0|\n",
      "|Brookdale Hospita...|             530.0|\n",
      "|Brooklyn Hospital...|             464.0|\n",
      "|Brooks-TLC Hospit...|             130.0|\n",
      "|Buffalo General M...|             484.0|\n",
      "|    Calvary Hospital|              25.0|\n",
      "|Calvary Hospital Inc|             200.0|\n",
      "|Canton-Potsdam Ho...|              94.0|\n",
      "+--------------------+------------------+\n",
      "only showing top 20 rows\n",
      "\n"
     ]
    }
   ],
   "source": [
    "# jumlah kasur yang dimiliki semua fasilitas kesehatan rumah sakit seluruh NY\n",
    "changedTypedf.filter((changedTypedf['Attribute Type']=='Bed') & (changedTypedf['Description']=='Hospital'))\\\n",
    "    .groupBy('Facility Name').sum('Measure Value')\\\n",
    "    .sort('Facility Name').show()"
   ]
  },
  {
   "cell_type": "code",
   "execution_count": 27,
   "metadata": {},
   "outputs": [
    {
     "name": "stdout",
     "output_type": "stream",
     "text": [
      "+-----------+------------------+\n",
      "|     County|sum(Measure Value)|\n",
      "+-----------+------------------+\n",
      "|     Albany|            3226.0|\n",
      "|   Allegany|             437.0|\n",
      "|      Bronx|           15314.0|\n",
      "|     Broome|            2354.0|\n",
      "|Cattaraugus|             738.0|\n",
      "|     Cayuga|             611.0|\n",
      "| Chautauqua|            1375.0|\n",
      "|    Chemung|            1101.0|\n",
      "|   Chenango|             622.0|\n",
      "|    Clinton|             810.0|\n",
      "|   Columbia|             880.0|\n",
      "|   Cortland|             562.0|\n",
      "|   Delaware|             441.0|\n",
      "|   Dutchess|            2662.0|\n",
      "|       Erie|            8452.0|\n",
      "|      Essex|             365.0|\n",
      "|   Franklin|             366.0|\n",
      "|     Fulton|             442.0|\n",
      "|    Genesee|             621.0|\n",
      "|     Greene|             256.0|\n",
      "+-----------+------------------+\n",
      "only showing top 20 rows\n",
      "\n"
     ]
    }
   ],
   "source": [
    "# jumlah fasilitas kasur yang dimiliki per daerah di New York State\n",
    "changedTypedf.filter(changedTypedf['Attribute Type']=='Bed').groupBy('County').sum('Measure Value')\\\n",
    "    .sort('County').show()"
   ]
  },
  {
   "cell_type": "code",
   "execution_count": 30,
   "metadata": {},
   "outputs": [
    {
     "name": "stdout",
     "output_type": "stream",
     "text": [
      "+--------------------+-----+\n",
      "|     Regional Office|count|\n",
      "+--------------------+-----+\n",
      "|Capital District ...| 3132|\n",
      "|Western Regional ...| 2758|\n",
      "|Metropolitan Area...| 3717|\n",
      "|Western Regional ...| 2424|\n",
      "|Metropolitan Area...| 3113|\n",
      "|Metropolitan Area...|10439|\n",
      "|Central New York ...| 3843|\n",
      "+--------------------+-----+\n",
      "\n"
     ]
    }
   ],
   "source": [
    "# jumlah seluruh fasilitas kesehatan untuk setiap region di NY\n",
    "changedTypedf.groupBy('Regional Office').count().show()"
   ]
  },
  {
   "cell_type": "code",
   "execution_count": 32,
   "metadata": {},
   "outputs": [
    {
     "name": "stdout",
     "output_type": "stream",
     "text": [
      "+--------------------+-----+\n",
      "|         Description|count|\n",
      "+--------------------+-----+\n",
      "|Mobile Diagnostic...|    1|\n",
      "|Diagnostic and Tr...|   31|\n",
      "|School Based Diag...|   36|\n",
      "|Hospital Extensio...|   38|\n",
      "|Certified Home He...|   39|\n",
      "|             Hospice|   32|\n",
      "|Adult Day Health ...|    2|\n",
      "|            Hospital|  137|\n",
      "|Diagnostic and Tr...|   46|\n",
      "|School Based Hosp...|    1|\n",
      "|Long Term Home He...|   18|\n",
      "|Residential Healt...|  165|\n",
      "+--------------------+-----+\n",
      "\n"
     ]
    }
   ],
   "source": [
    "# jumlah fasilitas yang tersedia di daerah tertentu\n",
    "# contohnya Albany\n",
    "changedTypedf.filter(changedTypedf['County']=='Albany').groupBy('Description').count().show()"
   ]
  },
  {
   "cell_type": "code",
   "execution_count": null,
   "metadata": {},
   "outputs": [],
   "source": []
  },
  {
   "cell_type": "code",
   "execution_count": null,
   "metadata": {},
   "outputs": [],
   "source": []
  }
 ],
 "metadata": {
  "kernelspec": {
   "display_name": "Python 3",
   "language": "python",
   "name": "python3"
  },
  "language_info": {
   "codemirror_mode": {
    "name": "ipython",
    "version": 3
   },
   "file_extension": ".py",
   "mimetype": "text/x-python",
   "name": "python",
   "nbconvert_exporter": "python",
   "pygments_lexer": "ipython3",
   "version": "3.5.2"
  }
 },
 "nbformat": 4,
 "nbformat_minor": 2
}
