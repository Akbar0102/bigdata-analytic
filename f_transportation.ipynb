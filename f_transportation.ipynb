{
 "cells": [
  {
   "cell_type": "code",
   "execution_count": 1,
   "metadata": {},
   "outputs": [],
   "source": [
    "import findspark\n",
    "findspark.init('/usr/local/spark2_0/')"
   ]
  },
  {
   "cell_type": "code",
   "execution_count": 2,
   "metadata": {},
   "outputs": [],
   "source": [
    "from pyspark.sql import SparkSession"
   ]
  },
  {
   "cell_type": "code",
   "execution_count": 3,
   "metadata": {},
   "outputs": [],
   "source": [
    "spark = SparkSession.builder.appName('final_v1').getOrCreate()"
   ]
  },
  {
   "cell_type": "code",
   "execution_count": 4,
   "metadata": {},
   "outputs": [
    {
     "data": {
      "text/plain": [
       "DataFrame[Accident_Index: string, Vehicle_Reference: int, Casualty_Reference: int, Casualty_Class: int, Sex_of_Casualty: int, Age_of_Casualty: int, Age_Band_of_Casualty: int, Casualty_Severity: int, Pedestrian_Location: int, Pedestrian_Movement: int, Car_Passenger: int, Bus_or_Coach_Passenger: int, Pedestrian_Road_Maintenance_Worker: int, Casualty_Type: int, Casualty_Home_Area_Type: int, Casualty_IMD_Decile: int]"
      ]
     },
     "execution_count": 4,
     "metadata": {},
     "output_type": "execute_result"
    }
   ],
   "source": [
    "acc = spark.read.csv('../dataset/Acc.csv', inferSchema=True, header=True)\n",
    "veh = spark.read.csv('../dataset/Veh.csv', inferSchema=True, header=True)\n",
    "cas = spark.read.csv('../dataset/Cas.csv', inferSchema=True, header=True)\n",
    "\n",
    "acc.cache()\n",
    "veh.cache()\n",
    "cas.cache()"
   ]
  },
  {
   "cell_type": "code",
   "execution_count": 5,
   "metadata": {},
   "outputs": [
    {
     "data": {
      "text/html": [
       "<div>\n",
       "<style scoped>\n",
       "    .dataframe tbody tr th:only-of-type {\n",
       "        vertical-align: middle;\n",
       "    }\n",
       "\n",
       "    .dataframe tbody tr th {\n",
       "        vertical-align: top;\n",
       "    }\n",
       "\n",
       "    .dataframe thead th {\n",
       "        text-align: right;\n",
       "    }\n",
       "</style>\n",
       "<table border=\"1\" class=\"dataframe\">\n",
       "  <thead>\n",
       "    <tr style=\"text-align: right;\">\n",
       "      <th></th>\n",
       "      <th>0</th>\n",
       "      <th>1</th>\n",
       "      <th>2</th>\n",
       "      <th>3</th>\n",
       "      <th>4</th>\n",
       "    </tr>\n",
       "  </thead>\n",
       "  <tbody>\n",
       "    <tr>\n",
       "      <th>summary</th>\n",
       "      <td>count</td>\n",
       "      <td>mean</td>\n",
       "      <td>stddev</td>\n",
       "      <td>min</td>\n",
       "      <td>max</td>\n",
       "    </tr>\n",
       "    <tr>\n",
       "      <th>Accident_Index</th>\n",
       "      <td>129982</td>\n",
       "      <td>Infinity</td>\n",
       "      <td>NaN</td>\n",
       "      <td>2017010001708</td>\n",
       "      <td>2017984122617</td>\n",
       "    </tr>\n",
       "    <tr>\n",
       "      <th>Location_Easting_OSGR</th>\n",
       "      <td>129963</td>\n",
       "      <td>451170.2567192201</td>\n",
       "      <td>95152.62973863313</td>\n",
       "      <td>73639</td>\n",
       "      <td>655391</td>\n",
       "    </tr>\n",
       "    <tr>\n",
       "      <th>Location_Northing_OSGR</th>\n",
       "      <td>129963</td>\n",
       "      <td>283578.4101936705</td>\n",
       "      <td>153491.81260740428</td>\n",
       "      <td>12107</td>\n",
       "      <td>1177531</td>\n",
       "    </tr>\n",
       "    <tr>\n",
       "      <th>Longitude</th>\n",
       "      <td>129963</td>\n",
       "      <td>-1.2683846916038848</td>\n",
       "      <td>1.395880993558725</td>\n",
       "      <td>-0.000011</td>\n",
       "      <td>NULL</td>\n",
       "    </tr>\n",
       "    <tr>\n",
       "      <th>Latitude</th>\n",
       "      <td>129963</td>\n",
       "      <td>52.43938746629935</td>\n",
       "      <td>1.382507825970026</td>\n",
       "      <td>49.929558</td>\n",
       "      <td>NULL</td>\n",
       "    </tr>\n",
       "    <tr>\n",
       "      <th>Police_Force</th>\n",
       "      <td>129982</td>\n",
       "      <td>28.527996184087026</td>\n",
       "      <td>25.064407477814147</td>\n",
       "      <td>1</td>\n",
       "      <td>98</td>\n",
       "    </tr>\n",
       "    <tr>\n",
       "      <th>Accident_Severity</th>\n",
       "      <td>129982</td>\n",
       "      <td>2.800849348371313</td>\n",
       "      <td>0.43044079855851514</td>\n",
       "      <td>1</td>\n",
       "      <td>3</td>\n",
       "    </tr>\n",
       "    <tr>\n",
       "      <th>Number_of_Vehicles</th>\n",
       "      <td>129982</td>\n",
       "      <td>1.8381468203289686</td>\n",
       "      <td>0.7224789075747201</td>\n",
       "      <td>1</td>\n",
       "      <td>23</td>\n",
       "    </tr>\n",
       "    <tr>\n",
       "      <th>Number_of_Casualties</th>\n",
       "      <td>129982</td>\n",
       "      <td>1.315512917173147</td>\n",
       "      <td>0.7654693516300957</td>\n",
       "      <td>1</td>\n",
       "      <td>42</td>\n",
       "    </tr>\n",
       "    <tr>\n",
       "      <th>Date</th>\n",
       "      <td>129982</td>\n",
       "      <td>None</td>\n",
       "      <td>None</td>\n",
       "      <td>01/01/2017</td>\n",
       "      <td>31/12/2017</td>\n",
       "    </tr>\n",
       "    <tr>\n",
       "      <th>Day_of_Week</th>\n",
       "      <td>129982</td>\n",
       "      <td>4.105245341662692</td>\n",
       "      <td>1.9304464401387416</td>\n",
       "      <td>1</td>\n",
       "      <td>7</td>\n",
       "    </tr>\n",
       "    <tr>\n",
       "      <th>Time</th>\n",
       "      <td>129979</td>\n",
       "      <td>None</td>\n",
       "      <td>None</td>\n",
       "      <td>00:01</td>\n",
       "      <td>23:59</td>\n",
       "    </tr>\n",
       "    <tr>\n",
       "      <th>Local_Authority_(District)</th>\n",
       "      <td>129982</td>\n",
       "      <td>328.8992860549922</td>\n",
       "      <td>258.58718124915043</td>\n",
       "      <td>1</td>\n",
       "      <td>941</td>\n",
       "    </tr>\n",
       "    <tr>\n",
       "      <th>Local_Authority_(Highway)</th>\n",
       "      <td>129982</td>\n",
       "      <td>None</td>\n",
       "      <td>None</td>\n",
       "      <td>E06000001</td>\n",
       "      <td>W06000024</td>\n",
       "    </tr>\n",
       "    <tr>\n",
       "      <th>1st_Road_Class</th>\n",
       "      <td>129982</td>\n",
       "      <td>4.224154113646505</td>\n",
       "      <td>1.473922872078815</td>\n",
       "      <td>1</td>\n",
       "      <td>6</td>\n",
       "    </tr>\n",
       "    <tr>\n",
       "      <th>1st_Road_Number</th>\n",
       "      <td>129982</td>\n",
       "      <td>852.0340893354464</td>\n",
       "      <td>1692.9514376896036</td>\n",
       "      <td>0</td>\n",
       "      <td>9786</td>\n",
       "    </tr>\n",
       "    <tr>\n",
       "      <th>Road_Type</th>\n",
       "      <td>129982</td>\n",
       "      <td>5.172831622840086</td>\n",
       "      <td>1.7169434998041115</td>\n",
       "      <td>1</td>\n",
       "      <td>9</td>\n",
       "    </tr>\n",
       "    <tr>\n",
       "      <th>Speed_limit</th>\n",
       "      <td>129982</td>\n",
       "      <td>37.25846655690788</td>\n",
       "      <td>13.976647045957245</td>\n",
       "      <td>20</td>\n",
       "      <td>70</td>\n",
       "    </tr>\n",
       "    <tr>\n",
       "      <th>Junction_Detail</th>\n",
       "      <td>129982</td>\n",
       "      <td>2.259335908048807</td>\n",
       "      <td>2.5827293035410235</td>\n",
       "      <td>-1</td>\n",
       "      <td>9</td>\n",
       "    </tr>\n",
       "    <tr>\n",
       "      <th>Junction_Control</th>\n",
       "      <td>129982</td>\n",
       "      <td>1.5985521072148452</td>\n",
       "      <td>2.353005023903209</td>\n",
       "      <td>-1</td>\n",
       "      <td>4</td>\n",
       "    </tr>\n",
       "    <tr>\n",
       "      <th>2nd_Road_Class</th>\n",
       "      <td>129982</td>\n",
       "      <td>2.6325414288132203</td>\n",
       "      <td>3.224473270752919</td>\n",
       "      <td>-1</td>\n",
       "      <td>6</td>\n",
       "    </tr>\n",
       "    <tr>\n",
       "      <th>2nd_Road_Number</th>\n",
       "      <td>129982</td>\n",
       "      <td>301.1547291163392</td>\n",
       "      <td>1152.3695448138299</td>\n",
       "      <td>-1</td>\n",
       "      <td>9704</td>\n",
       "    </tr>\n",
       "    <tr>\n",
       "      <th>Pedestrian_Crossing-Human_Control</th>\n",
       "      <td>129982</td>\n",
       "      <td>0.0027388407625671247</td>\n",
       "      <td>0.24801044716122828</td>\n",
       "      <td>-1</td>\n",
       "      <td>2</td>\n",
       "    </tr>\n",
       "    <tr>\n",
       "      <th>Pedestrian_Crossing-Physical_Facilities</th>\n",
       "      <td>129982</td>\n",
       "      <td>0.8234524780354203</td>\n",
       "      <td>1.9505598337510757</td>\n",
       "      <td>-1</td>\n",
       "      <td>8</td>\n",
       "    </tr>\n",
       "    <tr>\n",
       "      <th>Light_Conditions</th>\n",
       "      <td>129982</td>\n",
       "      <td>2.036597375021157</td>\n",
       "      <td>1.724018960437338</td>\n",
       "      <td>-1</td>\n",
       "      <td>7</td>\n",
       "    </tr>\n",
       "    <tr>\n",
       "      <th>Weather_Conditions</th>\n",
       "      <td>129982</td>\n",
       "      <td>1.6415349817667062</td>\n",
       "      <td>1.843830201232136</td>\n",
       "      <td>-1</td>\n",
       "      <td>9</td>\n",
       "    </tr>\n",
       "    <tr>\n",
       "      <th>Road_Surface_Conditions</th>\n",
       "      <td>129982</td>\n",
       "      <td>1.2840931821329107</td>\n",
       "      <td>0.6451487555642752</td>\n",
       "      <td>-1</td>\n",
       "      <td>5</td>\n",
       "    </tr>\n",
       "    <tr>\n",
       "      <th>Special_Conditions_at_Site</th>\n",
       "      <td>129982</td>\n",
       "      <td>0.07231770552845779</td>\n",
       "      <td>0.6705724147664265</td>\n",
       "      <td>-1</td>\n",
       "      <td>7</td>\n",
       "    </tr>\n",
       "    <tr>\n",
       "      <th>Carriageway_Hazards</th>\n",
       "      <td>129982</td>\n",
       "      <td>0.046714160422212304</td>\n",
       "      <td>0.5630027605341222</td>\n",
       "      <td>-1</td>\n",
       "      <td>7</td>\n",
       "    </tr>\n",
       "    <tr>\n",
       "      <th>Urban_or_Rural_Area</th>\n",
       "      <td>129982</td>\n",
       "      <td>1.3272914711267714</td>\n",
       "      <td>0.46939037758917396</td>\n",
       "      <td>1</td>\n",
       "      <td>3</td>\n",
       "    </tr>\n",
       "    <tr>\n",
       "      <th>Did_Police_Officer_Attend_Scene_of_Accident</th>\n",
       "      <td>129982</td>\n",
       "      <td>1.264744349217584</td>\n",
       "      <td>0.44135559146381653</td>\n",
       "      <td>1</td>\n",
       "      <td>3</td>\n",
       "    </tr>\n",
       "    <tr>\n",
       "      <th>LSOA_of_Accident_Location</th>\n",
       "      <td>122851</td>\n",
       "      <td>None</td>\n",
       "      <td>None</td>\n",
       "      <td>E01000001</td>\n",
       "      <td>W01001958</td>\n",
       "    </tr>\n",
       "  </tbody>\n",
       "</table>\n",
       "</div>"
      ],
      "text/plain": [
       "                                                  0                      1  \\\n",
       "summary                                       count                   mean   \n",
       "Accident_Index                               129982               Infinity   \n",
       "Location_Easting_OSGR                        129963      451170.2567192201   \n",
       "Location_Northing_OSGR                       129963      283578.4101936705   \n",
       "Longitude                                    129963    -1.2683846916038848   \n",
       "Latitude                                     129963      52.43938746629935   \n",
       "Police_Force                                 129982     28.527996184087026   \n",
       "Accident_Severity                            129982      2.800849348371313   \n",
       "Number_of_Vehicles                           129982     1.8381468203289686   \n",
       "Number_of_Casualties                         129982      1.315512917173147   \n",
       "Date                                         129982                   None   \n",
       "Day_of_Week                                  129982      4.105245341662692   \n",
       "Time                                         129979                   None   \n",
       "Local_Authority_(District)                   129982      328.8992860549922   \n",
       "Local_Authority_(Highway)                    129982                   None   \n",
       "1st_Road_Class                               129982      4.224154113646505   \n",
       "1st_Road_Number                              129982      852.0340893354464   \n",
       "Road_Type                                    129982      5.172831622840086   \n",
       "Speed_limit                                  129982      37.25846655690788   \n",
       "Junction_Detail                              129982      2.259335908048807   \n",
       "Junction_Control                             129982     1.5985521072148452   \n",
       "2nd_Road_Class                               129982     2.6325414288132203   \n",
       "2nd_Road_Number                              129982      301.1547291163392   \n",
       "Pedestrian_Crossing-Human_Control            129982  0.0027388407625671247   \n",
       "Pedestrian_Crossing-Physical_Facilities      129982     0.8234524780354203   \n",
       "Light_Conditions                             129982      2.036597375021157   \n",
       "Weather_Conditions                           129982     1.6415349817667062   \n",
       "Road_Surface_Conditions                      129982     1.2840931821329107   \n",
       "Special_Conditions_at_Site                   129982    0.07231770552845779   \n",
       "Carriageway_Hazards                          129982   0.046714160422212304   \n",
       "Urban_or_Rural_Area                          129982     1.3272914711267714   \n",
       "Did_Police_Officer_Attend_Scene_of_Accident  129982      1.264744349217584   \n",
       "LSOA_of_Accident_Location                    122851                   None   \n",
       "\n",
       "                                                               2  \\\n",
       "summary                                                   stddev   \n",
       "Accident_Index                                               NaN   \n",
       "Location_Easting_OSGR                          95152.62973863313   \n",
       "Location_Northing_OSGR                        153491.81260740428   \n",
       "Longitude                                      1.395880993558725   \n",
       "Latitude                                       1.382507825970026   \n",
       "Police_Force                                  25.064407477814147   \n",
       "Accident_Severity                            0.43044079855851514   \n",
       "Number_of_Vehicles                            0.7224789075747201   \n",
       "Number_of_Casualties                          0.7654693516300957   \n",
       "Date                                                        None   \n",
       "Day_of_Week                                   1.9304464401387416   \n",
       "Time                                                        None   \n",
       "Local_Authority_(District)                    258.58718124915043   \n",
       "Local_Authority_(Highway)                                   None   \n",
       "1st_Road_Class                                 1.473922872078815   \n",
       "1st_Road_Number                               1692.9514376896036   \n",
       "Road_Type                                     1.7169434998041115   \n",
       "Speed_limit                                   13.976647045957245   \n",
       "Junction_Detail                               2.5827293035410235   \n",
       "Junction_Control                               2.353005023903209   \n",
       "2nd_Road_Class                                 3.224473270752919   \n",
       "2nd_Road_Number                               1152.3695448138299   \n",
       "Pedestrian_Crossing-Human_Control            0.24801044716122828   \n",
       "Pedestrian_Crossing-Physical_Facilities       1.9505598337510757   \n",
       "Light_Conditions                               1.724018960437338   \n",
       "Weather_Conditions                             1.843830201232136   \n",
       "Road_Surface_Conditions                       0.6451487555642752   \n",
       "Special_Conditions_at_Site                    0.6705724147664265   \n",
       "Carriageway_Hazards                           0.5630027605341222   \n",
       "Urban_or_Rural_Area                          0.46939037758917396   \n",
       "Did_Police_Officer_Attend_Scene_of_Accident  0.44135559146381653   \n",
       "LSOA_of_Accident_Location                                   None   \n",
       "\n",
       "                                                         3              4  \n",
       "summary                                                min            max  \n",
       "Accident_Index                               2017010001708  2017984122617  \n",
       "Location_Easting_OSGR                                73639         655391  \n",
       "Location_Northing_OSGR                               12107        1177531  \n",
       "Longitude                                        -0.000011           NULL  \n",
       "Latitude                                         49.929558           NULL  \n",
       "Police_Force                                             1             98  \n",
       "Accident_Severity                                        1              3  \n",
       "Number_of_Vehicles                                       1             23  \n",
       "Number_of_Casualties                                     1             42  \n",
       "Date                                            01/01/2017     31/12/2017  \n",
       "Day_of_Week                                              1              7  \n",
       "Time                                                 00:01          23:59  \n",
       "Local_Authority_(District)                               1            941  \n",
       "Local_Authority_(Highway)                        E06000001      W06000024  \n",
       "1st_Road_Class                                           1              6  \n",
       "1st_Road_Number                                          0           9786  \n",
       "Road_Type                                                1              9  \n",
       "Speed_limit                                             20             70  \n",
       "Junction_Detail                                         -1              9  \n",
       "Junction_Control                                        -1              4  \n",
       "2nd_Road_Class                                          -1              6  \n",
       "2nd_Road_Number                                         -1           9704  \n",
       "Pedestrian_Crossing-Human_Control                       -1              2  \n",
       "Pedestrian_Crossing-Physical_Facilities                 -1              8  \n",
       "Light_Conditions                                        -1              7  \n",
       "Weather_Conditions                                      -1              9  \n",
       "Road_Surface_Conditions                                 -1              5  \n",
       "Special_Conditions_at_Site                              -1              7  \n",
       "Carriageway_Hazards                                     -1              7  \n",
       "Urban_or_Rural_Area                                      1              3  \n",
       "Did_Police_Officer_Attend_Scene_of_Accident              1              3  \n",
       "LSOA_of_Accident_Location                        E01000001      W01001958  "
      ]
     },
     "execution_count": 5,
     "metadata": {},
     "output_type": "execute_result"
    }
   ],
   "source": [
    "#describe accident variables\n",
    "acc.describe().toPandas().transpose()"
   ]
  },
  {
   "cell_type": "code",
   "execution_count": 6,
   "metadata": {},
   "outputs": [
    {
     "data": {
      "text/html": [
       "<div>\n",
       "<style scoped>\n",
       "    .dataframe tbody tr th:only-of-type {\n",
       "        vertical-align: middle;\n",
       "    }\n",
       "\n",
       "    .dataframe tbody tr th {\n",
       "        vertical-align: top;\n",
       "    }\n",
       "\n",
       "    .dataframe thead th {\n",
       "        text-align: right;\n",
       "    }\n",
       "</style>\n",
       "<table border=\"1\" class=\"dataframe\">\n",
       "  <thead>\n",
       "    <tr style=\"text-align: right;\">\n",
       "      <th></th>\n",
       "      <th>0</th>\n",
       "      <th>1</th>\n",
       "      <th>2</th>\n",
       "      <th>3</th>\n",
       "      <th>4</th>\n",
       "    </tr>\n",
       "  </thead>\n",
       "  <tbody>\n",
       "    <tr>\n",
       "      <th>summary</th>\n",
       "      <td>count</td>\n",
       "      <td>mean</td>\n",
       "      <td>stddev</td>\n",
       "      <td>min</td>\n",
       "      <td>max</td>\n",
       "    </tr>\n",
       "    <tr>\n",
       "      <th>Accident_Index</th>\n",
       "      <td>238926</td>\n",
       "      <td>Infinity</td>\n",
       "      <td>NaN</td>\n",
       "      <td>2017010001708</td>\n",
       "      <td>2017984122617</td>\n",
       "    </tr>\n",
       "    <tr>\n",
       "      <th>Vehicle_Reference</th>\n",
       "      <td>238926</td>\n",
       "      <td>1.5620150172019789</td>\n",
       "      <td>0.7822307839988578</td>\n",
       "      <td>1</td>\n",
       "      <td>101</td>\n",
       "    </tr>\n",
       "    <tr>\n",
       "      <th>Vehicle_Type</th>\n",
       "      <td>238926</td>\n",
       "      <td>9.906184341595306</td>\n",
       "      <td>10.60243893161358</td>\n",
       "      <td>-1</td>\n",
       "      <td>98</td>\n",
       "    </tr>\n",
       "    <tr>\n",
       "      <th>Towing_and_Articulation</th>\n",
       "      <td>238926</td>\n",
       "      <td>0.014745151218368868</td>\n",
       "      <td>0.357575765821521</td>\n",
       "      <td>-1</td>\n",
       "      <td>5</td>\n",
       "    </tr>\n",
       "    <tr>\n",
       "      <th>Vehicle_Manoeuvre</th>\n",
       "      <td>238926</td>\n",
       "      <td>12.425035366598863</td>\n",
       "      <td>6.403464064760207</td>\n",
       "      <td>-1</td>\n",
       "      <td>18</td>\n",
       "    </tr>\n",
       "    <tr>\n",
       "      <th>Vehicle_Location-Restricted_Lane</th>\n",
       "      <td>238926</td>\n",
       "      <td>0.16802692046909923</td>\n",
       "      <td>1.1633739332892468</td>\n",
       "      <td>-1</td>\n",
       "      <td>9</td>\n",
       "    </tr>\n",
       "    <tr>\n",
       "      <th>Junction_Location</th>\n",
       "      <td>238926</td>\n",
       "      <td>2.2551082762026735</td>\n",
       "      <td>3.0212200860246523</td>\n",
       "      <td>-1</td>\n",
       "      <td>8</td>\n",
       "    </tr>\n",
       "    <tr>\n",
       "      <th>Skidding_and_Overturning</th>\n",
       "      <td>238926</td>\n",
       "      <td>0.19772649272159581</td>\n",
       "      <td>0.8280501623608185</td>\n",
       "      <td>-1</td>\n",
       "      <td>5</td>\n",
       "    </tr>\n",
       "    <tr>\n",
       "      <th>Hit_Object_in_Carriageway</th>\n",
       "      <td>238926</td>\n",
       "      <td>0.31228497526430776</td>\n",
       "      <td>1.6509397619176822</td>\n",
       "      <td>-1</td>\n",
       "      <td>12</td>\n",
       "    </tr>\n",
       "    <tr>\n",
       "      <th>Vehicle_Leaving_Carriageway</th>\n",
       "      <td>238926</td>\n",
       "      <td>0.31125955316708936</td>\n",
       "      <td>1.3163602187033885</td>\n",
       "      <td>-1</td>\n",
       "      <td>8</td>\n",
       "    </tr>\n",
       "    <tr>\n",
       "      <th>Hit_Object_off_Carriageway</th>\n",
       "      <td>238926</td>\n",
       "      <td>0.41101010354670486</td>\n",
       "      <td>1.8794331881731223</td>\n",
       "      <td>-1</td>\n",
       "      <td>11</td>\n",
       "    </tr>\n",
       "    <tr>\n",
       "      <th>1st_Point_of_Impact</th>\n",
       "      <td>238926</td>\n",
       "      <td>1.7196035592610264</td>\n",
       "      <td>1.1981938918583654</td>\n",
       "      <td>-1</td>\n",
       "      <td>4</td>\n",
       "    </tr>\n",
       "    <tr>\n",
       "      <th>Was_Vehicle_Left_Hand_Drive?</th>\n",
       "      <td>238926</td>\n",
       "      <td>0.9499845140336338</td>\n",
       "      <td>0.3451471666905124</td>\n",
       "      <td>-1</td>\n",
       "      <td>2</td>\n",
       "    </tr>\n",
       "    <tr>\n",
       "      <th>Journey_Purpose_of_Driver</th>\n",
       "      <td>238926</td>\n",
       "      <td>4.661192168286415</td>\n",
       "      <td>1.9991224464021855</td>\n",
       "      <td>-1</td>\n",
       "      <td>6</td>\n",
       "    </tr>\n",
       "    <tr>\n",
       "      <th>Sex_of_Driver</th>\n",
       "      <td>238926</td>\n",
       "      <td>1.4385667528858308</td>\n",
       "      <td>0.6421157048534262</td>\n",
       "      <td>-1</td>\n",
       "      <td>3</td>\n",
       "    </tr>\n",
       "    <tr>\n",
       "      <th>Age_of_Driver</th>\n",
       "      <td>238926</td>\n",
       "      <td>35.58454919096289</td>\n",
       "      <td>20.306062199912827</td>\n",
       "      <td>-1</td>\n",
       "      <td>100</td>\n",
       "    </tr>\n",
       "    <tr>\n",
       "      <th>Age_Band_of_Driver</th>\n",
       "      <td>238926</td>\n",
       "      <td>5.9786000686405</td>\n",
       "      <td>3.0316040183611324</td>\n",
       "      <td>-1</td>\n",
       "      <td>11</td>\n",
       "    </tr>\n",
       "    <tr>\n",
       "      <th>Engine_Capacity_(CC)</th>\n",
       "      <td>238926</td>\n",
       "      <td>1453.520278245147</td>\n",
       "      <td>1623.3331752961774</td>\n",
       "      <td>-1</td>\n",
       "      <td>16400</td>\n",
       "    </tr>\n",
       "    <tr>\n",
       "      <th>Propulsion_Code</th>\n",
       "      <td>238926</td>\n",
       "      <td>0.9978110377271624</td>\n",
       "      <td>1.3956086754768964</td>\n",
       "      <td>-1</td>\n",
       "      <td>12</td>\n",
       "    </tr>\n",
       "    <tr>\n",
       "      <th>Age_of_Vehicle</th>\n",
       "      <td>238926</td>\n",
       "      <td>5.759243447762069</td>\n",
       "      <td>6.026728495638143</td>\n",
       "      <td>-1</td>\n",
       "      <td>85</td>\n",
       "    </tr>\n",
       "    <tr>\n",
       "      <th>Driver_IMD_Decile</th>\n",
       "      <td>238926</td>\n",
       "      <td>2.9302922243707257</td>\n",
       "      <td>3.6942744299614327</td>\n",
       "      <td>-1</td>\n",
       "      <td>10</td>\n",
       "    </tr>\n",
       "    <tr>\n",
       "      <th>Driver_Home_Area_Type</th>\n",
       "      <td>238926</td>\n",
       "      <td>0.6386956630923382</td>\n",
       "      <td>1.1805181559501612</td>\n",
       "      <td>-1</td>\n",
       "      <td>3</td>\n",
       "    </tr>\n",
       "    <tr>\n",
       "      <th>Vehicle_IMD_Decile</th>\n",
       "      <td>238926</td>\n",
       "      <td>2.9302922243707257</td>\n",
       "      <td>3.6942744299614327</td>\n",
       "      <td>-1</td>\n",
       "      <td>10</td>\n",
       "    </tr>\n",
       "  </tbody>\n",
       "</table>\n",
       "</div>"
      ],
      "text/plain": [
       "                                       0                     1  \\\n",
       "summary                            count                  mean   \n",
       "Accident_Index                    238926              Infinity   \n",
       "Vehicle_Reference                 238926    1.5620150172019789   \n",
       "Vehicle_Type                      238926     9.906184341595306   \n",
       "Towing_and_Articulation           238926  0.014745151218368868   \n",
       "Vehicle_Manoeuvre                 238926    12.425035366598863   \n",
       "Vehicle_Location-Restricted_Lane  238926   0.16802692046909923   \n",
       "Junction_Location                 238926    2.2551082762026735   \n",
       "Skidding_and_Overturning          238926   0.19772649272159581   \n",
       "Hit_Object_in_Carriageway         238926   0.31228497526430776   \n",
       "Vehicle_Leaving_Carriageway       238926   0.31125955316708936   \n",
       "Hit_Object_off_Carriageway        238926   0.41101010354670486   \n",
       "1st_Point_of_Impact               238926    1.7196035592610264   \n",
       "Was_Vehicle_Left_Hand_Drive?      238926    0.9499845140336338   \n",
       "Journey_Purpose_of_Driver         238926     4.661192168286415   \n",
       "Sex_of_Driver                     238926    1.4385667528858308   \n",
       "Age_of_Driver                     238926     35.58454919096289   \n",
       "Age_Band_of_Driver                238926       5.9786000686405   \n",
       "Engine_Capacity_(CC)              238926     1453.520278245147   \n",
       "Propulsion_Code                   238926    0.9978110377271624   \n",
       "Age_of_Vehicle                    238926     5.759243447762069   \n",
       "Driver_IMD_Decile                 238926    2.9302922243707257   \n",
       "Driver_Home_Area_Type             238926    0.6386956630923382   \n",
       "Vehicle_IMD_Decile                238926    2.9302922243707257   \n",
       "\n",
       "                                                   2              3  \\\n",
       "summary                                       stddev            min   \n",
       "Accident_Index                                   NaN  2017010001708   \n",
       "Vehicle_Reference                 0.7822307839988578              1   \n",
       "Vehicle_Type                       10.60243893161358             -1   \n",
       "Towing_and_Articulation            0.357575765821521             -1   \n",
       "Vehicle_Manoeuvre                  6.403464064760207             -1   \n",
       "Vehicle_Location-Restricted_Lane  1.1633739332892468             -1   \n",
       "Junction_Location                 3.0212200860246523             -1   \n",
       "Skidding_and_Overturning          0.8280501623608185             -1   \n",
       "Hit_Object_in_Carriageway         1.6509397619176822             -1   \n",
       "Vehicle_Leaving_Carriageway       1.3163602187033885             -1   \n",
       "Hit_Object_off_Carriageway        1.8794331881731223             -1   \n",
       "1st_Point_of_Impact               1.1981938918583654             -1   \n",
       "Was_Vehicle_Left_Hand_Drive?      0.3451471666905124             -1   \n",
       "Journey_Purpose_of_Driver         1.9991224464021855             -1   \n",
       "Sex_of_Driver                     0.6421157048534262             -1   \n",
       "Age_of_Driver                     20.306062199912827             -1   \n",
       "Age_Band_of_Driver                3.0316040183611324             -1   \n",
       "Engine_Capacity_(CC)              1623.3331752961774             -1   \n",
       "Propulsion_Code                   1.3956086754768964             -1   \n",
       "Age_of_Vehicle                     6.026728495638143             -1   \n",
       "Driver_IMD_Decile                 3.6942744299614327             -1   \n",
       "Driver_Home_Area_Type             1.1805181559501612             -1   \n",
       "Vehicle_IMD_Decile                3.6942744299614327             -1   \n",
       "\n",
       "                                              4  \n",
       "summary                                     max  \n",
       "Accident_Index                    2017984122617  \n",
       "Vehicle_Reference                           101  \n",
       "Vehicle_Type                                 98  \n",
       "Towing_and_Articulation                       5  \n",
       "Vehicle_Manoeuvre                            18  \n",
       "Vehicle_Location-Restricted_Lane              9  \n",
       "Junction_Location                             8  \n",
       "Skidding_and_Overturning                      5  \n",
       "Hit_Object_in_Carriageway                    12  \n",
       "Vehicle_Leaving_Carriageway                   8  \n",
       "Hit_Object_off_Carriageway                   11  \n",
       "1st_Point_of_Impact                           4  \n",
       "Was_Vehicle_Left_Hand_Drive?                  2  \n",
       "Journey_Purpose_of_Driver                     6  \n",
       "Sex_of_Driver                                 3  \n",
       "Age_of_Driver                               100  \n",
       "Age_Band_of_Driver                           11  \n",
       "Engine_Capacity_(CC)                      16400  \n",
       "Propulsion_Code                              12  \n",
       "Age_of_Vehicle                               85  \n",
       "Driver_IMD_Decile                            10  \n",
       "Driver_Home_Area_Type                         3  \n",
       "Vehicle_IMD_Decile                           10  "
      ]
     },
     "execution_count": 6,
     "metadata": {},
     "output_type": "execute_result"
    }
   ],
   "source": [
    "#describe vehicle variables\n",
    "veh.describe().toPandas().transpose()"
   ]
  },
  {
   "cell_type": "code",
   "execution_count": 7,
   "metadata": {},
   "outputs": [
    {
     "data": {
      "text/html": [
       "<div>\n",
       "<style scoped>\n",
       "    .dataframe tbody tr th:only-of-type {\n",
       "        vertical-align: middle;\n",
       "    }\n",
       "\n",
       "    .dataframe tbody tr th {\n",
       "        vertical-align: top;\n",
       "    }\n",
       "\n",
       "    .dataframe thead th {\n",
       "        text-align: right;\n",
       "    }\n",
       "</style>\n",
       "<table border=\"1\" class=\"dataframe\">\n",
       "  <thead>\n",
       "    <tr style=\"text-align: right;\">\n",
       "      <th></th>\n",
       "      <th>0</th>\n",
       "      <th>1</th>\n",
       "      <th>2</th>\n",
       "      <th>3</th>\n",
       "      <th>4</th>\n",
       "    </tr>\n",
       "  </thead>\n",
       "  <tbody>\n",
       "    <tr>\n",
       "      <th>summary</th>\n",
       "      <td>count</td>\n",
       "      <td>mean</td>\n",
       "      <td>stddev</td>\n",
       "      <td>min</td>\n",
       "      <td>max</td>\n",
       "    </tr>\n",
       "    <tr>\n",
       "      <th>Accident_Index</th>\n",
       "      <td>170993</td>\n",
       "      <td>Infinity</td>\n",
       "      <td>NaN</td>\n",
       "      <td>2017010001708</td>\n",
       "      <td>2017984122617</td>\n",
       "    </tr>\n",
       "    <tr>\n",
       "      <th>Vehicle_Reference</th>\n",
       "      <td>170993</td>\n",
       "      <td>1.4821659366172883</td>\n",
       "      <td>0.6565785575715686</td>\n",
       "      <td>1</td>\n",
       "      <td>101</td>\n",
       "    </tr>\n",
       "    <tr>\n",
       "      <th>Casualty_Reference</th>\n",
       "      <td>170993</td>\n",
       "      <td>1.3972852689876194</td>\n",
       "      <td>1.1258482444660893</td>\n",
       "      <td>1</td>\n",
       "      <td>201</td>\n",
       "    </tr>\n",
       "    <tr>\n",
       "      <th>Casualty_Class</th>\n",
       "      <td>170993</td>\n",
       "      <td>1.4991549361669776</td>\n",
       "      <td>0.7269352286875067</td>\n",
       "      <td>1</td>\n",
       "      <td>3</td>\n",
       "    </tr>\n",
       "    <tr>\n",
       "      <th>Sex_of_Casualty</th>\n",
       "      <td>170993</td>\n",
       "      <td>1.4066423771733345</td>\n",
       "      <td>0.49217189892377966</td>\n",
       "      <td>-1</td>\n",
       "      <td>2</td>\n",
       "    </tr>\n",
       "    <tr>\n",
       "      <th>Age_of_Casualty</th>\n",
       "      <td>170993</td>\n",
       "      <td>36.50392121314908</td>\n",
       "      <td>19.28372135898287</td>\n",
       "      <td>-1</td>\n",
       "      <td>100</td>\n",
       "    </tr>\n",
       "    <tr>\n",
       "      <th>Age_Band_of_Casualty</th>\n",
       "      <td>170993</td>\n",
       "      <td>6.29824612703444</td>\n",
       "      <td>2.3773778609361216</td>\n",
       "      <td>-1</td>\n",
       "      <td>11</td>\n",
       "    </tr>\n",
       "    <tr>\n",
       "      <th>Casualty_Severity</th>\n",
       "      <td>170993</td>\n",
       "      <td>2.8338119104290818</td>\n",
       "      <td>0.3994272902672059</td>\n",
       "      <td>1</td>\n",
       "      <td>3</td>\n",
       "    </tr>\n",
       "    <tr>\n",
       "      <th>Pedestrian_Location</th>\n",
       "      <td>170993</td>\n",
       "      <td>0.7557326908119045</td>\n",
       "      <td>2.1191736365347413</td>\n",
       "      <td>0</td>\n",
       "      <td>10</td>\n",
       "    </tr>\n",
       "    <tr>\n",
       "      <th>Pedestrian_Movement</th>\n",
       "      <td>170993</td>\n",
       "      <td>0.5987496564186838</td>\n",
       "      <td>1.9264251982310439</td>\n",
       "      <td>0</td>\n",
       "      <td>9</td>\n",
       "    </tr>\n",
       "    <tr>\n",
       "      <th>Car_Passenger</th>\n",
       "      <td>170993</td>\n",
       "      <td>0.25078219576239963</td>\n",
       "      <td>0.5767859086593772</td>\n",
       "      <td>-1</td>\n",
       "      <td>2</td>\n",
       "    </tr>\n",
       "    <tr>\n",
       "      <th>Bus_or_Coach_Passenger</th>\n",
       "      <td>170993</td>\n",
       "      <td>0.07930734006655243</td>\n",
       "      <td>0.5344494803850272</td>\n",
       "      <td>-1</td>\n",
       "      <td>4</td>\n",
       "    </tr>\n",
       "    <tr>\n",
       "      <th>Pedestrian_Road_Maintenance_Worker</th>\n",
       "      <td>170993</td>\n",
       "      <td>0.09162948190861614</td>\n",
       "      <td>0.41924295036506243</td>\n",
       "      <td>-1</td>\n",
       "      <td>2</td>\n",
       "    </tr>\n",
       "    <tr>\n",
       "      <th>Casualty_Type</th>\n",
       "      <td>170993</td>\n",
       "      <td>7.270098775973286</td>\n",
       "      <td>8.275476472958797</td>\n",
       "      <td>-1</td>\n",
       "      <td>98</td>\n",
       "    </tr>\n",
       "    <tr>\n",
       "      <th>Casualty_Home_Area_Type</th>\n",
       "      <td>170993</td>\n",
       "      <td>0.796868877673355</td>\n",
       "      <td>1.1007443964576176</td>\n",
       "      <td>-1</td>\n",
       "      <td>3</td>\n",
       "    </tr>\n",
       "    <tr>\n",
       "      <th>Casualty_IMD_Decile</th>\n",
       "      <td>170993</td>\n",
       "      <td>3.2279566999818705</td>\n",
       "      <td>3.5952640088646013</td>\n",
       "      <td>-1</td>\n",
       "      <td>10</td>\n",
       "    </tr>\n",
       "  </tbody>\n",
       "</table>\n",
       "</div>"
      ],
      "text/plain": [
       "                                         0                    1  \\\n",
       "summary                              count                 mean   \n",
       "Accident_Index                      170993             Infinity   \n",
       "Vehicle_Reference                   170993   1.4821659366172883   \n",
       "Casualty_Reference                  170993   1.3972852689876194   \n",
       "Casualty_Class                      170993   1.4991549361669776   \n",
       "Sex_of_Casualty                     170993   1.4066423771733345   \n",
       "Age_of_Casualty                     170993    36.50392121314908   \n",
       "Age_Band_of_Casualty                170993     6.29824612703444   \n",
       "Casualty_Severity                   170993   2.8338119104290818   \n",
       "Pedestrian_Location                 170993   0.7557326908119045   \n",
       "Pedestrian_Movement                 170993   0.5987496564186838   \n",
       "Car_Passenger                       170993  0.25078219576239963   \n",
       "Bus_or_Coach_Passenger              170993  0.07930734006655243   \n",
       "Pedestrian_Road_Maintenance_Worker  170993  0.09162948190861614   \n",
       "Casualty_Type                       170993    7.270098775973286   \n",
       "Casualty_Home_Area_Type             170993    0.796868877673355   \n",
       "Casualty_IMD_Decile                 170993   3.2279566999818705   \n",
       "\n",
       "                                                      2              3  \\\n",
       "summary                                          stddev            min   \n",
       "Accident_Index                                      NaN  2017010001708   \n",
       "Vehicle_Reference                    0.6565785575715686              1   \n",
       "Casualty_Reference                   1.1258482444660893              1   \n",
       "Casualty_Class                       0.7269352286875067              1   \n",
       "Sex_of_Casualty                     0.49217189892377966             -1   \n",
       "Age_of_Casualty                       19.28372135898287             -1   \n",
       "Age_Band_of_Casualty                 2.3773778609361216             -1   \n",
       "Casualty_Severity                    0.3994272902672059              1   \n",
       "Pedestrian_Location                  2.1191736365347413              0   \n",
       "Pedestrian_Movement                  1.9264251982310439              0   \n",
       "Car_Passenger                        0.5767859086593772             -1   \n",
       "Bus_or_Coach_Passenger               0.5344494803850272             -1   \n",
       "Pedestrian_Road_Maintenance_Worker  0.41924295036506243             -1   \n",
       "Casualty_Type                         8.275476472958797             -1   \n",
       "Casualty_Home_Area_Type              1.1007443964576176             -1   \n",
       "Casualty_IMD_Decile                  3.5952640088646013             -1   \n",
       "\n",
       "                                                4  \n",
       "summary                                       max  \n",
       "Accident_Index                      2017984122617  \n",
       "Vehicle_Reference                             101  \n",
       "Casualty_Reference                            201  \n",
       "Casualty_Class                                  3  \n",
       "Sex_of_Casualty                                 2  \n",
       "Age_of_Casualty                               100  \n",
       "Age_Band_of_Casualty                           11  \n",
       "Casualty_Severity                               3  \n",
       "Pedestrian_Location                            10  \n",
       "Pedestrian_Movement                             9  \n",
       "Car_Passenger                                   2  \n",
       "Bus_or_Coach_Passenger                          4  \n",
       "Pedestrian_Road_Maintenance_Worker              2  \n",
       "Casualty_Type                                  98  \n",
       "Casualty_Home_Area_Type                         3  \n",
       "Casualty_IMD_Decile                            10  "
      ]
     },
     "execution_count": 7,
     "metadata": {},
     "output_type": "execute_result"
    }
   ],
   "source": [
    "#describe casualtiy variables\n",
    "cas.describe().toPandas().transpose()"
   ]
  },
  {
   "cell_type": "code",
   "execution_count": 8,
   "metadata": {},
   "outputs": [],
   "source": [
    "#Konten:\n",
    "#1. Tren Kecelakaan\n",
    "#2. Korban dan Faktor Kecelakaan\n",
    "#3. Lokasi Kecelakaan\n",
    "#4. Kondisi Kendaraan"
   ]
  },
  {
   "cell_type": "code",
   "execution_count": 9,
   "metadata": {},
   "outputs": [],
   "source": [
    "######################### 1. TREN KECELAKAAN"
   ]
  },
  {
   "cell_type": "code",
   "execution_count": 10,
   "metadata": {},
   "outputs": [],
   "source": [
    "from pyspark.sql.functions import *"
   ]
  },
  {
   "cell_type": "code",
   "execution_count": 11,
   "metadata": {},
   "outputs": [],
   "source": [
    "acc2 = acc.withColumn('Date2', to_date(col('Date'), format='dd/MM/yyyyy'))"
   ]
  },
  {
   "cell_type": "code",
   "execution_count": 12,
   "metadata": {},
   "outputs": [],
   "source": [
    "acc2 = acc2.withColumn('year', year(col('Date2')))\n",
    "acc2 = acc2.withColumn('month', month(col('Date2')))\n",
    "acc2 = acc2.withColumn('dayofmonth', dayofmonth(col('Date2')))"
   ]
  },
  {
   "cell_type": "code",
   "execution_count": 13,
   "metadata": {},
   "outputs": [
    {
     "name": "stdout",
     "output_type": "stream",
     "text": [
      "root\n",
      " |-- Accident_Index: string (nullable = true)\n",
      " |-- Location_Easting_OSGR: integer (nullable = true)\n",
      " |-- Location_Northing_OSGR: integer (nullable = true)\n",
      " |-- Longitude: string (nullable = true)\n",
      " |-- Latitude: string (nullable = true)\n",
      " |-- Police_Force: integer (nullable = true)\n",
      " |-- Accident_Severity: integer (nullable = true)\n",
      " |-- Number_of_Vehicles: integer (nullable = true)\n",
      " |-- Number_of_Casualties: integer (nullable = true)\n",
      " |-- Date: string (nullable = true)\n",
      " |-- Day_of_Week: integer (nullable = true)\n",
      " |-- Time: string (nullable = true)\n",
      " |-- Local_Authority_(District): integer (nullable = true)\n",
      " |-- Local_Authority_(Highway): string (nullable = true)\n",
      " |-- 1st_Road_Class: integer (nullable = true)\n",
      " |-- 1st_Road_Number: integer (nullable = true)\n",
      " |-- Road_Type: integer (nullable = true)\n",
      " |-- Speed_limit: integer (nullable = true)\n",
      " |-- Junction_Detail: integer (nullable = true)\n",
      " |-- Junction_Control: integer (nullable = true)\n",
      " |-- 2nd_Road_Class: integer (nullable = true)\n",
      " |-- 2nd_Road_Number: integer (nullable = true)\n",
      " |-- Pedestrian_Crossing-Human_Control: integer (nullable = true)\n",
      " |-- Pedestrian_Crossing-Physical_Facilities: integer (nullable = true)\n",
      " |-- Light_Conditions: integer (nullable = true)\n",
      " |-- Weather_Conditions: integer (nullable = true)\n",
      " |-- Road_Surface_Conditions: integer (nullable = true)\n",
      " |-- Special_Conditions_at_Site: integer (nullable = true)\n",
      " |-- Carriageway_Hazards: integer (nullable = true)\n",
      " |-- Urban_or_Rural_Area: integer (nullable = true)\n",
      " |-- Did_Police_Officer_Attend_Scene_of_Accident: integer (nullable = true)\n",
      " |-- LSOA_of_Accident_Location: string (nullable = true)\n",
      " |-- Date2: date (nullable = true)\n",
      " |-- year: integer (nullable = true)\n",
      " |-- month: integer (nullable = true)\n",
      " |-- dayofmonth: integer (nullable = true)\n",
      "\n"
     ]
    }
   ],
   "source": [
    "acc2.printSchema()"
   ]
  },
  {
   "cell_type": "code",
   "execution_count": 14,
   "metadata": {},
   "outputs": [
    {
     "name": "stdout",
     "output_type": "stream",
     "text": [
      "+----------+----+-----+----------+\n",
      "|     Date2|year|month|dayofmonth|\n",
      "+----------+----+-----+----------+\n",
      "|2017-08-05|2017|    8|         5|\n",
      "|2017-01-01|2017|    1|         1|\n",
      "|2017-01-01|2017|    1|         1|\n",
      "+----------+----+-----+----------+\n",
      "only showing top 3 rows\n",
      "\n"
     ]
    }
   ],
   "source": [
    "acc2.select('Date2','year','month','dayofmonth').show(3)"
   ]
  },
  {
   "cell_type": "code",
   "execution_count": 15,
   "metadata": {},
   "outputs": [],
   "source": [
    "import matplotlib.pyplot as plt\n",
    "import seaborn as sns\n",
    "\n",
    "%matplotlib inline"
   ]
  },
  {
   "cell_type": "code",
   "execution_count": 16,
   "metadata": {},
   "outputs": [
    {
     "data": {
      "text/plain": [
       "<matplotlib.axes._subplots.AxesSubplot at 0x7f8f646c24e0>"
      ]
     },
     "execution_count": 16,
     "metadata": {},
     "output_type": "execute_result"
    },
    {
     "data": {
      "image/png": "[encoded data removed]",
      "text/plain": [
       "<Figure size 1008x288 with 1 Axes>"
      ]
     },
     "metadata": {
      "needs_background": "light"
     },
     "output_type": "display_data"
    }
   ],
   "source": [
    "# tren kecelakaan berdasarkan bulan\n",
    "month_df = acc2.groupBy('month').count().sort('month')\n",
    "month_df.toPandas().plot(kind='line', x='month', figsize=(14,4))"
   ]
  },
  {
   "cell_type": "code",
   "execution_count": 17,
   "metadata": {},
   "outputs": [],
   "source": [
    "# berdasarkan grafik line diketahui kecelakaan paling banyak terjadi di bulan 11 dan paling rendah di bulan 2 dan 4"
   ]
  },
  {
   "cell_type": "code",
   "execution_count": 18,
   "metadata": {},
   "outputs": [
    {
     "data": {
      "text/plain": [
       "<matplotlib.axes._subplots.AxesSubplot at 0x7f8f64670b70>"
      ]
     },
     "execution_count": 18,
     "metadata": {},
     "output_type": "execute_result"
    },
    {
     "data": {
      "image/png": "[encoded data removed]",
      "text/plain": [
       "<Figure size 1008x288 with 1 Axes>"
      ]
     },
     "metadata": {
      "needs_background": "light"
     },
     "output_type": "display_data"
    }
   ],
   "source": [
    "# tren berdasarkan hari\n",
    "# 1\tSunday\n",
    "# 2\tMonday\n",
    "# 3\tTuesday\n",
    "# 4\tWednesday\n",
    "# 5\tThursday\n",
    "# 6\tFriday\n",
    "# 7\tSaturday\n",
    "\n",
    "Day_of_Week_df = acc2.groupBy('Day_of_Week').count().sort('Day_of_Week')\n",
    "Day_of_Week_df.toPandas().plot(kind='line', x='Day_of_Week', figsize=(14,4))"
   ]
  },
  {
   "cell_type": "code",
   "execution_count": 19,
   "metadata": {},
   "outputs": [
    {
     "data": {
      "text/plain": [
       "<matplotlib.axes._subplots.AxesSubplot at 0x7f8f60dd9128>"
      ]
     },
     "execution_count": 19,
     "metadata": {},
     "output_type": "execute_result"
    },
    {
     "data": {
      "image/png": "[encoded data removed]",
      "text/plain": [
       "<Figure size 1008x288 with 1 Axes>"
      ]
     },
     "metadata": {
      "needs_background": "light"
     },
     "output_type": "display_data"
    }
   ],
   "source": [
    "dayofmonth_df = acc2.groupBy('dayofmonth').count().sort('dayofmonth')\n",
    "dayofmonth_df.toPandas().plot(kind='line', x='dayofmonth', figsize=(14,4))"
   ]
  },
  {
   "cell_type": "code",
   "execution_count": 20,
   "metadata": {},
   "outputs": [],
   "source": [
    "# Kecelakaan paling banyak terjadi hari jumat (mungkin banyak yang berlibur setelah senin-jumat berkerja)\n",
    "# kecelakan rendah di akhir bulan mungkin karena uangnya habis dan nunggu gajian :D"
   ]
  },
  {
   "cell_type": "code",
   "execution_count": 21,
   "metadata": {},
   "outputs": [],
   "source": [
    "split_ = split(col('Time'), ':')\n",
    "acc2 = acc2.withColumn('hour', split_.getItem(0)).withColumn('minute', split_.getItem(1))"
   ]
  },
  {
   "cell_type": "code",
   "execution_count": 22,
   "metadata": {},
   "outputs": [
    {
     "name": "stdout",
     "output_type": "stream",
     "text": [
      "+-----+----+------+\n",
      "| Time|hour|minute|\n",
      "+-----+----+------+\n",
      "|03:12|  03|    12|\n",
      "|01:30|  01|    30|\n",
      "|00:30|  00|    30|\n",
      "+-----+----+------+\n",
      "only showing top 3 rows\n",
      "\n"
     ]
    }
   ],
   "source": [
    "acc2.select('Time','hour','minute').show(3)"
   ]
  },
  {
   "cell_type": "code",
   "execution_count": 23,
   "metadata": {},
   "outputs": [
    {
     "data": {
      "text/plain": [
       "<matplotlib.axes._subplots.AxesSubplot at 0x7f8f60d96978>"
      ]
     },
     "execution_count": 23,
     "metadata": {},
     "output_type": "execute_result"
    },
    {
     "data": {
      "image/png": "[encoded data removed]",
      "text/plain": [
       "<Figure size 1008x288 with 1 Axes>"
      ]
     },
     "metadata": {
      "needs_background": "light"
     },
     "output_type": "display_data"
    }
   ],
   "source": [
    "hour_df = acc2.groupBy('hour').count().sort('hour')\n",
    "hour_df.toPandas().plot(kind='bar', x='hour', figsize=(14,4))"
   ]
  },
  {
   "cell_type": "code",
   "execution_count": 24,
   "metadata": {},
   "outputs": [],
   "source": [
    "# kecelakaan sering terjadi pada jam pulang kantor antara pukul 15-19 \n",
    "# hal ini menguatkan statement kecelakaan paling banyak terjadi pada hari jumat \n",
    "# karena banyak yang keluar berlibur pada sore hari setelah bekerja "
   ]
  },
  {
   "cell_type": "code",
   "execution_count": null,
   "metadata": {},
   "outputs": [],
   "source": []
  },
  {
   "cell_type": "code",
   "execution_count": 25,
   "metadata": {},
   "outputs": [],
   "source": [
    "######################### 2. Korban dan Faktor Kecelakaan"
   ]
  },
  {
   "cell_type": "code",
   "execution_count": 26,
   "metadata": {},
   "outputs": [
    {
     "name": "stdout",
     "output_type": "stream",
     "text": [
      "+--------------------+------+\n",
      "|Number_of_Casualties| count|\n",
      "+--------------------+------+\n",
      "|                   1|102480|\n",
      "|                   2| 19012|\n",
      "|                   3|  5460|\n",
      "|                   4|  1934|\n",
      "|                   5|   673|\n",
      "|                   6|   261|\n",
      "|                   7|    81|\n",
      "|                   8|    30|\n",
      "|                   9|    16|\n",
      "|                  10|    17|\n",
      "+--------------------+------+\n",
      "\n"
     ]
    }
   ],
   "source": [
    "# jumlah korban\n",
    "Number_of_Casualties_df = acc2.groupBy('Number_of_Casualties').count().sort('Number_of_Casualties').limit(10)\n",
    "Number_of_Casualties_df.show()"
   ]
  },
  {
   "cell_type": "code",
   "execution_count": 27,
   "metadata": {},
   "outputs": [],
   "source": [
    "# Paling banyak korban dari setiap kecelakaan adalah 1 orang. \n",
    "# Bisa jadi kecelakaan tunggal atau kendaraan hanya berisi sedikit orang (< 2 orang)   "
   ]
  },
  {
   "cell_type": "code",
   "execution_count": 28,
   "metadata": {},
   "outputs": [
    {
     "name": "stdout",
     "output_type": "stream",
     "text": [
      "+------------------+-----+\n",
      "|Number_of_Vehicles|count|\n",
      "+------------------+-----+\n",
      "|                 2|77452|\n",
      "|                 1|39046|\n",
      "|                 3|10336|\n",
      "|                 4| 2311|\n",
      "|                 5|  552|\n",
      "|                 6|  169|\n",
      "|                 7|   62|\n",
      "|                 8|   20|\n",
      "|                 9|   16|\n",
      "|                10|   10|\n",
      "+------------------+-----+\n",
      "\n"
     ]
    }
   ],
   "source": [
    "Number_of_Vehicles_df = acc2.groupBy('Number_of_Vehicles').count().sort('count', ascending=False).limit(10)\n",
    "Number_of_Vehicles_df.show()"
   ]
  },
  {
   "cell_type": "code",
   "execution_count": 29,
   "metadata": {},
   "outputs": [],
   "source": [
    "# kecelakaan paling banyak disebabkan oleh 2 kendaraan (bisa karena tabrakan 2 kendaraan)\n",
    "# kecelakaan tunggal menempati urutan kedua (bisa karena kondisi jalan atau drivernya)"
   ]
  },
  {
   "cell_type": "code",
   "execution_count": 30,
   "metadata": {},
   "outputs": [
    {
     "data": {
      "text/plain": [
       "<matplotlib.axes._subplots.AxesSubplot at 0x7f8f60d1f2b0>"
      ]
     },
     "execution_count": 30,
     "metadata": {},
     "output_type": "execute_result"
    },
    {
     "data": {
      "image/png": "[encoded data removed]",
      "text/plain": [
       "<Figure size 432x288 with 1 Axes>"
      ]
     },
     "metadata": {
      "needs_background": "light"
     },
     "output_type": "display_data"
    }
   ],
   "source": [
    "# tingkat kecelakaan\n",
    "# 1\tFatal\n",
    "# 2\tSerious\n",
    "# 3\tSlight\n",
    "\n",
    "Accident_Severity_df = acc2.groupBy('Accident_Severity').count().sort('count', ascending=False)\n",
    "Accident_Severity_df.toPandas().plot(kind='bar', x='Accident_Severity')"
   ]
  },
  {
   "cell_type": "code",
   "execution_count": 31,
   "metadata": {},
   "outputs": [],
   "source": [
    "# kebanyakan kecelakaan hanya kecelakaan ringan. kecelakaan fatal hanya sedikit terjadi "
   ]
  },
  {
   "cell_type": "code",
   "execution_count": 32,
   "metadata": {},
   "outputs": [
    {
     "name": "stdout",
     "output_type": "stream",
     "text": [
      "AxesSubplot(0.125,0.125;0.775x0.755)\n"
     ]
    },
    {
     "data": {
      "image/png": "[encoded data removed]",
      "text/plain": [
       "<Figure size 432x288 with 1 Axes>"
      ]
     },
     "metadata": {
      "needs_background": "light"
     },
     "output_type": "display_data"
    }
   ],
   "source": [
    "# jenis kelamin korban\n",
    "# 1\tMale\n",
    "# 2\tFemale\n",
    "# -1\tData missing or out of range\n",
    "\n",
    "\n",
    "Sex_of_Casualty_df = cas.groupBy('Sex_of_Casualty').count().sort('count', ascending=False)\n",
    "print(Sex_of_Casualty_df.toPandas().plot(kind='bar', x='Sex_of_Casualty'))\n"
   ]
  },
  {
   "cell_type": "code",
   "execution_count": 33,
   "metadata": {},
   "outputs": [],
   "source": [
    "Age_Band_of_Casualty_df = cas.groupBy('Age_Band_of_Casualty').count().sort('Age_Band_of_Casualty')"
   ]
  },
  {
   "cell_type": "code",
   "execution_count": 34,
   "metadata": {},
   "outputs": [],
   "source": [
    "age_band = spark.read.csv('../dataset/Veh/age_band.csv', inferSchema=True, header=True)"
   ]
  },
  {
   "cell_type": "code",
   "execution_count": 35,
   "metadata": {},
   "outputs": [],
   "source": [
    "age_band_join = Age_Band_of_Casualty_df.join(age_band, (Age_Band_of_Casualty_df.Age_Band_of_Casualty==age_band.code))"
   ]
  },
  {
   "cell_type": "code",
   "execution_count": 36,
   "metadata": {},
   "outputs": [
    {
     "data": {
      "text/plain": [
       "<matplotlib.axes._subplots.AxesSubplot at 0x7f8f60ca0898>"
      ]
     },
     "execution_count": 36,
     "metadata": {},
     "output_type": "execute_result"
    },
    {
     "data": {
      "image/png": "[encoded data removed]",
      "text/plain": [
       "<Figure size 864x288 with 1 Axes>"
      ]
     },
     "metadata": {
      "needs_background": "light"
     },
     "output_type": "display_data"
    }
   ],
   "source": [
    "#distribusi korban\n",
    "\n",
    "age_band_join.select('label','count').toPandas().plot(kind='bar', x='label', figsize=(12,4))"
   ]
  },
  {
   "cell_type": "code",
   "execution_count": 37,
   "metadata": {},
   "outputs": [],
   "source": [
    "# korban kecelakaan paling banyak adalah laki-laki dan berumur 26 - 35 tahun\n",
    "# masih punya darah muda dan suka kebut2an (maybe)"
   ]
  },
  {
   "cell_type": "code",
   "execution_count": 38,
   "metadata": {},
   "outputs": [
    {
     "name": "stdout",
     "output_type": "stream",
     "text": [
      "+--------------+------+\n",
      "|Casualty_Class| count|\n",
      "+--------------+------+\n",
      "|             1|109446|\n",
      "|             2| 37742|\n",
      "|             3| 23805|\n",
      "+--------------+------+\n",
      "\n"
     ]
    }
   ],
   "source": [
    "# 1\tDriver or rider\n",
    "# 2\tPassenger\n",
    "# 3\tPedestrian\n",
    "\n",
    "Casualty_Class_df = cas.groupBy('Casualty_Class').count().sort('Casualty_Class')\n",
    "Casualty_Class_df.show()"
   ]
  },
  {
   "cell_type": "code",
   "execution_count": 39,
   "metadata": {},
   "outputs": [],
   "source": [
    "# sebagaian besar korban kecelakaan adalah driver itu sendiri"
   ]
  },
  {
   "cell_type": "code",
   "execution_count": 159,
   "metadata": {},
   "outputs": [],
   "source": [
    "journey_purpose = spark.read.csv('../dataset/Veh/journey_purpose.csv', inferSchema=True, header=True)"
   ]
  },
  {
   "cell_type": "code",
   "execution_count": 164,
   "metadata": {},
   "outputs": [
    {
     "data": {
      "text/plain": [
       "<matplotlib.axes._subplots.AxesSubplot at 0x7f8f60b572b0>"
      ]
     },
     "execution_count": 164,
     "metadata": {},
     "output_type": "execute_result"
    },
    {
     "data": {
      "image/png": "[encoded data removed]",
      "text/plain": [
       "<Figure size 432x288 with 1 Axes>"
      ]
     },
     "metadata": {
      "needs_background": "light"
     },
     "output_type": "display_data"
    }
   ],
   "source": [
    "journey_purpose_df = veh.groupBy('Journey_Purpose_of_Driver').count().sort('count')\n",
    "journey_join = journey_purpose_df.join(journey_purpose, (journey_purpose_df.Journey_Purpose_of_Driver==journey_purpose.code))\n",
    "journey_join.select('label','count').toPandas().plot(kind='bar', x='label')"
   ]
  },
  {
   "cell_type": "code",
   "execution_count": null,
   "metadata": {},
   "outputs": [],
   "source": [
    "# korban kecelakaan sebagaian besar tidak diketahui mempunyai tujuan kemana, tetapi banyak juga yang dalam perjalanan kerja"
   ]
  },
  {
   "cell_type": "code",
   "execution_count": 40,
   "metadata": {},
   "outputs": [],
   "source": [
    "# apakah kecelakaan disebabkan cuaca? \n",
    "weather = spark.read.csv('../dataset/Veh/weather.csv', inferSchema=True, header=True)"
   ]
  },
  {
   "cell_type": "code",
   "execution_count": 41,
   "metadata": {},
   "outputs": [
    {
     "name": "stdout",
     "output_type": "stream",
     "text": [
      "+--------------------+------+\n",
      "|               label| count|\n",
      "+--------------------+------+\n",
      "|  Fine no high winds|104710|\n",
      "|Raining no high w...| 14300|\n",
      "|             Unknown|  4590|\n",
      "|               Other|  2674|\n",
      "|   Fine + high winds|  1241|\n",
      "|Raining + high winds|  1102|\n",
      "|Snowing no high w...|   641|\n",
      "|         Fog or mist|   624|\n",
      "|Snowing + high winds|    99|\n",
      "|Data missing or o...|     1|\n",
      "+--------------------+------+\n",
      "\n"
     ]
    }
   ],
   "source": [
    "Weather_Conditions_df = acc2.groupBy('Weather_Conditions').count().sort('count', ascending=False)\n",
    "Weather_Conditions_df.join(weather, (Weather_Conditions_df.Weather_Conditions==weather.code)).select('label','count').show()"
   ]
  },
  {
   "cell_type": "code",
   "execution_count": 42,
   "metadata": {},
   "outputs": [],
   "source": [
    "# kecelakaan sebagaian besar tidak terjadi karena keadaan cuaca seperti hujan / angin kencang"
   ]
  },
  {
   "cell_type": "code",
   "execution_count": 43,
   "metadata": {},
   "outputs": [],
   "source": [
    "# apakah kecelakaan disebabkan kondisi jalan? "
   ]
  },
  {
   "cell_type": "code",
   "execution_count": 44,
   "metadata": {},
   "outputs": [],
   "source": [
    "road_surface = spark.read.csv('../dataset/Veh/road_surface.csv', inferSchema=True, header=True)"
   ]
  },
  {
   "cell_type": "code",
   "execution_count": 45,
   "metadata": {},
   "outputs": [
    {
     "name": "stdout",
     "output_type": "stream",
     "text": [
      "+--------------------+-----+\n",
      "|               label|count|\n",
      "+--------------------+-----+\n",
      "|                 Dry|92628|\n",
      "|         Wet or damp|32564|\n",
      "|        Frost or ice| 2319|\n",
      "|Data missing or o...| 1937|\n",
      "|                Snow|  428|\n",
      "|Flood over 3cm. deep|  106|\n",
      "+--------------------+-----+\n",
      "\n"
     ]
    }
   ],
   "source": [
    "Road_Surface_Conditions_df = acc2.groupBy('Road_Surface_Conditions').count().sort('count', ascending=False)\n",
    "Road_Surface_Conditions_df.join(road_surface, (Road_Surface_Conditions_df.Road_Surface_Conditions==road_surface.code)).select('label','count').show()"
   ]
  },
  {
   "cell_type": "code",
   "execution_count": 46,
   "metadata": {},
   "outputs": [],
   "source": [
    "# sebagaian besar terjadi saat jalan kering disusul oleh kondisi jalan basah/lembab dengan perbandingan 1/3 \n",
    "# dapat disimpulkan sebagaian besar bukan karena kondisi jalan maupun cuaca"
   ]
  },
  {
   "cell_type": "code",
   "execution_count": 72,
   "metadata": {},
   "outputs": [],
   "source": [
    "# apakah karena kondisi penerangan jalan?\n",
    "\n",
    "light_conds = spark.read.csv('../dataset/Veh/light_conditions.csv', inferSchema=True, header=True)\n"
   ]
  },
  {
   "cell_type": "code",
   "execution_count": 73,
   "metadata": {},
   "outputs": [
    {
     "name": "stdout",
     "output_type": "stream",
     "text": [
      "+--------------------+-----+\n",
      "|               label|count|\n",
      "+--------------------+-----+\n",
      "|            Daylight|92678|\n",
      "|Darkness - lights...|26847|\n",
      "|Darkness - no lig...| 6678|\n",
      "|Darkness - lighti...| 2849|\n",
      "|Darkness - lights...|  929|\n",
      "|Data missing or o...|    1|\n",
      "+--------------------+-----+\n",
      "\n"
     ]
    }
   ],
   "source": [
    "Light_Conditions_df = acc2.groupBy('Light_Conditions').count().sort('count', ascending=False)\n",
    "Light_Conditions_df.join(light_conds, (Light_Conditions_df.Light_Conditions==light_conds.code)).select('label','count').show()\n"
   ]
  },
  {
   "cell_type": "code",
   "execution_count": 74,
   "metadata": {},
   "outputs": [],
   "source": [
    "# kebanyakan kecelakaan terjadi di siang hari, kalaupun malam ada pencahayaan lampu di jalan.. \n",
    "# semakin menguatkan banyak kecelakaan terjadi akibat dari kesalahan driver"
   ]
  },
  {
   "cell_type": "code",
   "execution_count": 47,
   "metadata": {},
   "outputs": [],
   "source": [
    "special_conds = spark.read.csv('../dataset/Veh/special_conditions.csv', inferSchema=True, header=True)"
   ]
  },
  {
   "cell_type": "code",
   "execution_count": 48,
   "metadata": {},
   "outputs": [
    {
     "name": "stdout",
     "output_type": "stream",
     "text": [
      "+--------------------+------+\n",
      "|               label| count|\n",
      "+--------------------+------+\n",
      "|                None|125040|\n",
      "|Data missing or o...|  2206|\n",
      "|           Roadworks|  1352|\n",
      "|                 Mud|   375|\n",
      "|Auto traffic sign...|   308|\n",
      "|       Oil or diesel|   270|\n",
      "|Road surface defe...|   208|\n",
      "|Road sign or mark...|   159|\n",
      "|Auto signal part ...|    64|\n",
      "+--------------------+------+\n",
      "\n"
     ]
    }
   ],
   "source": [
    "Special_Conditions_at_Site_df = acc2.groupBy('Special_Conditions_at_Site').count().sort('count', ascending=False)\n",
    "Special_Conditions_at_Site_df.join(special_conds, (Special_Conditions_at_Site_df.Special_Conditions_at_Site==special_conds.code)).select('label','count').show()"
   ]
  },
  {
   "cell_type": "code",
   "execution_count": 49,
   "metadata": {},
   "outputs": [],
   "source": [
    "# banyak dari kecelakaan tidak diketahui / missing apakah karena ada kondisi khusus, \n",
    "# Roadworks/ perbaikan jalan menyumbang faktor terjadinya kecelakaan lebih besar dari lainnya\n",
    "# kondisi jalan yang mengandung oli, lumpur tidak terlalu menyumbang faktor kecelakaan "
   ]
  },
  {
   "cell_type": "code",
   "execution_count": 50,
   "metadata": {},
   "outputs": [],
   "source": [
    "# join data cas & acc\n",
    "cas_acc = cas.join(acc, on='Accident_Index', how='left')"
   ]
  },
  {
   "cell_type": "code",
   "execution_count": 116,
   "metadata": {},
   "outputs": [],
   "source": [
    "# join data acc & vehicle\n",
    "acc_veh = acc.join(veh, on='Accident_Index', how='left')"
   ]
  },
  {
   "cell_type": "code",
   "execution_count": 51,
   "metadata": {},
   "outputs": [],
   "source": [
    "# apakah faktor yang menyebabkan kecelakaan sedikit juga memberikan korban yang sedikit pula?"
   ]
  },
  {
   "cell_type": "code",
   "execution_count": 52,
   "metadata": {},
   "outputs": [],
   "source": [
    "cas_acc.createOrReplaceTempView('cas_acc')"
   ]
  },
  {
   "cell_type": "code",
   "execution_count": 119,
   "metadata": {},
   "outputs": [],
   "source": [
    "acc_veh.createOrReplaceTempView('acc_veh')"
   ]
  },
  {
   "cell_type": "code",
   "execution_count": 53,
   "metadata": {},
   "outputs": [
    {
     "name": "stdout",
     "output_type": "stream",
     "text": [
      "+-----------------+------+\n",
      "|Casualty_Severity|jumlah|\n",
      "+-----------------+------+\n",
      "|                1|    16|\n",
      "|                2|   216|\n",
      "|                3|  1613|\n",
      "+-----------------+------+\n",
      "\n",
      "None\n",
      "+-----------------+------+\n",
      "|Casualty_Severity|jumlah|\n",
      "+-----------------+------+\n",
      "|                1|     1|\n",
      "|                2|    72|\n",
      "|                3|   311|\n",
      "+-----------------+------+\n",
      "\n",
      "None\n"
     ]
    }
   ],
   "source": [
    "# Special_Conditions_at_Site=4 / roadworks\n",
    "special_conds_roadworks = spark.sql(\"select Casualty_Severity, count('Casualty_Severity') as jumlah \\\n",
    "            from cas_acc \\\n",
    "            where Special_Conditions_at_Site=4 \\\n",
    "            group by Casualty_Severity \\\n",
    "            order by Casualty_Severity \")\n",
    "\n",
    "# Special_Conditions_at_Site=6 / oil or diesel\n",
    "special_conds_oil = spark.sql(\"select Casualty_Severity, count('Casualty_Severity') as jumlah \\\n",
    "            from cas_acc \\\n",
    "            where Special_Conditions_at_Site=6 \\\n",
    "            group by Casualty_Severity \\\n",
    "            order by Casualty_Severity\")\n",
    "\n",
    "print(special_conds_roadworks.show())\n",
    "print(special_conds_oil.show())\n",
    "\n",
    "# 1\tFatal\n",
    "# 2\tSerious\n",
    "# 3\tSlight\n"
   ]
  },
  {
   "cell_type": "code",
   "execution_count": 54,
   "metadata": {},
   "outputs": [],
   "source": [
    "# ternyata faktor2 spesial tidak memberikan dampak fatal pada kecelakaan.. sebagaian besar adalah kecelakaan ringan"
   ]
  },
  {
   "cell_type": "code",
   "execution_count": 55,
   "metadata": {},
   "outputs": [],
   "source": [
    "carriageway_hazards = spark.read.csv('../dataset/Veh/carriageway_hazards.csv', inferSchema=True, header=True)"
   ]
  },
  {
   "cell_type": "code",
   "execution_count": 56,
   "metadata": {},
   "outputs": [
    {
     "name": "stdout",
     "output_type": "stream",
     "text": [
      "+--------------------+------+\n",
      "|               label| count|\n",
      "+--------------------+------+\n",
      "|                None|125508|\n",
      "|Data missing or o...|  2073|\n",
      "|Other object on road|  1224|\n",
      "|Any animal in car...|   477|\n",
      "|Pedestrian in car...|   254|\n",
      "|Vehicle load on road|   252|\n",
      "|   Previous accident|   194|\n",
      "+--------------------+------+\n",
      "\n"
     ]
    }
   ],
   "source": [
    "Carriageway_Hazards_df = acc2.groupBy('Carriageway_Hazards').count().sort('count', ascending=False)\n",
    "Carriageway_Hazards_df.join(carriageway_hazards, (Carriageway_Hazards_df.Carriageway_Hazards==carriageway_hazards.code)).select('label','count').show()"
   ]
  },
  {
   "cell_type": "code",
   "execution_count": 57,
   "metadata": {},
   "outputs": [],
   "source": [
    "# salah satu faktor kecelakaan adalah karena adanya objek di jalan. seperti ada kendaraan dari arah berlawanan atau pejalan kaki"
   ]
  },
  {
   "cell_type": "code",
   "execution_count": null,
   "metadata": {},
   "outputs": [],
   "source": []
  },
  {
   "cell_type": "code",
   "execution_count": 61,
   "metadata": {},
   "outputs": [],
   "source": [
    "######################### 3. Lokasi Kecelakaan"
   ]
  },
  {
   "cell_type": "code",
   "execution_count": 65,
   "metadata": {},
   "outputs": [
    {
     "name": "stdout",
     "output_type": "stream",
     "text": [
      "+-------------------+-----+\n",
      "|Urban_or_Rural_Area|count|\n",
      "+-------------------+-----+\n",
      "|                  1|87450|\n",
      "|                  2|42522|\n",
      "|                  3|   10|\n",
      "+-------------------+-----+\n",
      "\n"
     ]
    }
   ],
   "source": [
    "# lokasi kecelakaan\n",
    "\n",
    "Urban_or_Rural_Area_df = acc.groupBy('Urban_or_Rural_Area').count().sort('Urban_or_Rural_Area')\n",
    "Urban_or_Rural_Area_df.show()\n",
    "\n",
    "# 1\tUrban\n",
    "# 2\tRural\n",
    "# 3\tUnallocated\n",
    "\n"
   ]
  },
  {
   "cell_type": "code",
   "execution_count": 66,
   "metadata": {},
   "outputs": [],
   "source": [
    "# kecelakaan paling banyak terjadi di perkotaan, tetapi angka kecelakaan di desa juga besar (setengah dari di perkotaan)"
   ]
  },
  {
   "cell_type": "code",
   "execution_count": 85,
   "metadata": {},
   "outputs": [
    {
     "name": "stdout",
     "output_type": "stream",
     "text": [
      "+---------------------------------+------+\n",
      "|Pedestrian_Crossing-Human_Control| count|\n",
      "+---------------------------------+------+\n",
      "|                               -1|  2574|\n",
      "|                                0|125724|\n",
      "|                                1|   438|\n",
      "|                                2|  1246|\n",
      "+---------------------------------+------+\n",
      "\n",
      "None\n",
      "+---------------------------------------+------+\n",
      "|Pedestrian_Crossing-Physical_Facilities| count|\n",
      "+---------------------------------------+------+\n",
      "|                                     -1|  2765|\n",
      "|                                      0|102242|\n",
      "|                                      1|  4298|\n",
      "|                                      4|  7915|\n",
      "|                                      5|  9338|\n",
      "|                                      7|   241|\n",
      "|                                      8|  3183|\n",
      "+---------------------------------------+------+\n",
      "\n",
      "None\n"
     ]
    }
   ],
   "source": [
    "print(acc2.groupBy('Pedestrian_Crossing-Human_Control').count().sort('Pedestrian_Crossing-Human_Control').show())\n",
    "print(acc2.groupBy('Pedestrian_Crossing-Physical_Facilities').count().sort('Pedestrian_Crossing-Physical_Facilities').show())"
   ]
  },
  {
   "cell_type": "code",
   "execution_count": 86,
   "metadata": {},
   "outputs": [],
   "source": [
    "# lokasi kecelakaan tidak banyak di area pejalan kaki -> code 0"
   ]
  },
  {
   "cell_type": "code",
   "execution_count": 90,
   "metadata": {},
   "outputs": [],
   "source": [
    "road_type = spark.read.csv('../dataset/Veh/road_type.csv', inferSchema=True, header=True)"
   ]
  },
  {
   "cell_type": "code",
   "execution_count": 92,
   "metadata": {},
   "outputs": [
    {
     "name": "stdout",
     "output_type": "stream",
     "text": [
      "+----+------------------+-----+\n",
      "|code|             label|count|\n",
      "+----+------------------+-----+\n",
      "|   6|Single carriageway|93811|\n",
      "|   3|  Dual carriageway|20340|\n",
      "|   1|        Roundabout| 8417|\n",
      "|   2|    One way street| 3386|\n",
      "|   9|           Unknown| 2552|\n",
      "|   7|         Slip road| 1476|\n",
      "+----+------------------+-----+\n",
      "\n"
     ]
    }
   ],
   "source": [
    "Road_Type_df = acc2.groupBy('Road_Type').count().sort('count', ascending=False)\n",
    "Road_Type_df.join(road_type, (Road_Type_df.Road_Type==road_type.code)).select('code','label','count').show()"
   ]
  },
  {
   "cell_type": "code",
   "execution_count": 97,
   "metadata": {},
   "outputs": [],
   "source": [
    "# banyak kecelakaan terjadi pada kendaraan yang berada di satu jalur (kemungkinan besar tabrakan), \n",
    "# disusul oleh kendaraan di dua jalur dan bundaraan"
   ]
  },
  {
   "cell_type": "code",
   "execution_count": 95,
   "metadata": {},
   "outputs": [
    {
     "name": "stdout",
     "output_type": "stream",
     "text": [
      "+-----------+------+\n",
      "|Speed_limit|jumlah|\n",
      "+-----------+------+\n",
      "|         30| 78098|\n",
      "|         60| 22611|\n",
      "|         20|  8690|\n",
      "|         40|  8633|\n",
      "|         50|  4392|\n",
      "+-----------+------+\n",
      "\n"
     ]
    }
   ],
   "source": [
    "spark.sql(\"select Speed_limit, count(Speed_limit) as jumlah \\\n",
    "            from cas_acc \\\n",
    "            where Road_Type=='6' \\\n",
    "            group by Speed_limit \\\n",
    "            order by jumlah desc\").show()"
   ]
  },
  {
   "cell_type": "code",
   "execution_count": null,
   "metadata": {},
   "outputs": [],
   "source": [
    "# kecelakaan di satu jalur paling banyak terjadi saat batas kecepatan adalah maksimal 30 KM/Jam.. \n",
    "# mungkin banyak driver yang mempercepat kecepatan kendaraannya lebih dari 30 KM/Jam. \n",
    "# geografis jalan mungkin adalah tikungan, jalan tidak lurus dll"
   ]
  },
  {
   "cell_type": "code",
   "execution_count": 96,
   "metadata": {},
   "outputs": [
    {
     "name": "stdout",
     "output_type": "stream",
     "text": [
      "+---------------+-----+\n",
      "|Junction_Detail|count|\n",
      "+---------------+-----+\n",
      "|             -1|  609|\n",
      "|              1|10751|\n",
      "|              6|12352|\n",
      "|              3|38902|\n",
      "|              5| 2048|\n",
      "|              9| 4710|\n",
      "|              8| 3264|\n",
      "|              7| 1567|\n",
      "|              2| 1501|\n",
      "|              0|54278|\n",
      "+---------------+-----+\n",
      "\n"
     ]
    }
   ],
   "source": []
  },
  {
   "cell_type": "code",
   "execution_count": 103,
   "metadata": {},
   "outputs": [],
   "source": [
    "# sedangkan kecelakaan di bundaraan/persimpangan paling banyak terjadi di?\n",
    "junction_detail = spark.read.csv('../dataset/Veh/junction_detail.csv', inferSchema=True, header=True)\n",
    "junction_control = spark.read.csv('../dataset/Veh/junction_control.csv', inferSchema=True, header=True)"
   ]
  },
  {
   "cell_type": "code",
   "execution_count": 104,
   "metadata": {},
   "outputs": [
    {
     "name": "stdout",
     "output_type": "stream",
     "text": [
      "+----+--------------------+-----+\n",
      "|code|               label|count|\n",
      "+----+--------------------+-----+\n",
      "|   0|Not at junction o...|54278|\n",
      "|   3|T or staggered ju...|38902|\n",
      "|   6|          Crossroads|12352|\n",
      "|   1|          Roundabout|10751|\n",
      "|   9|      Other junction| 4710|\n",
      "|   8|Private drive or ...| 3264|\n",
      "|   5|           Slip road| 2048|\n",
      "|   7|More than 4 arms ...| 1567|\n",
      "|   2|     Mini-roundabout| 1501|\n",
      "|  -1|Data missing or o...|  609|\n",
      "+----+--------------------+-----+\n",
      "\n"
     ]
    }
   ],
   "source": [
    "Junction_Detail_df = acc2.groupBy('Junction_Detail').count().sort('count', ascending=False)\n",
    "Junction_Detail_df.join(junction_detail, (Junction_Detail_df.Junction_Detail==junction_detail.code)).select('code','label','count').show()"
   ]
  },
  {
   "cell_type": "code",
   "execution_count": 107,
   "metadata": {},
   "outputs": [],
   "source": [
    "# kecelakaan paling banyak adalah tidak dipersimpangan \n",
    "#(seperti analisis sebelumnya lebih banyak terjadi di satu dan 2 jalur)\n",
    "# selain di satu dan dua jalur kecelakaan banyak terjadi di persimpangan T atau bundaran"
   ]
  },
  {
   "cell_type": "code",
   "execution_count": 109,
   "metadata": {},
   "outputs": [
    {
     "name": "stdout",
     "output_type": "stream",
     "text": [
      "+----------------+------+\n",
      "|Junction_Control|jumlah|\n",
      "+----------------+------+\n",
      "|               4| 42083|\n",
      "|               2|  5910|\n",
      "|              -1|   990|\n",
      "|               3|   536|\n",
      "|               1|   252|\n",
      "+----------------+------+\n",
      "\n"
     ]
    }
   ],
   "source": [
    "spark.sql(\"select Junction_Control, count('*') as jumlah \\\n",
    "            from cas_acc \\\n",
    "            where junction_detail=3 \\\n",
    "            group by Junction_Control \\\n",
    "            order by jumlah desc\").show()\n",
    "\n",
    "# 0\tNot at junction or within 20 metres\n",
    "# 1\tAuthorised person\n",
    "# 2\tAuto traffic signal\n",
    "# 3\tStop sign\n",
    "# 4\tGive way or uncontrolled\n"
   ]
  },
  {
   "cell_type": "code",
   "execution_count": 110,
   "metadata": {},
   "outputs": [],
   "source": [
    "# kecelakaan di persimpangan T banyak terjadi karena tidak ada lampu lalu lintas sebagai pengaturnya. \n",
    "# dengan pemberian tanda lalu lintas akan lebih meminimalisir kecelakaan"
   ]
  },
  {
   "cell_type": "code",
   "execution_count": 117,
   "metadata": {},
   "outputs": [],
   "source": [
    "# lokasi kecelakaan di persimpangan"
   ]
  },
  {
   "cell_type": "code",
   "execution_count": 124,
   "metadata": {},
   "outputs": [],
   "source": [
    "junction_location = spark.read.csv('../dataset/Veh/junction_location.csv', inferSchema=True, header=True)"
   ]
  },
  {
   "cell_type": "code",
   "execution_count": 125,
   "metadata": {},
   "outputs": [
    {
     "name": "stdout",
     "output_type": "stream",
     "text": [
      "+-----------------+------+----+--------------------+\n",
      "|Junction_Location|jumlah|code|               label|\n",
      "+-----------------+------+----+--------------------+\n",
      "|                4|  5157|   4| Entering roundabout|\n",
      "|                8|  4949|   8|Mid Junction - on...|\n",
      "|                3|  2664|   3|  Leaving roundabout|\n",
      "|                1|  2069|   1|Approaching junct...|\n",
      "|                0|   671|   0|Not at or within ...|\n",
      "|                2|   212|   2|Cleared junction ...|\n",
      "|               -1|   130|  -1|Data missing or o...|\n",
      "|                6|    63|   6|  Entering main road|\n",
      "|                5|    45|   5|   Leaving main road|\n",
      "|                7|    23|   7|Entering from sli...|\n",
      "+-----------------+------+----+--------------------+\n",
      "\n"
     ]
    }
   ],
   "source": [
    "junction = spark.sql(\"select Junction_Location, count(*) as jumlah \\\n",
    "            from acc_veh \\\n",
    "            where Road_Type=1 \\\n",
    "            group by Junction_Location \\\n",
    "            order by jumlah desc\")\n",
    "\n",
    "\n",
    "junction.join(junction_location, (junction.Junction_Location==junction_location.code)).show()"
   ]
  },
  {
   "cell_type": "code",
   "execution_count": 126,
   "metadata": {},
   "outputs": [],
   "source": [
    "# kecelakaan banyak terjadi di persimpangan/bundaraan adalah saat kendaraan masuk ke bundaraan dan di tengah bundaraan"
   ]
  },
  {
   "cell_type": "code",
   "execution_count": null,
   "metadata": {},
   "outputs": [],
   "source": []
  },
  {
   "cell_type": "code",
   "execution_count": 111,
   "metadata": {},
   "outputs": [],
   "source": [
    "######################### 4. Kondisi Kendaraan"
   ]
  },
  {
   "cell_type": "code",
   "execution_count": 113,
   "metadata": {},
   "outputs": [
    {
     "name": "stdout",
     "output_type": "stream",
     "text": [
      "+-----------------------+------+\n",
      "|Towing_and_Articulation| count|\n",
      "+-----------------------+------+\n",
      "|                     -1|  4449|\n",
      "|                      1|  2324|\n",
      "|                      3|   158|\n",
      "|                      5|   382|\n",
      "|                      4|   791|\n",
      "|                      2|    50|\n",
      "|                      0|230772|\n",
      "+-----------------------+------+\n",
      "\n"
     ]
    }
   ],
   "source": [
    "veh.groupBy('Towing_and_Articulation').count().show()\n",
    "\n",
    "# 0\tNo tow/articulation\n",
    "# 1\tArticulated vehicle\n",
    "# 2\tDouble or multiple trailer\n",
    "# 3\tCaravan\n",
    "# 4\tSingle trailer\n",
    "# 5\tOther tow\n",
    "# -1\tData missing or out of range\n"
   ]
  },
  {
   "cell_type": "code",
   "execution_count": 114,
   "metadata": {},
   "outputs": [],
   "source": [
    "#karena kebanyakan adalah kecelakaan ringan maka jarang ada kendaraan derek yang dipanggil"
   ]
  },
  {
   "cell_type": "code",
   "execution_count": 129,
   "metadata": {},
   "outputs": [],
   "source": [
    "Vehicle_Manoeuvre = spark.read.csv('../dataset/Veh/vehicle_manoeuvre.csv', inferSchema=True, header=True)"
   ]
  },
  {
   "cell_type": "code",
   "execution_count": 131,
   "metadata": {},
   "outputs": [
    {
     "name": "stdout",
     "output_type": "stream",
     "text": [
      "+----+--------------------+------+\n",
      "|code|               label| count|\n",
      "+----+--------------------+------+\n",
      "|  18|   Going ahead other|114183|\n",
      "|   9|       Turning right| 22259|\n",
      "|   4| Slowing or stopping| 17133|\n",
      "|   3|Waiting to go - h...| 14214|\n",
      "|   5|          Moving off| 11688|\n",
      "|   2|              Parked|  9881|\n",
      "|  17|Going ahead right...|  7964|\n",
      "|   7|        Turning left|  7866|\n",
      "|  16|Going ahead left-...|  6939|\n",
      "|  13|Overtaking moving...|  4503|\n",
      "|  -1|Data missing or o...|  3957|\n",
      "|  10|Waiting to turn r...|  3531|\n",
      "|   1|           Reversing|  3401|\n",
      "|  14|Overtaking static...|  2661|\n",
      "|  12|Changing lane to ...|  2086|\n",
      "|  11|Changing lane to ...|  1933|\n",
      "|   6|              U-turn|  1901|\n",
      "|  15|Overtaking - near...|  1619|\n",
      "|   8|Waiting to turn left|  1207|\n",
      "+----+--------------------+------+\n",
      "\n"
     ]
    }
   ],
   "source": [
    "Vehicle_Manoeuvre_df = veh.groupBy('Vehicle_Manoeuvre').count().sort('count', ascending=False)\n",
    "Vehicle_Manoeuvre_join = Vehicle_Manoeuvre_df.join(Vehicle_Manoeuvre, (Vehicle_Manoeuvre_df.Vehicle_Manoeuvre==Vehicle_Manoeuvre.code))\n",
    "Vehicle_Manoeuvre_join.select('code','label','count').show()"
   ]
  },
  {
   "cell_type": "code",
   "execution_count": 132,
   "metadata": {},
   "outputs": [],
   "source": [
    "# posisi kendaraan saat terjadi kecelakaan adalah paling banyak karena ingin mendahului kendaraan didepannya\n",
    "# dilanjutkan dengan saat kendaraan adalah belok ke kanan dan tiba2 berhenti atau berjalan pelan"
   ]
  },
  {
   "cell_type": "code",
   "execution_count": 135,
   "metadata": {},
   "outputs": [],
   "source": [
    "hit_object = spark.read.csv('../dataset/Veh/Hit_Object_in_Carriageway.csv', inferSchema=True, header=True)"
   ]
  },
  {
   "cell_type": "code",
   "execution_count": 136,
   "metadata": {},
   "outputs": [
    {
     "name": "stdout",
     "output_type": "stream",
     "text": [
      "+----+--------------------+------+\n",
      "|code|               label| count|\n",
      "+----+--------------------+------+\n",
      "|   0|                None|223344|\n",
      "|  -1|Data missing or o...|  4594|\n",
      "|   4|      Parked vehicle|  4156|\n",
      "|  10|                Kerb|  3526|\n",
      "|   7|   Bollard or refuge|  1162|\n",
      "|  11|        Other object|   882|\n",
      "|   8|Open door of vehicle|   356|\n",
      "|  12|Any animal (excep...|   286|\n",
      "|   9|Central island of...|   212|\n",
      "|   6|       Bridge (side)|   131|\n",
      "|   2|          Road works|   128|\n",
      "|   1|   Previous accident|   122|\n",
      "|   5|       Bridge (roof)|    27|\n",
      "+----+--------------------+------+\n",
      "\n"
     ]
    }
   ],
   "source": [
    "Hit_Object_in_Carriageway_df = veh.groupBy('Hit_Object_in_Carriageway').count().sort('count', ascending=False)\n",
    "Hit_Object_in_Carriageway_join = Hit_Object_in_Carriageway_df.join(hit_object, (Hit_Object_in_Carriageway_df.Hit_Object_in_Carriageway==hit_object.code))\n",
    "Hit_Object_in_Carriageway_join.select('code','label','count').show()"
   ]
  },
  {
   "cell_type": "code",
   "execution_count": 137,
   "metadata": {},
   "outputs": [],
   "source": [
    "#kecelakaan tunggal banyak terjadi karena kendaraan menabrak kendaraan yang sedang parkir, trotoar atau pembatas jalan"
   ]
  },
  {
   "cell_type": "code",
   "execution_count": 142,
   "metadata": {},
   "outputs": [
    {
     "name": "stdout",
     "output_type": "stream",
     "text": [
      "+--------------+-----+\n",
      "|Age_of_Vehicle|count|\n",
      "+--------------+-----+\n",
      "|            -1|61634|\n",
      "|             1|16084|\n",
      "|             2|14424|\n",
      "|             3|12950|\n",
      "|             4|11796|\n",
      "|            10|11559|\n",
      "|             5|10952|\n",
      "+--------------+-----+\n",
      "\n"
     ]
    }
   ],
   "source": [
    "veh.groupBy('Age_of_Vehicle').count().sort('count', ascending=False).limit(7).show()"
   ]
  },
  {
   "cell_type": "code",
   "execution_count": 143,
   "metadata": {},
   "outputs": [],
   "source": [
    "#sebagaian besar kendaraan yang terlibat kecelakaan adalah kendaraan2 baru"
   ]
  },
  {
   "cell_type": "code",
   "execution_count": 147,
   "metadata": {},
   "outputs": [
    {
     "name": "stdout",
     "output_type": "stream",
     "text": [
      "+------------------------+------+\n",
      "|Skidding_and_Overturning| count|\n",
      "+------------------------+------+\n",
      "|                       0|208279|\n",
      "|                       1| 16090|\n",
      "|                       5|  5337|\n",
      "|                      -1|  4711|\n",
      "|                       2|  4400|\n",
      "|                       3|    58|\n",
      "|                       4|    51|\n",
      "+------------------------+------+\n",
      "\n"
     ]
    }
   ],
   "source": [
    "veh.groupBy('Skidding_and_Overturning').count().sort('count', ascending=False).show()\n",
    "# 0\tNone\n",
    "# 1\tSkidded\n",
    "# 2\tSkidded and overturned\n",
    "# 3\tJackknifed\n",
    "# 4\tJackknifed and overturned\n",
    "# 5\tOverturned\n",
    "# -1\tData missing or out of range\n"
   ]
  },
  {
   "cell_type": "code",
   "execution_count": 148,
   "metadata": {},
   "outputs": [],
   "source": [
    "# karena banyak kecelakaan ringan maka kondisi kendaraan pasca kecelakaan banyak yang tidak apa2\n",
    "# Banyak juga kendaraan yang terselip, beberapa ada yang sampai terbalik"
   ]
  },
  {
   "cell_type": "code",
   "execution_count": 152,
   "metadata": {},
   "outputs": [
    {
     "name": "stdout",
     "output_type": "stream",
     "text": [
      "+-----------------+------+\n",
      "|Accident_Severity|jumlah|\n",
      "+-----------------+------+\n",
      "|                3| 12291|\n",
      "|                2|  3445|\n",
      "|                1|   354|\n",
      "+-----------------+------+\n",
      "\n",
      "None\n",
      "+-----------------+------+\n",
      "|Accident_Severity|jumlah|\n",
      "+-----------------+------+\n",
      "|                3|  3892|\n",
      "|                2|  1299|\n",
      "|                1|   146|\n",
      "+-----------------+------+\n",
      "\n",
      "None\n"
     ]
    }
   ],
   "source": [
    "print(spark.sql(\"select Accident_Severity, count(*) as jumlah \\\n",
    "            from acc_veh \\\n",
    "            where Skidding_and_Overturning=1 \\\n",
    "            group by Accident_Severity \\\n",
    "            order by jumlah desc\").show())\n",
    "\n",
    "print(spark.sql(\"select Accident_Severity, count(*) as jumlah \\\n",
    "            from acc_veh \\\n",
    "            where Skidding_and_Overturning=5 \\\n",
    "            group by Accident_Severity \\\n",
    "            order by jumlah desc\").show())"
   ]
  },
  {
   "cell_type": "code",
   "execution_count": 153,
   "metadata": {},
   "outputs": [],
   "source": [
    "# ketika kendaraan terbalik kemungkinan kematikan penumpang lebih tinggi dari pada sekedar terselip"
   ]
  },
  {
   "cell_type": "code",
   "execution_count": 155,
   "metadata": {},
   "outputs": [
    {
     "name": "stdout",
     "output_type": "stream",
     "text": [
      "+-------------------+------+\n",
      "|1st_Point_of_Impact| count|\n",
      "+-------------------+------+\n",
      "|                  1|117656|\n",
      "|                  2| 40542|\n",
      "|                  3| 32857|\n",
      "|                  4| 29377|\n",
      "|                  0| 14533|\n",
      "|                 -1|  3961|\n",
      "+-------------------+------+\n",
      "\n"
     ]
    }
   ],
   "source": [
    "veh.groupBy('1st_Point_of_Impact').count().sort('count', ascending=False).show()\n",
    "\n",
    "# 0\tDid not impact\n",
    "# 1\tFront\n",
    "# 2\tBack\n",
    "# 3\tOffside\n",
    "# 4\tNearside\n"
   ]
  },
  {
   "cell_type": "code",
   "execution_count": 156,
   "metadata": {},
   "outputs": [],
   "source": [
    "# bagian kendaraan yang paling banyak terjadi benturan adalah bagian depan dan belakang. \n",
    "# bagian depan bisa jadi karena kecelakaan tunggal atau tabrakan dengan kendaraan lainnya"
   ]
  },
  {
   "cell_type": "code",
   "execution_count": 165,
   "metadata": {},
   "outputs": [],
   "source": [
    "## yang bisa disimpulkan\n",
    "# 1. tren kecelakaan kebanyakan di waktu pulang kerja pukul 15-19 dan diakhir weekday\n",
    "# 2. kecelakaan terjadi secara stabil di setiap bulan kecuali di akhir bulan\n",
    "# 3. korban kecelakaan sebagaian besar adalah laki2 dan distribusi korban berumur 26-35\n",
    "# 4. kecelakaan di satu jalur paling banyak terjadi saat batas kecepatan adalah maksimal 30 KM/Jam.\n",
    "# 5. cuaca, kondisi jalan, penerangan adalah faktor rendah yang menyebabkan kecelakaan (berarti sudah baik infrastrurnya)\n",
    "# 6. sebagaian besar kecelakaan adalah kecelakaan ringan kecuali ada kondisi kendaraan sampai terbalik \n",
    "# 7. kecelakaan banyak terjadi di persimpangan yang tidak mempunyai tanda lalu lintas / lampu lalu lintas\n",
    "# 8. kecelakaan di bundaraan banyak terjadi saat kendaraan akan masuk ke bundaraan\n",
    "# 9. kecelakaan tunggal banyak terjadi karena  menabrak kendaraan yang sedang parkir, trotoar atau pembatas jalan\n",
    "# 10.penyebab kecelakaan paling banyak karena ingin mendahului kendaraan didepannya\n",
    "# 11.kecelakaan di perkotaan dan pedesaan sama2 tinggi mengindikasikan distribusi kendaraan merata di UK\n",
    "# 12.kondisi lalu lintas lebih jarang terjadi kecelakaan ketika terdapat petugas"
   ]
  },
  {
   "cell_type": "code",
   "execution_count": 166,
   "metadata": {},
   "outputs": [],
   "source": [
    "## yang disarankan:\n",
    "#1. perbanyak pos-pos petugas lalu lintas khususnya di akhir weekday dan di jam sibuk (rash hours)\n",
    "#2. memberikan tanda lalu lintas seperti dilarang mendahului kendaraan, kondisi belokan, jalan bergelombang dll\n",
    "#3. memambah lampu lalu lintas di persimpangan sedang (wait & stop sign)\n",
    "#4. mengatur parkir kendaraan di sepanjang jalan dengan lebih baik dan pembatas jalan"
   ]
  },
  {
   "cell_type": "code",
   "execution_count": null,
   "metadata": {},
   "outputs": [],
   "source": []
  }
 ],
 "metadata": {
  "kernelspec": {
   "display_name": "Python 3",
   "language": "python",
   "name": "python3"
  },
  "language_info": {
   "codemirror_mode": {
    "name": "ipython",
    "version": 3
   },
   "file_extension": ".py",
   "mimetype": "text/x-python",
   "name": "python",
   "nbconvert_exporter": "python",
   "pygments_lexer": "ipython3",
   "version": "3.5.2"
  }
 },
 "nbformat": 4,
 "nbformat_minor": 2
}
