{
 "cells": [
  {
   "cell_type": "markdown",
   "metadata": {},
   "source": [
    "### Praproses Data"
   ]
  },
  {
   "cell_type": "markdown",
   "metadata": {},
   "source": [
    "1. Penyesuaian nama kolom dan bulan dengan bahasa Inggris\n",
    "2. Penambahan atribut tahun dan kota"
   ]
  },
  {
   "cell_type": "markdown",
   "metadata": {},
   "source": [
    "#### Data cuaca dan curah hujan kota Bandung\n",
    "##### Hadoop"
   ]
  },
  {
   "cell_type": "code",
   "execution_count": 2,
   "metadata": {},
   "outputs": [
    {
     "name": "stdout",
     "output_type": "stream",
     "text": [
      "lingkungan_hidup_bandung  Lingkungan Hidup Bandung.ipynb\r\n"
     ]
    }
   ],
   "source": [
    "!ls"
   ]
  },
  {
   "cell_type": "code",
   "execution_count": 14,
   "metadata": {},
   "outputs": [
    {
     "name": "stdout",
     "output_type": "stream",
     "text": [
      "18/12/18 09:53:15 WARN util.NativeCodeLoader: Unable to load native-hadoop library for your platform... using builtin-java classes where applicable\n",
      "Found 18 items\n",
      "-rw-r--r--   1 hadoop supergroup        485 2018-12-18 09:53 /user/hadoop/lh_bandung/raw_data/cuaca-dan-curah-hujan-di-kota-bandung-menurut-bulan-tahun-2013.csv\n",
      "-rw-r--r--   1 hadoop supergroup        518 2018-12-18 09:53 /user/hadoop/lh_bandung/raw_data/cuaca-dan-curah-hujan-di-kota-bandung-menurut-bulan-tahun-2014.csv\n",
      "-rw-r--r--   1 hadoop supergroup        620 2018-12-18 09:53 /user/hadoop/lh_bandung/raw_data/cuaca-dan-curah-hujan-di-kota-bandung-menurut-bulan-tahun-2015.csv\n",
      "-rw-r--r--   1 hadoop supergroup        670 2018-12-18 09:53 /user/hadoop/lh_bandung/raw_data/cuaca-dan-curah-hujan-di-kota-bandung-menurut-bulan-tahun-2016.csv\n",
      "-rw-r--r--   1 hadoop supergroup        595 2018-12-18 09:53 /user/hadoop/lh_bandung/raw_data/cuaca-dan-curah-hujan-di-kota-bandung-menurut-bulan-tahun-2017.csv\n",
      "-rw-r--r--   1 hadoop supergroup        315 2018-12-18 09:53 /user/hadoop/lh_bandung/raw_data/keadaan-udara-menurut-bulan-di-kota-bandung-2013.csv\n",
      "-rw-r--r--   1 hadoop supergroup        367 2018-12-18 09:53 /user/hadoop/lh_bandung/raw_data/keadaan-udara-menurut-bulan-di-kota-bandung-2014.csv\n",
      "-rw-r--r--   1 hadoop supergroup        408 2018-12-18 09:53 /user/hadoop/lh_bandung/raw_data/keadaan-udara-menurut-bulan-di-kota-bandung-2015.csv\n",
      "-rw-r--r--   1 hadoop supergroup        429 2018-12-18 09:53 /user/hadoop/lh_bandung/raw_data/keadaan-udara-menurut-bulan-di-kota-bandung-2016.csv\n",
      "-rw-r--r--   1 hadoop supergroup        435 2018-12-18 09:53 /user/hadoop/lh_bandung/raw_data/keadaan-udara-menurut-bulan-di-kota-bandung-2017.csv\n",
      "-rw-r--r--   1 hadoop supergroup        174 2018-12-18 09:53 /user/hadoop/lh_bandung/raw_data/kecepatan-angin-menurut-bulan-di-kota-bandung-2013.csv\n",
      "-rw-r--r--   1 hadoop supergroup        213 2018-12-18 09:53 /user/hadoop/lh_bandung/raw_data/kecepatan-angin-menurut-bulan-di-kota-bandung-2014.csv\n",
      "-rw-r--r--   1 hadoop supergroup        314 2018-12-18 09:53 /user/hadoop/lh_bandung/raw_data/kecepatan-angin-menurut-bulan-di-kota-bandung-2015.csv\n",
      "-rw-r--r--   1 hadoop supergroup        330 2018-12-18 09:53 /user/hadoop/lh_bandung/raw_data/kecepatan-angin-menurut-bulan-di-kota-bandung-2016.csv\n",
      "-rw-r--r--   1 hadoop supergroup        262 2018-12-18 09:53 /user/hadoop/lh_bandung/raw_data/kecepatan-angin-menurut-bulan-di-kota-bandung-2017.csv\n",
      "-rw-r--r--   1 hadoop supergroup        278 2018-12-18 09:53 /user/hadoop/lh_bandung/raw_data/produksi-sampah-menurut-jenisnya-di-kota-bandung-2014.csv\n",
      "-rw-r--r--   1 hadoop supergroup        284 2018-12-18 09:53 /user/hadoop/lh_bandung/raw_data/produksi-sampah-menurut-jenisnya-di-kota-bandung-2016.csv\n",
      "-rw-r--r--   1 hadoop supergroup        247 2018-12-18 09:53 /user/hadoop/lh_bandung/raw_data/produksi-sampah-menurut-jenisnya-di-kota-bandung-2017.csv\n"
     ]
    }
   ],
   "source": [
    "!hdfs dfs -ls /user/hadoop/lh_bandung/raw_data/"
   ]
  },
  {
   "cell_type": "code",
   "execution_count": 13,
   "metadata": {
    "scrolled": true
   },
   "outputs": [
    {
     "name": "stdout",
     "output_type": "stream",
     "text": [
      "18/12/18 09:53:08 WARN util.NativeCodeLoader: Unable to load native-hadoop library for your platform... using builtin-java classes where applicable\r\n"
     ]
    }
   ],
   "source": [
    "!hdfs dfs -put lingkungan_hidup_bandung/raw_data/* /user/hadoop/lh_bandung/raw_data/"
   ]
  },
  {
   "cell_type": "code",
   "execution_count": null,
   "metadata": {},
   "outputs": [],
   "source": [
    "# hapus file yang ada didalam direktori\n",
    "!hdfs dfs -rmr /user/hadoop/lh_bandung/clean_data/*"
   ]
  },
  {
   "cell_type": "markdown",
   "metadata": {},
   "source": [
    "### Spark dengan Pyspark"
   ]
  },
  {
   "cell_type": "code",
   "execution_count": 27,
   "metadata": {},
   "outputs": [],
   "source": [
    "# spark pakai pyspark\n",
    "from pyspark.sql import SparkSession\n",
    "from pyspark.sql.functions import lit\n",
    "from pyspark.sql.functions import monotonically_increasing_id\n",
    "from pyspark.sql.functions import format_number"
   ]
  },
  {
   "cell_type": "code",
   "execution_count": 2,
   "metadata": {},
   "outputs": [],
   "source": [
    "# buat spark session\n",
    "spark = SparkSession.builder.appName('Basics').getOrCreate()"
   ]
  },
  {
   "cell_type": "code",
   "execution_count": 57,
   "metadata": {},
   "outputs": [],
   "source": [
    "# read file csv di lokal\n",
    "df_13 = spark.read.json('lingkungan_hidup_bandung/clean_data/json/rainfall_bandung_2013.json')\n",
    "df_14 = spark.read.json('lingkungan_hidup_bandung/clean_data/json/rainfall_bandung_2014.json')\n",
    "df_15 = spark.read.json('lingkungan_hidup_bandung/clean_data/json/rainfall_bandung_2015.json')\n",
    "df_16 = spark.read.json('lingkungan_hidup_bandung/clean_data/json/rainfall_bandung_2016.json')\n",
    "df_17 = spark.read.json('lingkungan_hidup_bandung/clean_data/json/rainfall_bandung_2017.json')"
   ]
  },
  {
   "cell_type": "code",
   "execution_count": 3,
   "metadata": {},
   "outputs": [],
   "source": [
    "df = spark.read.csv('air_condition_bandung.csv', header='true', inferSchema='true')"
   ]
  },
  {
   "cell_type": "code",
   "execution_count": null,
   "metadata": {},
   "outputs": [],
   "source": [
    "# read file csv dari hdfs\n",
    "df = sqlContext.read.format('com.databricks.spark.csv').\\\n",
    "options(header='true', inferSchema='true').\\\n",
    "load(\"hdfs://localhost:9000/user/hadoop/lh_bandung/raw_data/cuaca-dan-curah-hujan-di-kota-bandung-menurut-bulan-tahun-2016.csv\")"
   ]
  },
  {
   "cell_type": "code",
   "execution_count": null,
   "metadata": {},
   "outputs": [],
   "source": [
    "# read file csv dari hdfs\n",
    "df = spark.read.format(\"csv\")\\\n",
    ".option(\"delimiter\", \",\")\\\n",
    ".option(\"header\", True)\\\n",
    ".load(\"hdfs://localhost:9000/user/hadoop/lh_bandung/raw_data/cuaca-dan-curah-hujan-di-kota-bandung-menurut-bulan-tahun-2017.csv\")"
   ]
  },
  {
   "cell_type": "code",
   "execution_count": 38,
   "metadata": {},
   "outputs": [],
   "source": [
    "# import modul tambahan\n",
    "import json\n",
    "import seaborn as sb\n",
    "import pandas as pd\n",
    "from matplotlib import pyplot as plt"
   ]
  },
  {
   "cell_type": "markdown",
   "metadata": {},
   "source": [
    "### Proses Data Cleaning"
   ]
  },
  {
   "cell_type": "code",
   "execution_count": 58,
   "metadata": {},
   "outputs": [
    {
     "name": "stdout",
     "output_type": "stream",
     "text": [
      "+------------+-------+-----------+---------+-----------------+----+\n",
      "|air_pressure|   city|evaporation|   months|relative_humidity|year|\n",
      "+------------+-------+-----------+---------+-----------------+----+\n",
      "|       923.3|Bandung|        3.9|  January|               79|2013|\n",
      "|       922.1|Bandung|        3.7| February|               80|2013|\n",
      "|       923.4|Bandung|        4.2|    March|               79|2013|\n",
      "|       922.7|Bandung|        3.2|    April|               82|2013|\n",
      "|       922.9|Bandung|        3.3|      May|               82|2013|\n",
      "|       922.1|Bandung|        3.4|     June|               78|2013|\n",
      "|       923.2|Bandung|        3.1|     July|               77|2013|\n",
      "|       923.9|Bandung|        4.2|   August|               71|2013|\n",
      "|       923.8|Bandung|        4.4|September|               70|2013|\n",
      "|       924.5|Bandung|        4.4|  October|               73|2013|\n",
      "|       922.5|Bandung|        4.0| November|               74|2013|\n",
      "|       922.5|Bandung|        3.5| December|               80|2013|\n",
      "|       923.9|Bandung|        3.8|  January|               82|2014|\n",
      "|       922.9|Bandung|        3.6| February|               80|2014|\n",
      "|       923.7|Bandung|        3.4|    March|               82|2014|\n",
      "|       923.6|Bandung|        3.7|    April|               81|2014|\n",
      "|       923.6|Bandung|        3.0|      May|               81|2014|\n",
      "|       923.1|Bandung|        2.7|     June|               80|2014|\n",
      "|       924.1|Bandung|        3.2|     July|               77|2014|\n",
      "|       924.4|Bandung|        3.7|   August|               73|2014|\n",
      "+------------+-------+-----------+---------+-----------------+----+\n",
      "only showing top 20 rows\n",
      "\n"
     ]
    }
   ],
   "source": [
    "# tampilkan dataframe\n",
    "df.show()"
   ]
  },
  {
   "cell_type": "code",
   "execution_count": 62,
   "metadata": {},
   "outputs": [],
   "source": [
    "# union dataframe\n",
    "join = join.union(df_17)"
   ]
  },
  {
   "cell_type": "code",
   "execution_count": 63,
   "metadata": {},
   "outputs": [
    {
     "name": "stdout",
     "output_type": "stream",
     "text": [
      "+---+--------+-------+--------+--------+---------+--------+---------+----+\n",
      "|LPM|avg_temp|   city|max_temp|min_temp|   months|rainfall|rainy_day|year|\n",
      "+---+--------+-------+--------+--------+---------+--------+---------+----+\n",
      "| 49|    23.4|Bandung|    28.3|    21.0|  January|   216.9|       26|2013|\n",
      "| 52|    23.4|Bandung|    28.6|    20.3| February|   250.0|       23|2013|\n",
      "| 58|    23.8|Bandung|    29.6|    20.4|    March|   305.0|       24|2013|\n",
      "| 52|     3.7|Bandung|    29.1|    20.7|    April|   286.0|       26|2013|\n",
      "| 53|    23.5|Bandung|    28.7|    20.3|      May|   171.0|       23|2013|\n",
      "| 61|    23.6|Bandung|    28.5|    20.3|     June|   231.5|       16|2013|\n",
      "| 58|    22.5|Bandung|    28.0|    19.0|     July|   159.0|       16|2013|\n",
      "| 79|     3.2|Bandung|    29.4|    18.5|   August|    74.0|        9|2013|\n",
      "| 77|    23.7|Bandung|    30.1|    19.1|September|   172.0|       10|2013|\n",
      "| 69|    23.8|Bandung|    30.0|    19.6|  October|   234.0|       21|2013|\n",
      "| 64|    23.8|Bandung|    29.8|    20.0| November|   164.0|       19|2013|\n",
      "| 40|    23.1|Bandung|    28.4|    20.1| December|   418.0|       27|2013|\n",
      "| 63|    22.5|Bandung|    27.0|    20.2|  January|   309.0|       27|2014|\n",
      "| 47|    22.9|Bandung|    27.8|    20.2| February|    88.9|       17|2014|\n",
      "| 52|    23.3|Bandung|    29.0|    20.0|    March|   418.7|       25|2014|\n",
      "| 64|    23.7|Bandung|    29.6|    20.4|    April|   217.6|       22|2014|\n",
      "| 58|    23.5|Bandung|    29.4|    20.0|      May|   176.7|       23|2014|\n",
      "| 57|    23.5|Bandung|    28.9|    19.9|     June|   195.5|       20|2014|\n",
      "| 66|    23.0|Bandung|    28.7|    19.3|     July|   180.6|       15|2014|\n",
      "| 77|    23.1|Bandung|    29.0|    18.8|   August|   119.8|       12|2014|\n",
      "+---+--------+-------+--------+--------+---------+--------+---------+----+\n",
      "only showing top 20 rows\n",
      "\n"
     ]
    }
   ],
   "source": [
    "join.show()"
   ]
  },
  {
   "cell_type": "code",
   "execution_count": 11,
   "metadata": {},
   "outputs": [],
   "source": [
    "group = df.groupBy('year')"
   ]
  },
  {
   "cell_type": "code",
   "execution_count": 13,
   "metadata": {},
   "outputs": [
    {
     "name": "stdout",
     "output_type": "stream",
     "text": [
      "+----+-----------------+------------------+----------------------+---------+\n",
      "|year|avg(air_pressure)|  avg(evaporation)|avg(relative_humidity)|avg(year)|\n",
      "+----+-----------------+------------------+----------------------+---------+\n",
      "|2015|924.1166666666667| 3.891666666666666|                  74.5|   2015.0|\n",
      "|2013|923.0749999999999|             3.775|     77.08333333333333|   2013.0|\n",
      "|2014|923.7416666666668| 3.608333333333333|     77.16666666666667|   2014.0|\n",
      "|2016|923.4500000000002| 3.216666666666667|     79.83333333333333|   2016.0|\n",
      "|2017|923.0666666666666|3.3249999999999997|     77.33333333333333|   2017.0|\n",
      "+----+-----------------+------------------+----------------------+---------+\n",
      "\n"
     ]
    }
   ],
   "source": [
    "group.avg().show()"
   ]
  },
  {
   "cell_type": "code",
   "execution_count": 64,
   "metadata": {},
   "outputs": [],
   "source": [
    "yearavg = join.select(['LPM','avg_temp', 'max_temp','min_temp','rainfall','rainy_day','year']).groupBy('year').avg()"
   ]
  },
  {
   "cell_type": "code",
   "execution_count": 65,
   "metadata": {},
   "outputs": [],
   "source": [
    "yearavg = yearavg.drop('avg(year)')"
   ]
  },
  {
   "cell_type": "code",
   "execution_count": 66,
   "metadata": {},
   "outputs": [
    {
     "name": "stdout",
     "output_type": "stream",
     "text": [
      "+----+------------------+------------------+------------------+------------------+------------------+------------------+\n",
      "|year|          avg(LPM)|     avg(avg_temp)|     avg(max_temp)|     avg(min_temp)|     avg(rainfall)|    avg(rainy_day)|\n",
      "+----+------------------+------------------+------------------+------------------+------------------+------------------+\n",
      "|2014|60.333333333333336|23.391666666666666|29.133333333333336| 19.76666666666667|198.77499999999998|18.833333333333332|\n",
      "|2016|51.583333333333336|23.749999999999996|29.224999999999998|             20.55| 295.7583333333333|              25.0|\n",
      "|2017|             56.25|23.516666666666666|29.183333333333334|            20.125|191.54166666666666|             19.75|\n",
      "|2013|59.333333333333336|            20.125|29.041666666666668|19.941666666666666|223.45000000000002|              20.0|\n",
      "|2015|              67.0| 23.53333333333333|29.849999999999998|19.491666666666664| 184.7416666666667|17.416666666666668|\n",
      "+----+------------------+------------------+------------------+------------------+------------------+------------------+\n",
      "\n"
     ]
    }
   ],
   "source": [
    "yearavg.show()"
   ]
  },
  {
   "cell_type": "code",
   "execution_count": 67,
   "metadata": {},
   "outputs": [],
   "source": [
    "yearavg = yearavg.withColumnRenamed('avg(LPM)','LPM')\n",
    "yearavg = yearavg.withColumnRenamed('avg(avg_temp)','avg_temp')\n",
    "yearavg = yearavg.withColumnRenamed('avg(max_temp)','max_temp')\n",
    "yearavg = yearavg.withColumnRenamed('avg(min_temp)','min_temp')\n",
    "yearavg = yearavg.withColumnRenamed('avg(rainfall)','rainfall')\n",
    "yearavg = yearavg.withColumnRenamed('avg(rainy_day)','rainy_day')"
   ]
  },
  {
   "cell_type": "code",
   "execution_count": 68,
   "metadata": {},
   "outputs": [],
   "source": [
    "yearavg = yearavg.select('year',format_number('LPM', 2).alias('LPM'),\n",
    "                         format_number('avg_temp', 2).alias('avg_temp'),\n",
    "                         format_number('max_temp', 2).alias('max_temp'),\n",
    "                         format_number('min_temp', 2).alias('min_temp'),\n",
    "                         format_number('rainfall', 2).alias('rainfall'),\n",
    "                         format_number('rainy_day', 2).alias('rainy_day')).orderBy('year')"
   ]
  },
  {
   "cell_type": "code",
   "execution_count": 69,
   "metadata": {},
   "outputs": [
    {
     "name": "stdout",
     "output_type": "stream",
     "text": [
      "root\n",
      " |-- year: long (nullable = true)\n",
      " |-- LPM: string (nullable = true)\n",
      " |-- avg_temp: string (nullable = true)\n",
      " |-- max_temp: string (nullable = true)\n",
      " |-- min_temp: string (nullable = true)\n",
      " |-- rainfall: string (nullable = true)\n",
      " |-- rainy_day: string (nullable = true)\n",
      "\n"
     ]
    }
   ],
   "source": [
    "yearavg.printSchema()"
   ]
  },
  {
   "cell_type": "code",
   "execution_count": 8,
   "metadata": {},
   "outputs": [
    {
     "name": "stdout",
     "output_type": "stream",
     "text": [
      "root\n",
      " |-- air_pressure: double (nullable = true)\n",
      " |-- city: string (nullable = true)\n",
      " |-- evaporation: double (nullable = true)\n",
      " |-- months: string (nullable = true)\n",
      " |-- relative_humidity: long (nullable = true)\n",
      " |-- year: long (nullable = true)\n",
      "\n"
     ]
    }
   ],
   "source": [
    "# print skema dataframe\n",
    "df.printSchema()"
   ]
  },
  {
   "cell_type": "code",
   "execution_count": null,
   "metadata": {},
   "outputs": [],
   "source": [
    "# select data tertentu dari dataframe\n",
    "df = df.select('months', 'avg_temp', 'max_temp', 'min_temp', 'rainfall', 'rainy_day', 'LPM', 'city', 'year')"
   ]
  },
  {
   "cell_type": "code",
   "execution_count": null,
   "metadata": {},
   "outputs": [],
   "source": [
    "# untuk menghapus missing value\n",
    "df = df.dropna()"
   ]
  },
  {
   "cell_type": "code",
   "execution_count": null,
   "metadata": {},
   "outputs": [],
   "source": [
    "# tambahkan kolom data baru\n",
    "df = df.withColumn('city',lit('Bandung'))\n",
    "df = df.withColumn('year',lit('2017'))"
   ]
  },
  {
   "cell_type": "code",
   "execution_count": null,
   "metadata": {},
   "outputs": [],
   "source": [
    "# ganti nama kolom di dataframe\n",
    "df = df.withColumnRenamed('Bulan', 'months')\n",
    "df = df.withColumnRenamed('Temperatur Rata-rata (oC)', 'avg_temp')\n",
    "df = df.withColumnRenamed('Temperatur Maksimal (oC)', 'max_temp')\n",
    "df = df.withColumnRenamed('Temperatur Minimal (oC)', 'min_temp')\n",
    "df = df.withColumnRenamed('Jumlah Curah Hujan (mm)', 'rainfall')\n",
    "df = df.withColumnRenamed('Hari Hujan (hari)', 'rainy_day')\n",
    "df = df.withColumnRenamed('LPM/Sunshine Duration (%)', 'LPM')"
   ]
  },
  {
   "cell_type": "code",
   "execution_count": null,
   "metadata": {},
   "outputs": [],
   "source": []
  },
  {
   "cell_type": "code",
   "execution_count": null,
   "metadata": {},
   "outputs": [],
   "source": []
  },
  {
   "cell_type": "code",
   "execution_count": null,
   "metadata": {},
   "outputs": [],
   "source": []
  },
  {
   "cell_type": "markdown",
   "metadata": {},
   "source": [
    "##### export data jadi file json"
   ]
  },
  {
   "cell_type": "code",
   "execution_count": 70,
   "metadata": {},
   "outputs": [],
   "source": [
    "# export dataframe ke json\n",
    "results = yearavg.toJSON().map(lambda j: json.loads(j)).collect()"
   ]
  },
  {
   "cell_type": "code",
   "execution_count": 71,
   "metadata": {},
   "outputs": [],
   "source": [
    "# write file json ke lokal\n",
    "with open('rainfall_bandung.json', 'w') as f:\n",
    "     json.dump(results, f)"
   ]
  },
  {
   "cell_type": "code",
   "execution_count": null,
   "metadata": {},
   "outputs": [],
   "source": [
    "# save file csv ke hdfs\n",
    "df.coalesce(1).write.csv('hdfs://localhost:9000/user/hadoop/lh_bandung/clean_data/rainfall_bandung_2014.csv', header='true')"
   ]
  },
  {
   "cell_type": "code",
   "execution_count": 72,
   "metadata": {},
   "outputs": [],
   "source": [
    "# save file csv ke local\n",
    "join.coalesce(1).write.format('csv').save('rainfall_bandung.csv',header = 'true')"
   ]
  },
  {
   "cell_type": "code",
   "execution_count": null,
   "metadata": {},
   "outputs": [],
   "source": []
  },
  {
   "cell_type": "code",
   "execution_count": null,
   "metadata": {},
   "outputs": [],
   "source": []
  },
  {
   "cell_type": "code",
   "execution_count": null,
   "metadata": {},
   "outputs": [],
   "source": []
  },
  {
   "cell_type": "markdown",
   "metadata": {},
   "source": [
    "#### Data keadaan udara kota Bandung"
   ]
  },
  {
   "cell_type": "code",
   "execution_count": 254,
   "metadata": {},
   "outputs": [],
   "source": [
    "#read data yang ada di hdfs\n",
    "df = spark.read.format(\"csv\")\\\n",
    ".option(\"delimiter\", \",\")\\\n",
    ".option(\"header\", True)\\\n",
    ".load(\"hdfs://localhost:9000/user/hadoop/lh_bandung/raw_data/keadaan-udara-menurut-bulan-di-kota-bandung-2017.csv\")"
   ]
  },
  {
   "cell_type": "code",
   "execution_count": 45,
   "metadata": {},
   "outputs": [],
   "source": [
    "# read file csv di lokal\n",
    "df = spark.read.csv('lingkungan_hidup_bandung/clean_data/air_condition_bandung_2017.csv', header='true', inferSchema='true')"
   ]
  },
  {
   "cell_type": "code",
   "execution_count": 255,
   "metadata": {},
   "outputs": [
    {
     "name": "stdout",
     "output_type": "stream",
     "text": [
      "+-----+---------+--------------+------------------+--------------------+----+----+----+----+----+----+----+\n",
      "|Nomor|B u l a n|Penguapan (mm)|Tekanan Udara (mb)|Kelembapan Nisbi (%)| _c5| _c6| _c7| _c8| _c9|_c10|_c11|\n",
      "+-----+---------+--------------+------------------+--------------------+----+----+----+----+----+----+----+\n",
      "|    1|  Januari|           3.6|             922.3|                  75|null|null|null|null|null|null|null|\n",
      "|    2| Februari|             3|             923.2|                  81|null|null|null|null|null|null|null|\n",
      "|    3|    Maret|           3.5|             923.3|                  80|null|null|null|null|null|null|null|\n",
      "|    4|    April|             3|             923.4|                  81|null|null|null|null|null|null|null|\n",
      "|    5|      Mei|           3.1|             923.3|                  78|null|null|null|null|null|null|null|\n",
      "|    6|     Juni|           2.6|             923.9|                  79|null|null|null|null|null|null|null|\n",
      "|    7|     Juli|           3.1|               924|                  74|null|null|null|null|null|null|null|\n",
      "|    8|  Agustus|           3.9|             923.6|                  71|null|null|null|null|null|null|null|\n",
      "|    9|September|           3.7|             923.9|                  71|null|null|null|null|null|null|null|\n",
      "|   10|  Oktober|           3.5|             922.8|                  80|null|null|null|null|null|null|null|\n",
      "|   11| November|             3|             921.1|                  82|null|null|null|null|null|null|null|\n",
      "|   12| Desember|           3.9|               922|                  76|null|null|null|null|null|null|null|\n",
      "+-----+---------+--------------+------------------+--------------------+----+----+----+----+----+----+----+\n",
      "\n"
     ]
    }
   ],
   "source": [
    "df.show()"
   ]
  },
  {
   "cell_type": "code",
   "execution_count": 256,
   "metadata": {},
   "outputs": [],
   "source": [
    "# kolom bahasa inggris\n",
    "# months, evaporation, air pressure, relative humidity\n",
    "#tambahkan kolom data baru\n",
    "df = df.withColumn('city',lit('Bandung'))\n",
    "df = df.withColumn('year',lit('2017'))"
   ]
  },
  {
   "cell_type": "code",
   "execution_count": 260,
   "metadata": {
    "scrolled": true
   },
   "outputs": [],
   "source": [
    "#ganti nama kolom\n",
    "df = df.withColumnRenamed('B u l a n', 'months')\n",
    "df = df.withColumnRenamed('Penguapan (mm)', 'evaporation')\n",
    "df = df.withColumnRenamed('Tekanan udara (mb)', 'air_pressure')\n",
    "df = df.withColumnRenamed('Kelembapan Nisbi (%)', 'relative_humidity')"
   ]
  },
  {
   "cell_type": "code",
   "execution_count": 262,
   "metadata": {},
   "outputs": [],
   "source": [
    "df = df.select('months','evaporation','air_pressure','relative_humidity','city','year')"
   ]
  },
  {
   "cell_type": "code",
   "execution_count": 263,
   "metadata": {},
   "outputs": [],
   "source": [
    "#save ke local\n",
    "df.coalesce(1).write.format('csv').save('air_condition_bandung_2017.csv',header = 'true')"
   ]
  },
  {
   "cell_type": "code",
   "execution_count": 46,
   "metadata": {},
   "outputs": [],
   "source": [
    "# export dataframe ke json\n",
    "results = df.toJSON().map(lambda j: json.loads(j)).collect()"
   ]
  },
  {
   "cell_type": "code",
   "execution_count": 47,
   "metadata": {},
   "outputs": [],
   "source": [
    "# write file json ke lokal\n",
    "with open('air_condition_bandung_2017.json', 'w') as f:\n",
    "     json.dump(results, f)"
   ]
  },
  {
   "cell_type": "code",
   "execution_count": null,
   "metadata": {},
   "outputs": [],
   "source": []
  },
  {
   "cell_type": "code",
   "execution_count": null,
   "metadata": {},
   "outputs": [],
   "source": []
  },
  {
   "cell_type": "code",
   "execution_count": 54,
   "metadata": {},
   "outputs": [],
   "source": [
    "df_json = df.toJSON()\n",
    "row = df_json.collect()"
   ]
  },
  {
   "cell_type": "code",
   "execution_count": 131,
   "metadata": {},
   "outputs": [],
   "source": [
    "with open('JSONData.json', 'w') as f:\n",
    "     json.dump(results, f)"
   ]
  },
  {
   "cell_type": "code",
   "execution_count": 61,
   "metadata": {},
   "outputs": [
    {
     "data": {
      "text/plain": [
       "{'LPM': 49,\n",
       " 'avg_temp': 23.4,\n",
       " 'city': 'Bandung',\n",
       " 'max_temp': 28.3,\n",
       " 'min_temp': 21.0,\n",
       " 'months': 'January',\n",
       " 'rainfall': 216.9,\n",
       " 'rainy_day': 26,\n",
       " 'year': 2013}"
      ]
     },
     "execution_count": 61,
     "metadata": {},
     "output_type": "execute_result"
    }
   ],
   "source": [
    "# toJSON() turns each row of the DataFrame into a JSON string\n",
    "# calling first() on the result will fetch the first row.\n",
    "results = json.loads(df.toJSON().first())\n",
    "\n",
    "#for key in results:\n",
    "#    print (results['rainfall'])\n",
    "results"
   ]
  },
  {
   "cell_type": "code",
   "execution_count": 16,
   "metadata": {},
   "outputs": [],
   "source": [
    "# To decode the entire DataFrame iterate over the result\n",
    "# of toJSON()\n",
    "\n",
    "def print_rows(row):\n",
    "    data = json.loads(row)\n",
    "    for key in data:\n",
    "        print (\"{key}:{value}\".format(key=key, value=data[key]))"
   ]
  },
  {
   "cell_type": "code",
   "execution_count": 31,
   "metadata": {},
   "outputs": [],
   "source": []
  },
  {
   "cell_type": "code",
   "execution_count": 76,
   "metadata": {},
   "outputs": [],
   "source": [
    "data = json.loads(json.dumps(row))"
   ]
  },
  {
   "cell_type": "code",
   "execution_count": null,
   "metadata": {},
   "outputs": [],
   "source": []
  },
  {
   "cell_type": "markdown",
   "metadata": {},
   "source": [
    "#### Data kecepatan angin Bandung"
   ]
  },
  {
   "cell_type": "code",
   "execution_count": 95,
   "metadata": {},
   "outputs": [],
   "source": [
    "# read file csv di lokal\n",
    "df = spark.read.csv('lingkungan_hidup_bandung/raw_data/kecepatan-angin-menurut-bulan-di-kota-bandung-2017.csv', header='true', inferSchema='true')"
   ]
  },
  {
   "cell_type": "code",
   "execution_count": 96,
   "metadata": {},
   "outputs": [
    {
     "name": "stdout",
     "output_type": "stream",
     "text": [
      "+---------+--------------------------------+-------------------------------+\n",
      "|    Bulan|Kecepatan Angin Rata-rata (knot)|Kecepatan Angin Terbesar (knot)|\n",
      "+---------+--------------------------------+-------------------------------+\n",
      "|  January|                               5|                             19|\n",
      "| February|                               5|                             16|\n",
      "|    March|                               5|                             12|\n",
      "|    April|                               4|                             15|\n",
      "|      May|                               4|                             10|\n",
      "|     June|                               4|                             10|\n",
      "|     July|                               5|                             10|\n",
      "|   August|                               5|                              8|\n",
      "|September|                               4|                              8|\n",
      "|  October|                               4|                             13|\n",
      "| November|                               5|                             16|\n",
      "| December|                               6|                             16|\n",
      "+---------+--------------------------------+-------------------------------+\n",
      "\n"
     ]
    }
   ],
   "source": [
    "df.show()"
   ]
  },
  {
   "cell_type": "code",
   "execution_count": 97,
   "metadata": {},
   "outputs": [],
   "source": [
    "# kolom bahasa inggris\n",
    "# months, evaporation, air pressure, relative humidity\n",
    "#tambahkan kolom data baru\n",
    "df = df.withColumn('city',lit('Bandung'))\n",
    "df = df.withColumn('year',lit('2017'))"
   ]
  },
  {
   "cell_type": "code",
   "execution_count": 98,
   "metadata": {},
   "outputs": [
    {
     "name": "stdout",
     "output_type": "stream",
     "text": [
      "+---------+--------------------------------+-------------------------------+-------+----+\n",
      "|    Bulan|Kecepatan Angin Rata-rata (knot)|Kecepatan Angin Terbesar (knot)|   city|year|\n",
      "+---------+--------------------------------+-------------------------------+-------+----+\n",
      "|  January|                               5|                             19|Bandung|2017|\n",
      "| February|                               5|                             16|Bandung|2017|\n",
      "|    March|                               5|                             12|Bandung|2017|\n",
      "|    April|                               4|                             15|Bandung|2017|\n",
      "|      May|                               4|                             10|Bandung|2017|\n",
      "|     June|                               4|                             10|Bandung|2017|\n",
      "|     July|                               5|                             10|Bandung|2017|\n",
      "|   August|                               5|                              8|Bandung|2017|\n",
      "|September|                               4|                              8|Bandung|2017|\n",
      "|  October|                               4|                             13|Bandung|2017|\n",
      "| November|                               5|                             16|Bandung|2017|\n",
      "| December|                               6|                             16|Bandung|2017|\n",
      "+---------+--------------------------------+-------------------------------+-------+----+\n",
      "\n"
     ]
    }
   ],
   "source": [
    "df.show()"
   ]
  },
  {
   "cell_type": "code",
   "execution_count": 99,
   "metadata": {},
   "outputs": [],
   "source": [
    "#ganti nama kolom\n",
    "df = df.withColumnRenamed('Bulan', 'months')\n",
    "df = df.withColumnRenamed('Kecepatan Angin Rata-rata (knot)', 'avg_speed')\n",
    "df = df.withColumnRenamed('Kecepatan Angin Terbesar (knot)', 'max_speed')"
   ]
  },
  {
   "cell_type": "code",
   "execution_count": 100,
   "metadata": {},
   "outputs": [
    {
     "name": "stdout",
     "output_type": "stream",
     "text": [
      "+---------+---------+---------+-------+----+\n",
      "|   months|avg_speed|max_speed|   city|year|\n",
      "+---------+---------+---------+-------+----+\n",
      "|  January|        5|       19|Bandung|2017|\n",
      "| February|        5|       16|Bandung|2017|\n",
      "|    March|        5|       12|Bandung|2017|\n",
      "|    April|        4|       15|Bandung|2017|\n",
      "|      May|        4|       10|Bandung|2017|\n",
      "|     June|        4|       10|Bandung|2017|\n",
      "|     July|        5|       10|Bandung|2017|\n",
      "|   August|        5|        8|Bandung|2017|\n",
      "|September|        4|        8|Bandung|2017|\n",
      "|  October|        4|       13|Bandung|2017|\n",
      "| November|        5|       16|Bandung|2017|\n",
      "| December|        6|       16|Bandung|2017|\n",
      "+---------+---------+---------+-------+----+\n",
      "\n"
     ]
    }
   ],
   "source": [
    "df.show()"
   ]
  },
  {
   "cell_type": "code",
   "execution_count": 101,
   "metadata": {},
   "outputs": [],
   "source": [
    "# export dataframe ke json\n",
    "results = df.toJSON().map(lambda j: json.loads(j)).collect()"
   ]
  },
  {
   "cell_type": "code",
   "execution_count": 102,
   "metadata": {},
   "outputs": [],
   "source": [
    "# write file json ke lokal\n",
    "with open('wind_bandung_2017.json', 'w') as f:\n",
    "     json.dump(results, f)"
   ]
  },
  {
   "cell_type": "code",
   "execution_count": null,
   "metadata": {},
   "outputs": [],
   "source": []
  }
 ],
 "metadata": {
  "kernelspec": {
   "display_name": "Python 3",
   "language": "python",
   "name": "python3"
  },
  "language_info": {
   "codemirror_mode": {
    "name": "ipython",
    "version": 3
   },
   "file_extension": ".py",
   "mimetype": "text/x-python",
   "name": "python",
   "nbconvert_exporter": "python",
   "pygments_lexer": "ipython3",
   "version": "3.5.2"
  }
 },
 "nbformat": 4,
 "nbformat_minor": 2
}
